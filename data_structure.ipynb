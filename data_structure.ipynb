{
 "cells": [
  {
   "cell_type": "markdown",
   "metadata": {},
   "source": [
    "### Offer 20"
   ]
  },
  {
   "cell_type": "code",
   "execution_count": 185,
   "metadata": {},
   "outputs": [
    {
     "name": "stdout",
     "output_type": "stream",
     "text": [
      "True\n",
      "False\n"
     ]
    }
   ],
   "source": [
    "import re\n",
    "\n",
    "class Solution:\n",
    "    def isNumber(self, s: str) -> bool:\n",
    "        match = re.search(r\"\\s*[+-]?(\\d+\\.\\d*|\\.\\d+|\\d+)([eE][+-]?\\d+)?\\s*\", s)\n",
    "        if match == None or match.group() != s:\n",
    "            return False\n",
    "        return True\n",
    "\n",
    "s = Solution()\n",
    "print(s.isNumber(\"3.e+12\"))\n",
    "print(s.isNumber(\".\"))"
   ]
  },
  {
   "cell_type": "markdown",
   "metadata": {},
   "source": [
    "### Offer 24"
   ]
  },
  {
   "cell_type": "code",
   "execution_count": 194,
   "metadata": {},
   "outputs": [
    {
     "name": "stdout",
     "output_type": "stream",
     "text": [
      "4\n",
      "3\n",
      "2\n",
      "1\n",
      "0\n"
     ]
    }
   ],
   "source": [
    "# Definition for singly-linked list.\n",
    "class ListNode:\n",
    "    def __init__(self, x):\n",
    "        self.val = x\n",
    "        self.next = None\n",
    "    def append(self, x):\n",
    "        self.next = ListNode(x)\n",
    "        return self.next\n",
    "    \n",
    "class Solution:\n",
    "    def reverseList(self, head: ListNode) -> ListNode:        \n",
    "        if head == None:\n",
    "            return None\n",
    "        \n",
    "        pre = None\n",
    "        cur = head\n",
    "        while cur:            \n",
    "            temp = cur.next\n",
    "            cur.next = pre\n",
    "            pre = cur\n",
    "            cur = temp\n",
    "        \n",
    "        return pre\n",
    "\n",
    "\n",
    "head = ListNode(0)\n",
    "head.append(1).append(2).append(3).append(4)\n",
    "\n",
    "s = Solution()\n",
    "new_head = s.reverseList(head)\n",
    "while new_head:\n",
    "    print(new_head.val)\n",
    "    new_head = new_head.next"
   ]
  },
  {
   "cell_type": "markdown",
   "metadata": {},
   "source": [
    "### Offer 30"
   ]
  },
  {
   "cell_type": "code",
   "execution_count": 218,
   "metadata": {},
   "outputs": [
    {
     "name": "stdout",
     "output_type": "stream",
     "text": [
      "-3\n",
      "0\n",
      "-2\n"
     ]
    }
   ],
   "source": [
    "class MinStack:\n",
    "    def __init__(self):\n",
    "        \"\"\"\n",
    "        initialize your data structure here.\n",
    "        \"\"\"\n",
    "        self.stack = []\n",
    "        self.min_stack = []\n",
    "\n",
    "    def push(self, x: int) -> None:\n",
    "        if len(self.min_stack) == 0 or x <= self.min_stack[-1]:\n",
    "            self.min_stack.append(x)\n",
    "\n",
    "        self.stack.append(x)\n",
    "\n",
    "    def pop(self) -> None:\n",
    "        if len(self.stack) == 0:\n",
    "            return None\n",
    "        \n",
    "        top_value = self.stack.pop()\n",
    "        if top_value == self.min_stack[-1]:\n",
    "            self.min_stack.pop()\n",
    "\n",
    "\n",
    "    def top(self) -> int:\n",
    "        if len(self.stack) == 0:\n",
    "            return None\n",
    "        \n",
    "        return self.stack[-1]\n",
    "\n",
    "    def min(self) -> int:\n",
    "        if len(self.min_stack) == 0:\n",
    "            return None\n",
    "        \n",
    "        return self.min_stack[-1]\n",
    "\n",
    "minStack = MinStack()\n",
    "minStack.push(-2)\n",
    "minStack.push(0)\n",
    "minStack.push(-3)\n",
    "print(minStack.min())  #   --> 返回 -3.\n",
    "minStack.pop()\n",
    "print(minStack.top())  #   --> 返回 0.\n",
    "print(minStack.min())  #   --> 返回 -2."
   ]
  },
  {
   "cell_type": "markdown",
   "metadata": {},
   "source": [
    "### Offer 35"
   ]
  },
  {
   "cell_type": "code",
   "execution_count": 220,
   "metadata": {},
   "outputs": [],
   "source": [
    "\"\"\"\n",
    "# Definition for a Node.\n",
    "class Node:\n",
    "    def __init__(self, x: int, next: 'Node' = None, random: 'Node' = None):\n",
    "        self.val = int(x)\n",
    "        self.next = next\n",
    "        self.random = random\n",
    "\"\"\"\n",
    "\n",
    "class Node:\n",
    "    def __init__(self, x: int, next: 'Node' = None, random: 'Node' = None):\n",
    "        self.val = int(x)\n",
    "        self.next = next\n",
    "        self.random = random\n",
    "\n",
    "class Solution:\n",
    "    def copyRandomList(self, head: 'Node') -> 'Node':\n",
    "        if not head:\n",
    "            return None\n",
    "\n",
    "        cur = head\n",
    "        new_pre = None\n",
    "        new_head = None\n",
    "        node_map = {}\n",
    "\n",
    "        while cur:\n",
    "            new_cur = Node(cur.val)\n",
    "            if not new_head:\n",
    "                new_head = new_cur\n",
    "\n",
    "            if new_pre:\n",
    "                new_pre.next = new_cur\n",
    "\n",
    "            new_pre = new_cur\n",
    "            node_map[cur] = new_cur\n",
    "            cur = cur.next\n",
    "        \n",
    "        cur = head\n",
    "        while cur:\n",
    "            if cur.random != None:\n",
    "                node_map[cur].random = node_map[cur.random]\n",
    "            else:\n",
    "                node_map[cur].random = None\n",
    "\n",
    "            cur = cur.next\n",
    "        \n",
    "        return new_head\n"
   ]
  },
  {
   "cell_type": "markdown",
   "metadata": {},
   "source": [
    "### 58"
   ]
  },
  {
   "cell_type": "code",
   "execution_count": 223,
   "metadata": {},
   "outputs": [
    {
     "data": {
      "text/plain": [
       "'ada'"
      ]
     },
     "execution_count": 223,
     "metadata": {},
     "output_type": "execute_result"
    }
   ],
   "source": [
    "s=\"ad\"\n",
    "s + s[0]"
   ]
  },
  {
   "cell_type": "code",
   "execution_count": 228,
   "metadata": {},
   "outputs": [
    {
     "data": {
      "text/plain": [
       "'fgabcde'"
      ]
     },
     "execution_count": 228,
     "metadata": {},
     "output_type": "execute_result"
    }
   ],
   "source": [
    "class Solution:\n",
    "    def reverseLeftWords(self, s: str, n: int) -> str:\n",
    "        for i in range(n):\n",
    "            s = s + s[i]\n",
    "        \n",
    "        return s[n:]\n",
    "    \n",
    "s = Solution()\n",
    "\n",
    "s.reverseLeftWords(\"abcdefg\", 5)"
   ]
  },
  {
   "cell_type": "markdown",
   "metadata": {},
   "source": [
    "### 59 - I"
   ]
  },
  {
   "cell_type": "code",
   "execution_count": 40,
   "metadata": {},
   "outputs": [],
   "source": [
    "from typing import List\n",
    "from collections import deque\n",
    "\n",
    "class Solution:\n",
    "    def __init__(self) -> None:\n",
    "        self.max_candidate_queue = deque()\n",
    "        self.max_queue = []\n",
    "\n",
    "    def step(self, num: int, k: int):\n",
    "        for i in range(0, len(self.max_candidate_queue)):\n",
    "            if num > self.max_candidate_queue[-1]:\n",
    "                self.max_candidate_queue.pop()\n",
    "            else:\n",
    "                break\n",
    "        \n",
    "        self.max_candidate_queue.append(num)\n",
    "            \n",
    "        return self.max_candidate_queue[0]\n",
    "\n",
    "    def maxSlidingWindow(self, nums: List[int], k: int) -> List[int]:\n",
    "        self.max_candidate_queue = deque()\n",
    "        self.max_queue = []\n",
    "\n",
    "        #Init\n",
    "        for i in range(0, k):\n",
    "            self.step(nums[i], k)\n",
    "        \n",
    "        self.max_queue.append(self.max_candidate_queue[0])\n",
    "\n",
    "        #Move Window\n",
    "        for i in range(k, len(nums)):\n",
    "            if nums[i - k] == self.max_candidate_queue[0]:\n",
    "                self.max_candidate_queue.popleft()\n",
    "\n",
    "            self.max_queue.append(self.step(nums[i], k))\n",
    "                \n",
    "        return self.max_queue"
   ]
  },
  {
   "cell_type": "code",
   "execution_count": 42,
   "metadata": {},
   "outputs": [
    {
     "data": {
      "text/plain": [
       "[3, 3, 5, 5, 6, 7]"
      ]
     },
     "execution_count": 42,
     "metadata": {},
     "output_type": "execute_result"
    }
   ],
   "source": [
    "s=Solution()\n",
    "s.maxSlidingWindow([1,3,-1,-3,5,3,6,7], 3)"
   ]
  },
  {
   "cell_type": "markdown",
   "metadata": {},
   "source": [
    "### 59 - II"
   ]
  },
  {
   "cell_type": "code",
   "execution_count": 63,
   "metadata": {},
   "outputs": [
    {
     "name": "stdout",
     "output_type": "stream",
     "text": [
      "deque([1]) deque([1])\n",
      "None\n",
      "deque([2]) deque([1, 2])\n",
      "None\n",
      "2\n",
      "deque([2, 2]) deque([1, 2, 2])\n",
      "None\n",
      "2\n",
      "deque([3]) deque([1, 2, 2, 3])\n",
      "None\n",
      "3\n",
      "deque([4]) deque([1, 2, 2, 3, 4])\n",
      "None\n",
      "4\n",
      "1\n",
      "4\n"
     ]
    }
   ],
   "source": [
    "from collections import deque\n",
    "\n",
    "class MaxQueue:\n",
    "    def __init__(self):\n",
    "        self.queue = deque()\n",
    "        self.max_queue = deque()\n",
    "\n",
    "    def max_value(self) -> int:\n",
    "        if len(self.max_queue) == 0:\n",
    "            return -1\n",
    "        \n",
    "        return self.max_queue[0]\n",
    "\n",
    "    def push_back(self, value: int) -> None:\n",
    "        while len(self.max_queue) > 0 and value > self.max_queue[-1]:\n",
    "            self.max_queue.pop()\n",
    "\n",
    "        self.max_queue.append(value)\n",
    "                            \n",
    "        self.queue.append(value)\n",
    "        # print(self.max_queue, self.queue)\n",
    "\n",
    "    def pop_front(self) -> int:\n",
    "        if len(self.queue) == 0:\n",
    "            return -1\n",
    "        \n",
    "        if self.queue[0] == self.max_queue[0]:\n",
    "            self.max_queue.popleft()\n",
    "\n",
    "        return self.queue.popleft()\n",
    "\n",
    "\n",
    "# Your MaxQueue object will be instantiated and called as such:\n",
    "#[\"MaxQueue\",\"push_back\",\"push_back\",\"max_value\",\"pop_front\",\"max_value\"]\n",
    "#[[],[1],[2],[],[],[]]\n",
    "obj = MaxQueue()\n",
    "print(obj.push_back(1))\n",
    "print(obj.push_back(2))\n",
    "print(obj.max_value())\n",
    "print(obj.push_back(2))\n",
    "print(obj.max_value())\n",
    "print(obj.push_back(3))\n",
    "print(obj.max_value())\n",
    "print(obj.push_back(4))\n",
    "print(obj.max_value())\n",
    "print(obj.pop_front())\n",
    "print(obj.max_value())"
   ]
  },
  {
   "cell_type": "code",
   "execution_count": 61,
   "metadata": {},
   "outputs": [
    {
     "name": "stdout",
     "output_type": "stream",
     "text": [
      "MaxQueue [] None None\n",
      "max_value [] -1 -1\n",
      "pop_front [] -1 -1\n",
      "max_value [] -1 -1\n",
      "push_back [46] None None\n",
      "max_value [] 46 46\n",
      "pop_front [] 46 46\n",
      "max_value [] -1 -1\n",
      "pop_front [] -1 -1\n",
      "push_back [868] None None\n",
      "pop_front [] 868 868\n",
      "pop_front [] -1 -1\n",
      "pop_front [] -1 -1\n",
      "push_back [525] None None\n",
      "pop_front [] 525 525\n",
      "max_value [] -1 -1\n",
      "pop_front [] -1 -1\n",
      "max_value [] -1 -1\n",
      "push_back [123] None None\n",
      "push_back [646] None None\n",
      "max_value [] 646 646\n",
      "push_back [229] None None\n",
      "max_value [] 646 646\n",
      "max_value [] 646 646\n",
      "max_value [] 646 646\n",
      "push_back [871] None None\n",
      "pop_front [] 123 123\n",
      "max_value [] 871 871\n",
      "push_back [285] None None\n",
      "max_value [] 871 871\n",
      "max_value [] 871 871\n",
      "max_value [] 871 871\n",
      "pop_front [] 646 646\n",
      "push_back [45] None None\n",
      "push_back [140] None None\n",
      "push_back [837] None None\n",
      "push_back [545] None None\n",
      "pop_front [] 229 229\n",
      "pop_front [] 871 871\n",
      "max_value [] 545 837\n",
      "pop_front [] 285 285\n",
      "pop_front [] 45 45\n",
      "max_value [] 545 837\n",
      "push_back [561] None None\n",
      "push_back [237] None None\n",
      "pop_front [] 140 140\n",
      "push_back [633] None None\n",
      "push_back [98] None None\n",
      "push_back [806] None None\n",
      "push_back [717] None None\n",
      "pop_front [] 837 837\n",
      "max_value [] 806 806\n",
      "push_back [186] None None\n",
      "max_value [] 806 806\n",
      "max_value [] 806 806\n",
      "pop_front [] 545 545\n",
      "max_value [] 806 806\n",
      "max_value [] 806 806\n",
      "max_value [] 806 806\n",
      "push_back [268] None None\n",
      "pop_front [] 561 561\n",
      "push_back [29] None None\n",
      "pop_front [] 237 237\n",
      "max_value [] 806 806\n",
      "max_value [] 806 806\n",
      "max_value [] 806 806\n",
      "push_back [866] None None\n",
      "pop_front [] 633 633\n",
      "push_back [239] None None\n",
      "push_back [3] None None\n",
      "push_back [850] None None\n",
      "pop_front [] 98 98\n",
      "max_value [] 866 866\n",
      "pop_front [] 806 806\n",
      "max_value [] 866 866\n",
      "max_value [] 866 866\n",
      "max_value [] 866 866\n",
      "pop_front [] 717 717\n",
      "push_back [310] None None\n",
      "pop_front [] 186 186\n",
      "push_back [674] None None\n",
      "push_back [770] None None\n",
      "pop_front [] 268 268\n"
     ]
    }
   ],
   "source": [
    "calls = [\"MaxQueue\",\"max_value\",\"pop_front\",\"max_value\",\"push_back\",\"max_value\",\"pop_front\",\"max_value\",\"pop_front\",\"push_back\",\"pop_front\",\"pop_front\",\"pop_front\",\"push_back\",\"pop_front\",\"max_value\",\"pop_front\",\"max_value\",\"push_back\",\"push_back\",\"max_value\",\"push_back\",\"max_value\",\"max_value\",\"max_value\",\"push_back\",\"pop_front\",\"max_value\",\"push_back\",\"max_value\",\"max_value\",\"max_value\",\"pop_front\",\"push_back\",\"push_back\",\"push_back\",\"push_back\",\"pop_front\",\"pop_front\",\"max_value\",\"pop_front\",\"pop_front\",\"max_value\",\"push_back\",\"push_back\",\"pop_front\",\"push_back\",\"push_back\",\"push_back\",\"push_back\",\"pop_front\",\"max_value\",\"push_back\",\"max_value\",\"max_value\",\"pop_front\",\"max_value\",\"max_value\",\"max_value\",\"push_back\",\"pop_front\",\"push_back\",\"pop_front\",\"max_value\",\"max_value\",\"max_value\",\"push_back\",\"pop_front\",\"push_back\",\"push_back\",\"push_back\",\"pop_front\",\"max_value\",\"pop_front\",\"max_value\",\"max_value\",\"max_value\",\"pop_front\",\"push_back\",\"pop_front\",\"push_back\",\"push_back\",\"pop_front\"]\n",
    "parameters = [[],[],[],[],[46],[],[],[],[],[868],[],[],[],[525],[],[],[],[],[123],[646],[],[229],[],[],[],[871],[],[],[285],[],[],[],[],[45],[140],[837],[545],[],[],[],[],[],[],[561],[237],[],[633],[98],[806],[717],[],[],[186],[],[],[],[],[],[],[268],[],[29],[],[],[],[],[866],[],[239],[3],[850],[],[],[],[],[],[],[],[310],[],[674],[770],[],[525],[],[425],[],[],[720],[],[],[],[373],[411],[],[831],[],[765],[701],[]]\n",
    "\n",
    "results1 = [None,-1,-1,-1,None,46,46,-1,-1,None,868,-1,-1,None,525,-1,-1,-1,None,None,646,None,646,646,646,None,123,871,None,871,871,871,646,None,None,None,None,229,871,545,285,45,545,None,None,140,None,None,None,None,837,806,None,806,806,545,806,806,806,None,561,None,237,806,806,806,None,633,None,None,None,98,866,806,866,866,866,717,None,186,None,None,268,None,29,None,866,239,None,3,850,310,None,None,720,None,674,None,None,770]\n",
    "results2 = [None,-1,-1,-1,None,46,46,-1,-1,None,868,-1,-1,None,525,-1,-1,-1,None,None,646,None,646,646,646,None,123,871,None,871,871,871,646,None,None,None,None,229,871,837,285,45,837,None,None,140,None,None,None,None,837,806,None,806,806,545,806,806,806,None,561,None,237,806,806,806,None,633,None,None,None,98,866,806,866,866,866,717,None,186,None,None,268,None,29,None,866,239,None,3,850,310,None,None,770,None,674,None,None,770]\n",
    "\n",
    "for c, p, r1, r2  in zip(calls, parameters, results1, results2):\n",
    "    print(c, p, r1, r2)"
   ]
  },
  {
   "cell_type": "markdown",
   "metadata": {},
   "source": [
    "### 67"
   ]
  },
  {
   "cell_type": "code",
   "execution_count": 16,
   "metadata": {},
   "outputs": [
    {
     "data": {
      "text/plain": [
       "43332"
      ]
     },
     "execution_count": 16,
     "metadata": {},
     "output_type": "execute_result"
    }
   ],
   "source": [
    "INT_MAX = 2 ** 31 - 1\n",
    "INT_MIN = -2 ** 31\n",
    "\n",
    "class Solution:\n",
    "    def strToInt(self, str: str) -> int:\n",
    "        str = str.strip()\n",
    "        if len(str) == 0:\n",
    "            return 0\n",
    "\n",
    "        sign = 1\n",
    "        max = INT_MAX\n",
    "\n",
    "        if str[0] == '-':\n",
    "            str = str[1:]\n",
    "            sign = -1\n",
    "            max = INT_MIN * -1\n",
    "        elif str[0] == '+':\n",
    "            str = str[1:]        \n",
    "        else:\n",
    "            num = ord(str[0]) - ord('0')\n",
    "            if num > 9 or num < 0:\n",
    "                return 0\n",
    "        \n",
    "        number_value = 0\n",
    "        for i in range(len(str)):\n",
    "            num = ord(str[i]) - ord('0')\n",
    "            if num > 9 or num < 0:\n",
    "                break\n",
    "            number_value = (number_value * 10 + num)\n",
    "            # print(number_value)\n",
    "            if number_value  > max:\n",
    "                return max * sign\n",
    "\n",
    "        return number_value * sign\n",
    "\n",
    "s = Solution()\n",
    "\n",
    "s.strToInt(\"  43332ab\")"
   ]
  },
  {
   "cell_type": "markdown",
   "metadata": {},
   "source": [
    "### 10 - I"
   ]
  },
  {
   "cell_type": "code",
   "execution_count": null,
   "metadata": {},
   "outputs": [],
   "source": []
  }
 ],
 "metadata": {
  "kernelspec": {
   "display_name": "dl-fundamentals",
   "language": "python",
   "name": "python3"
  },
  "language_info": {
   "codemirror_mode": {
    "name": "ipython",
    "version": 3
   },
   "file_extension": ".py",
   "mimetype": "text/x-python",
   "name": "python",
   "nbconvert_exporter": "python",
   "pygments_lexer": "ipython3",
   "version": "3.9.17"
  },
  "orig_nbformat": 4
 },
 "nbformat": 4,
 "nbformat_minor": 2
}
