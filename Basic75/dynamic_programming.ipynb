{
 "cells": [
  {
   "cell_type": "markdown",
   "metadata": {},
   "source": [
    "### 10 - I"
   ]
  },
  {
   "cell_type": "code",
   "execution_count": 15,
   "metadata": {},
   "outputs": [
    {
     "name": "stdout",
     "output_type": "stream",
     "text": [
      "[433494437, 701408733]\n",
      "134903163\n"
     ]
    }
   ],
   "source": [
    "class Solution:\n",
    "    def fib(self, n: int) -> int:            \n",
    "        df = [0, 1]\n",
    "        if n < 2:\n",
    "            return df[n]\n",
    "        \n",
    "        for i in range(2, n):\n",
    "            numb = df[0] + df[1]\n",
    "            df[0] = df[1]\n",
    "            df[1] = numb\n",
    "        # print(df)\n",
    "        return (df[0] + df[1]) % 1000000007\n",
    "\n",
    "s = Solution()\n",
    "print(s.fib(45))"
   ]
  },
  {
   "cell_type": "markdown",
   "metadata": {},
   "source": [
    "### 10 - II"
   ]
  },
  {
   "cell_type": "code",
   "execution_count": 7,
   "metadata": {},
   "outputs": [
    {
     "name": "stdout",
     "output_type": "stream",
     "text": [
      "[0, 1, 2, 3, 5, 8, 13, 21]\n"
     ]
    },
    {
     "data": {
      "text/plain": [
       "21"
      ]
     },
     "execution_count": 7,
     "metadata": {},
     "output_type": "execute_result"
    }
   ],
   "source": [
    "class Solution:\n",
    "    def numWays(self, n: int) -> int:\n",
    "        if n <= 0:\n",
    "            return 1\n",
    "        elif n == 1:\n",
    "            return 1\n",
    "        elif n == 2:\n",
    "            return 2\n",
    "\n",
    "        df = [0] * (n + 1)\n",
    "        df[1] = 1\n",
    "        df[2] = 2\n",
    "        \n",
    "        for i in range(3, n + 1):\n",
    "            df[i] = df[i - 1]+ df[i - 2]\n",
    "\n",
    "        print(df)\n",
    "        return df[n] % 1000000007\n",
    "\n",
    "s = Solution()\n",
    "s.numWays(7)"
   ]
  },
  {
   "cell_type": "code",
   "execution_count": 3,
   "metadata": {},
   "outputs": [
    {
     "data": {
      "text/plain": [
       "'fd'"
      ]
     },
     "execution_count": 3,
     "metadata": {},
     "output_type": "execute_result"
    }
   ],
   "source": [
    "a=\"fadf*\"\n",
    "\n",
    "a[0] * 0 + \"fd\""
   ]
  },
  {
   "cell_type": "markdown",
   "metadata": {},
   "source": [
    "### 19"
   ]
  },
  {
   "cell_type": "code",
   "execution_count": null,
   "metadata": {},
   "outputs": [],
   "source": [
    "class Solution:\n",
    "    def isMatch(self, s: str, p: str) -> bool:\n",
    "        print(f's:{s} p:{p}')\n",
    "        if len(s) == 0:\n",
    "            if len(p) == 0 or (len(p) == 2 and p[1] == '*'):\n",
    "                return True\n",
    "            \n",
    "            return False\n",
    "        \n",
    "        s_i : int = 0\n",
    "        p_i : int = 0\n",
    "\n",
    "        while p_i < len(p) and s_i < len(s):\n",
    "            if p[p_i] == s[s_i] or p[p_i] == '.':\n",
    "                if p_i + 1 < len(p) and p[p_i + 1] == '*':\n",
    "                    # print('found')\n",
    "                    for i in range(len(s) - s_i + 1):\n",
    "                        if self.isMatch(s[s_i:], p[p_i] * i + p[p_i + 2:]):\n",
    "                            return True\n",
    "                    p_i += 1\n",
    "                else:\n",
    "                    s_i += 1\n",
    "\n",
    "            p_i += 1\n",
    "        \n",
    "        # print(s_i, p_i)\n",
    "        \n",
    "        return (s_i == len(s) and p_i == len(p)) or (p_i + 2 == len(p) and p[-1] == '*')"
   ]
  },
  {
   "cell_type": "code",
   "execution_count": 63,
   "metadata": {},
   "outputs": [
    {
     "name": "stdout",
     "output_type": "stream",
     "text": [
      "False\n"
     ]
    }
   ],
   "source": [
    "s=Solution()\n",
    "# print(s.isMatch(\"aa\", 'a'))\n",
    "# print(s.isMatch(\"aa\", 'a*'))\n",
    "# print(s.isMatch(\"ab\", '.*'))\n",
    "# print(s.isMatch(\"aab\", 'c*a*b'))\n",
    "# print(s.isMatch(\"mississippi\", 'mis*is*p*.'))\n",
    "# print(s.isMatch(\"a\", 'ab*'))\n",
    "# print(s.isMatch(\"\", 'b*'))\n",
    "print(s.isMatch(\"aaaaaaaaaaaaab\", 'a*a*a*a*a*a*a*a*a*a*c'))"
   ]
  },
  {
   "cell_type": "code",
   "execution_count": null,
   "metadata": {},
   "outputs": [],
   "source": []
  },
  {
   "cell_type": "code",
   "execution_count": null,
   "metadata": {},
   "outputs": [],
   "source": []
  }
 ],
 "metadata": {
  "kernelspec": {
   "display_name": "Python 3",
   "language": "python",
   "name": "python3"
  },
  "language_info": {
   "codemirror_mode": {
    "name": "ipython",
    "version": 3
   },
   "file_extension": ".py",
   "mimetype": "text/x-python",
   "name": "python",
   "nbconvert_exporter": "python",
   "pygments_lexer": "ipython3",
   "version": "3.10.12"
  },
  "orig_nbformat": 4
 },
 "nbformat": 4,
 "nbformat_minor": 2
}
