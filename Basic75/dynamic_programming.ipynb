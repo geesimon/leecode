{
 "cells": [
  {
   "cell_type": "markdown",
   "metadata": {},
   "source": [
    "### 剑指 Offer 10- I. 斐波那契数列"
   ]
  },
  {
   "cell_type": "code",
   "execution_count": 15,
   "metadata": {},
   "outputs": [
    {
     "name": "stdout",
     "output_type": "stream",
     "text": [
      "[433494437, 701408733]\n",
      "134903163\n"
     ]
    }
   ],
   "source": [
    "class Solution:\n",
    "    def fib(self, n: int) -> int:            \n",
    "        df = [0, 1]\n",
    "        if n < 2:\n",
    "            return df[n]\n",
    "        \n",
    "        for i in range(2, n):\n",
    "            numb = df[0] + df[1]\n",
    "            df[0] = df[1]\n",
    "            df[1] = numb\n",
    "        # print(df)\n",
    "        return (df[0] + df[1]) % 1000000007\n",
    "\n",
    "s = Solution()\n",
    "print(s.fib(45))"
   ]
  },
  {
   "cell_type": "markdown",
   "metadata": {},
   "source": [
    "### 剑指 Offer 10- I. 斐波那契数列"
   ]
  },
  {
   "cell_type": "code",
   "execution_count": 7,
   "metadata": {},
   "outputs": [
    {
     "name": "stdout",
     "output_type": "stream",
     "text": [
      "[0, 1, 2, 3, 5, 8, 13, 21]\n"
     ]
    },
    {
     "data": {
      "text/plain": [
       "21"
      ]
     },
     "execution_count": 7,
     "metadata": {},
     "output_type": "execute_result"
    }
   ],
   "source": [
    "class Solution:\n",
    "    def numWays(self, n: int) -> int:\n",
    "        if n <= 0:\n",
    "            return 1\n",
    "        elif n == 1:\n",
    "            return 1\n",
    "        elif n == 2:\n",
    "            return 2\n",
    "\n",
    "        df = [0] * (n + 1)\n",
    "        df[1] = 1\n",
    "        df[2] = 2\n",
    "        \n",
    "        for i in range(3, n + 1):\n",
    "            df[i] = df[i - 1]+ df[i - 2]\n",
    "\n",
    "        print(df)\n",
    "        return df[n] % 1000000007\n",
    "\n",
    "s = Solution()\n",
    "s.numWays(7)"
   ]
  },
  {
   "cell_type": "markdown",
   "metadata": {},
   "source": [
    "### 剑指 Offer 19. 正则表达式匹配"
   ]
  },
  {
   "cell_type": "markdown",
   "metadata": {},
   "source": [
    "##### Method 1"
   ]
  },
  {
   "cell_type": "code",
   "execution_count": 53,
   "metadata": {},
   "outputs": [],
   "source": [
    "class Solution:\n",
    "    def isMatch(self, s: str, p: str) -> bool:\n",
    "        # print(f's:{s} p:{p}')\n",
    "        if len(s) == 0:\n",
    "            if len(p) == 0 or (len(p) == 2 and p[1] == '*'):\n",
    "                return True\n",
    "            \n",
    "            return False\n",
    "        \n",
    "        s_i : int = 0\n",
    "        p_i : int = 0\n",
    "\n",
    "        while p_i < len(p) and s_i < len(s):\n",
    "            if p[p_i] == s[s_i] or p[p_i] == '.':\n",
    "                if p_i + 1 < len(p) and p[p_i + 1] == '*':\n",
    "                    # print('found')\n",
    "                    for i in range(len(s) - s_i + 1):\n",
    "                        if self.isMatch(s[s_i:], p[p_i] * i + p[p_i + 2:]):\n",
    "                            return True\n",
    "                    p_i += 1\n",
    "                else:\n",
    "                    s_i += 1\n",
    "\n",
    "            p_i += 1\n",
    "        \n",
    "        # print(s_i, p_i)\n",
    "        \n",
    "        return (s_i == len(s) and p_i == len(p)) or (p_i + 2 == len(p) and p[-1] == '*')"
   ]
  },
  {
   "cell_type": "code",
   "execution_count": 54,
   "metadata": {},
   "outputs": [
    {
     "name": "stdout",
     "output_type": "stream",
     "text": [
      "False\n",
      "True\n",
      "True\n",
      "True\n",
      "False\n",
      "True\n",
      "True\n"
     ]
    }
   ],
   "source": [
    "s=Solution()\n",
    "print(s.isMatch(\"aa\", 'a'))\n",
    "print(s.isMatch(\"aa\", 'a*'))\n",
    "print(s.isMatch(\"ab\", '.*'))\n",
    "print(s.isMatch(\"aab\", 'c*a*b'))\n",
    "print(s.isMatch(\"mississippi\", 'mis*is*p*.'))\n",
    "print(s.isMatch(\"a\", 'ab*'))\n",
    "print(s.isMatch(\"\", 'b*'))\n",
    "# print(s.isMatch(\"aaaaaaaaaaaaab\", 'a*a*a*a*a*a*a*a*a*a*c'))"
   ]
  },
  {
   "cell_type": "markdown",
   "metadata": {},
   "source": [
    "#### Method 2 (DP)"
   ]
  },
  {
   "cell_type": "code",
   "execution_count": 153,
   "metadata": {},
   "outputs": [],
   "source": [
    "class Solution:\n",
    "    def isMatch(self, s: str, p: str) -> bool:\n",
    "        START_CODE = '#'\n",
    "        s =  START_CODE + s\n",
    "        s_size = len(s)\n",
    "        p_size = len(p)\n",
    "        dp = [[False for _ in range(p_size + 1)] for _ in range(s_size)]\n",
    "        dp[0][0] = True\n",
    "\n",
    "        for s_i in range(0, s_size):\n",
    "            for p_i in range(0, p_size):\n",
    "                if s[s_i] == p[p_i]:\n",
    "                    dp[s_i][p_i + 1] =  dp[s_i - 1][p_i]\n",
    "                elif p[p_i] == '.':\n",
    "                    dp[s_i][p_i + 1] = (s[s_i] != START_CODE) and (s_i >= 1 and dp[s_i - 1][p_i])\n",
    "                elif p[p_i] == '*':\n",
    "                    # Match same row \n",
    "                    if dp[s_i][p_i] or dp[s_i][p_i - 1]:\n",
    "                        dp[s_i][p_i + 1] = True\n",
    "                    # Match \".*\"\n",
    "                    elif p_i >= 1 and p[p_i - 1] == '.':\n",
    "                        dp[s_i][p_i + 1] = dp[s_i][p_i] or dp[s_i][p_i - 1] or dp[s_i - 1][p_i + 1]\n",
    "                    # Same current and previous s char and p char\n",
    "                    elif (s_i >= 1 and p_i >= 1) and s[s_i] == s[s_i - 1] and s[s_i] == p[p_i - 1]:\n",
    "                        dp[s_i][p_i + 1] = dp[s_i - 1][p_i + 1]\n",
    "\n",
    "        # print(dp)\n",
    "\n",
    "        return dp[-1][-1]\n"
   ]
  },
  {
   "cell_type": "code",
   "execution_count": 154,
   "metadata": {},
   "outputs": [
    {
     "name": "stdout",
     "output_type": "stream",
     "text": [
      "False\n",
      "True\n",
      "True\n",
      "True\n",
      "False\n",
      "True\n",
      "True\n",
      "False\n",
      "True\n",
      "True\n",
      "False\n",
      "False\n",
      "False\n"
     ]
    }
   ],
   "source": [
    "s=Solution()\n",
    "print(s.isMatch(\"aa\", 'a'))\n",
    "print(s.isMatch(\"aa\", 'a*'))\n",
    "print(s.isMatch(\"ab\", '.*'))\n",
    "print(s.isMatch(\"aab\", 'c*a*b'))\n",
    "print(s.isMatch(\"sipp\", 's*p*'))\n",
    "print(s.isMatch(\"a\", 'ab*'))\n",
    "print(s.isMatch(\"\", 'b*'))\n",
    "print(s.isMatch(\"aaaaaaaaaaaaab\", 'a*a*a*a*a*a*a*a*a*a*c'))\n",
    "print(s.isMatch(\"aaa\", 'a*'))\n",
    "print(s.isMatch(\"aaa\", 'a*b*a'))\n",
    "print(s.isMatch(\"a\", '.*..a*'))\n",
    "print(s.isMatch(\"\", '.'))\n",
    "print(s.isMatch(\"aab\", 'b.*'))"
   ]
  },
  {
   "cell_type": "markdown",
   "metadata": {},
   "source": [
    "### 剑指 Offer 42. 连续子数组的最大和"
   ]
  },
  {
   "cell_type": "code",
   "execution_count": 9,
   "metadata": {},
   "outputs": [],
   "source": [
    "from typing import List\n",
    "\n",
    "class Solution:\n",
    "    def maxSubArray(self, nums: List[int]) -> int:\n",
    "        dp1 = [0] * len(nums)  # global_max\n",
    "        dp2 = [0] * len(nums)  # local_max\n",
    "        dp1[0] = nums[0]\n",
    "        dp2[0] = nums[0]\n",
    "\n",
    "        for i in range(1, len(nums)):\n",
    "            if nums[i] <= 0:\n",
    "                if dp2[i - 1] <= 0:\n",
    "                    dp2[i] = nums[i]\n",
    "                else:\n",
    "                    dp2[i] = dp2[i - 1] + nums[i]\n",
    "\n",
    "            else: # nums[i] > 0:\n",
    "                if dp2[i - 1] <= 0:\n",
    "                    dp2[i] = nums[i]\n",
    "                else:\n",
    "                    dp2[i] = dp2[i - 1] + nums[i]\n",
    "\n",
    "            dp1[i] = dp2[i] if dp2[i] > dp1[i - 1] else dp1[i - 1]\n",
    "        \n",
    "        # print(dp1)\n",
    "        # print(dp2)\n",
    "\n",
    "        return dp1[-1]"
   ]
  },
  {
   "cell_type": "code",
   "execution_count": 10,
   "metadata": {},
   "outputs": [
    {
     "data": {
      "text/plain": [
       "13"
      ]
     },
     "execution_count": 10,
     "metadata": {},
     "output_type": "execute_result"
    }
   ],
   "source": [
    "s=Solution()\n",
    "\n",
    "s.maxSubArray([-2,1,-3,4,-1,2,1,-5,4,7,-1,2])"
   ]
  },
  {
   "cell_type": "markdown",
   "metadata": {},
   "source": [
    "### 剑指 Offer 46. 把数字翻译成字符串"
   ]
  },
  {
   "cell_type": "code",
   "execution_count": 55,
   "metadata": {},
   "outputs": [],
   "source": [
    "class Solution:\n",
    "    def translateNum(self, num: int) -> int:        \n",
    "        str_num = list(map(int, str(num)))\n",
    "        str_len = len(str_num)\n",
    "        if str_len == 0:\n",
    "            return 0\n",
    "        elif str_len == 1:\n",
    "            return 1\n",
    "                \n",
    "        dp = [0] * len(str_num)\n",
    "        dp[0] = 1\n",
    "        dp[1] = 1 if (str_num[0] * 10 + str_num[1]) > 25 else 2\n",
    "\n",
    "        for i in range(2, str_len):\n",
    "            combined_numb = str_num[i - 1] * 10 + str_num[i]\n",
    "    \n",
    "            if combined_numb >= 10 and combined_numb <= 25:\n",
    "                dp[i] = dp[i - 1] + dp[i - 2]\n",
    "            else:\n",
    "                dp[i] = dp[i - 1]\n",
    "\n",
    "        # print(dp)\n",
    "        return dp[-1]"
   ]
  },
  {
   "cell_type": "code",
   "execution_count": 56,
   "metadata": {},
   "outputs": [
    {
     "name": "stdout",
     "output_type": "stream",
     "text": [
      "[1, 2, 3, 5, 5]\n",
      "5\n",
      "[1, 2]\n",
      "2\n",
      "[1, 1, 2]\n",
      "2\n"
     ]
    }
   ],
   "source": [
    "s=Solution()\n",
    "print(s.translateNum(12258))\n",
    "print(s.translateNum(25))\n",
    "print(s.translateNum(624))\n"
   ]
  },
  {
   "cell_type": "markdown",
   "metadata": {},
   "source": [
    "### 剑指 Offer 47. 礼物的最大价值"
   ]
  },
  {
   "cell_type": "code",
   "execution_count": 106,
   "metadata": {},
   "outputs": [],
   "source": [
    "from typing import List\n",
    "\n",
    "class Solution:\n",
    "    def maxValue(self, grid: List[List[int]]) -> int:\n",
    "        m = len(grid)\n",
    "        n = len(grid[0])\n",
    "        dp = [[0 for _ in range(n)] for _ in range(m)]\n",
    "        dp[0][0] = grid[0][0]\n",
    "\n",
    "        for i in range(1, m):\n",
    "            dp[i][0] = dp[i - 1][0] + grid[i][0]\n",
    "        for j in range(1, n):\n",
    "            dp[0][j] = dp[0][j - 1] + grid[0][j]\n",
    "\n",
    "\n",
    "        for i in range(1, m):\n",
    "            for j in range(1, n):\n",
    "                dp[i][j] = max(dp[i - 1][j] + grid[i][j], dp[i][j - 1] + grid[i][j])\n",
    "        \n",
    "        # print(dp)\n",
    "\n",
    "        return dp[-1][-1]\n",
    "        # for i in range(m):\n",
    "        #     for j in range(0)"
   ]
  },
  {
   "cell_type": "code",
   "execution_count": 107,
   "metadata": {},
   "outputs": [
    {
     "name": "stdout",
     "output_type": "stream",
     "text": [
      "12\n",
      "2\n"
     ]
    }
   ],
   "source": [
    "s = Solution()\n",
    "print(s.maxValue([[1,3,1],[1,5,1],[4,2,1]]))\n",
    "print(s.maxValue([[1],[1]]))"
   ]
  },
  {
   "cell_type": "markdown",
   "metadata": {},
   "source": [
    "### 剑指 Offer 48. 最长不含重复字符的子字符串"
   ]
  },
  {
   "cell_type": "markdown",
   "metadata": {},
   "source": [
    "#### Method 1"
   ]
  },
  {
   "cell_type": "code",
   "execution_count": 94,
   "metadata": {},
   "outputs": [],
   "source": [
    "class Solution:\n",
    "    def lengthOfLongestSubstring(self, s: str) -> int:\n",
    "        s_len = len(s)\n",
    "        if s_len == 0:\n",
    "            return 0\n",
    "        \n",
    "        max = 1\n",
    "        dp = [0] * s_len  # local_max\n",
    "        dp[0] = 1\n",
    "\n",
    "        for i in range(1, s_len):\n",
    "            found = False\n",
    "            for j in range(i - 1, i - 1 - dp[i - 1], -1):\n",
    "                if s[j] == s[i]:\n",
    "                    found = True\n",
    "                    break\n",
    "            \n",
    "            if found:\n",
    "                # print('found', i, j)\n",
    "                dp[i] = i - j\n",
    "            else:\n",
    "                dp[i] = dp[i - 1] + 1\n",
    "            \n",
    "            if dp[i] > max:\n",
    "                max = dp[i]\n",
    "\n",
    "        # print(dp1)\n",
    "        # print(dp2)\n",
    "\n",
    "        return max"
   ]
  },
  {
   "cell_type": "code",
   "execution_count": 95,
   "metadata": {},
   "outputs": [
    {
     "name": "stdout",
     "output_type": "stream",
     "text": [
      "3\n",
      "1\n",
      "3\n",
      "0\n",
      "2\n",
      "1\n"
     ]
    }
   ],
   "source": [
    "s = Solution()\n",
    "print(s.lengthOfLongestSubstring('abcabcbb'))\n",
    "print(s.lengthOfLongestSubstring('bbbbb'))\n",
    "print(s.lengthOfLongestSubstring('pwwkew'))\n",
    "print(s.lengthOfLongestSubstring(''))\n",
    "print(s.lengthOfLongestSubstring('aab'))\n",
    "print(s.lengthOfLongestSubstring(' '))"
   ]
  },
  {
   "cell_type": "markdown",
   "metadata": {},
   "source": [
    "#### Method 2"
   ]
  },
  {
   "cell_type": "code",
   "execution_count": 96,
   "metadata": {},
   "outputs": [],
   "source": [
    "class Solution:\n",
    "    def lengthOfLongestSubstring(self, s: str) -> int:\n",
    "        s_len = len(s)\n",
    "        if s_len == 0:\n",
    "            return 0\n",
    "        \n",
    "        global_max = 1\n",
    "        local_max = 1\n",
    "        char_index = {s[0]:0}\n",
    "\n",
    "        for i in range(1, s_len):\n",
    "            if s[i] in char_index:\n",
    "                char_span = i - char_index[s[i]]\n",
    "                if local_max >= char_span:\n",
    "                    local_max = char_span\n",
    "                else:\n",
    "                    local_max += 1\n",
    "            else:\n",
    "                local_max += 1\n",
    "\n",
    "            char_index[s[i]] = i\n",
    "            if local_max > global_max:\n",
    "                global_max = local_max\n",
    "\n",
    "        # print(dp)\n",
    "        \n",
    "        return global_max"
   ]
  },
  {
   "cell_type": "code",
   "execution_count": 97,
   "metadata": {},
   "outputs": [
    {
     "name": "stdout",
     "output_type": "stream",
     "text": [
      "3\n",
      "1\n",
      "3\n",
      "0\n",
      "2\n",
      "1\n"
     ]
    }
   ],
   "source": [
    "s = Solution()\n",
    "print(s.lengthOfLongestSubstring('abcabcbb'))\n",
    "print(s.lengthOfLongestSubstring('bbbbb'))\n",
    "print(s.lengthOfLongestSubstring('pwwkew'))\n",
    "print(s.lengthOfLongestSubstring(''))\n",
    "print(s.lengthOfLongestSubstring('aab'))\n",
    "print(s.lengthOfLongestSubstring(' '))"
   ]
  },
  {
   "cell_type": "markdown",
   "metadata": {},
   "source": [
    "### 剑指 Offer 49. 丑数"
   ]
  },
  {
   "cell_type": "markdown",
   "metadata": {},
   "source": [
    "#### Solution 1"
   ]
  },
  {
   "cell_type": "code",
   "execution_count": 46,
   "metadata": {},
   "outputs": [],
   "source": [
    "class Solution:\n",
    "    def nthUglyNumber(self, n: int) -> int:\n",
    "        if (n < 2):\n",
    "            return n\n",
    "        \n",
    "        min_numb = 1\n",
    "        ugly_number = {min_numb}\n",
    "                \n",
    "        for i in range(1, n):\n",
    "            next_i2 = min_numb * 2\n",
    "            next_i3 = min_numb * 3\n",
    "            next_i5 = min_numb * 5\n",
    "\n",
    "            if not (next_i2 in ugly_number):\n",
    "                ugly_number.add(next_i2)\n",
    "            if not (next_i3 in ugly_number):\n",
    "                ugly_number.add(next_i3)\n",
    "            if not (next_i5 in ugly_number):\n",
    "                ugly_number.add(next_i5)\n",
    "\n",
    "            ugly_number.remove(min_numb)\n",
    "            min_numb = min(ugly_number)\n",
    "            \n",
    "        # print(len(ugly_number))\n",
    "\n",
    "        return min_numb"
   ]
  },
  {
   "cell_type": "code",
   "execution_count": 47,
   "metadata": {},
   "outputs": [
    {
     "name": "stdout",
     "output_type": "stream",
     "text": [
      "36\n",
      "51200000\n",
      "2123366400\n",
      "102515625000\n",
      "CPU times: user 14 ms, sys: 1.08 ms, total: 15.1 ms\n",
      "Wall time: 15.2 ms\n"
     ]
    }
   ],
   "source": [
    "%%time\n",
    "\n",
    "s=Solution()\n",
    "print(s.nthUglyNumber(20))\n",
    "print(s.nthUglyNumber(1000))\n",
    "print(s.nthUglyNumber(1690))\n",
    "print(s.nthUglyNumber(2690))"
   ]
  },
  {
   "cell_type": "markdown",
   "metadata": {},
   "source": [
    "#### Solution 2"
   ]
  },
  {
   "cell_type": "code",
   "execution_count": 48,
   "metadata": {},
   "outputs": [],
   "source": [
    "class Solution:\n",
    "    def nthUglyNumber(self, n: int) -> int:\n",
    "        if (n < 2):\n",
    "            return n\n",
    "        dp = [0] * (n + 1)\n",
    "        dp[1] = 1\n",
    "        i_2 = 1\n",
    "        i_3 = 1\n",
    "        i_5 = 1\n",
    "\n",
    "        for i in range(2, n + 1):\n",
    "            next_2 = dp[i_2] * 2\n",
    "            next_3 = dp[i_3] * 3\n",
    "            next_5 = dp[i_5] * 5\n",
    "            dp[i] = min(next_2, next_3, next_5)\n",
    "            if next_2 == dp[i]: i_2 += 1\n",
    "            if next_3 == dp[i]: i_3 += 1\n",
    "            if next_5 == dp[i]: i_5 += 1\n",
    "\n",
    "        # print(dp)\n",
    "        return dp[n]"
   ]
  },
  {
   "cell_type": "code",
   "execution_count": 49,
   "metadata": {},
   "outputs": [
    {
     "name": "stdout",
     "output_type": "stream",
     "text": [
      "36\n",
      "51200000\n",
      "2123366400\n",
      "102515625000\n",
      "CPU times: user 1.55 ms, sys: 0 ns, total: 1.55 ms\n",
      "Wall time: 1.54 ms\n"
     ]
    }
   ],
   "source": [
    "%%time\n",
    "\n",
    "s=Solution()\n",
    "print(s.nthUglyNumber(20))\n",
    "print(s.nthUglyNumber(1000))\n",
    "print(s.nthUglyNumber(1690))\n",
    "print(s.nthUglyNumber(2690))"
   ]
  }
 ],
 "metadata": {
  "kernelspec": {
   "display_name": "Python 3",
   "language": "python",
   "name": "python3"
  },
  "language_info": {
   "codemirror_mode": {
    "name": "ipython",
    "version": 3
   },
   "file_extension": ".py",
   "mimetype": "text/x-python",
   "name": "python",
   "nbconvert_exporter": "python",
   "pygments_lexer": "ipython3",
   "version": "3.10.9"
  },
  "orig_nbformat": 4
 },
 "nbformat": 4,
 "nbformat_minor": 2
}
