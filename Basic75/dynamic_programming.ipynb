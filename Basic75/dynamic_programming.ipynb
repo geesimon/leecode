{
 "cells": [
  {
   "cell_type": "markdown",
   "metadata": {},
   "source": [
    "### 10 - I"
   ]
  },
  {
   "cell_type": "code",
   "execution_count": 15,
   "metadata": {},
   "outputs": [
    {
     "name": "stdout",
     "output_type": "stream",
     "text": [
      "[433494437, 701408733]\n",
      "134903163\n"
     ]
    }
   ],
   "source": [
    "class Solution:\n",
    "    def fib(self, n: int) -> int:            \n",
    "        df = [0, 1]\n",
    "        if n < 2:\n",
    "            return df[n]\n",
    "        \n",
    "        for i in range(2, n):\n",
    "            numb = df[0] + df[1]\n",
    "            df[0] = df[1]\n",
    "            df[1] = numb\n",
    "        # print(df)\n",
    "        return (df[0] + df[1]) % 1000000007\n",
    "\n",
    "s = Solution()\n",
    "print(s.fib(45))"
   ]
  },
  {
   "cell_type": "markdown",
   "metadata": {},
   "source": [
    "### 10 - II"
   ]
  },
  {
   "cell_type": "code",
   "execution_count": 7,
   "metadata": {},
   "outputs": [
    {
     "name": "stdout",
     "output_type": "stream",
     "text": [
      "[0, 1, 2, 3, 5, 8, 13, 21]\n"
     ]
    },
    {
     "data": {
      "text/plain": [
       "21"
      ]
     },
     "execution_count": 7,
     "metadata": {},
     "output_type": "execute_result"
    }
   ],
   "source": [
    "class Solution:\n",
    "    def numWays(self, n: int) -> int:\n",
    "        if n <= 0:\n",
    "            return 1\n",
    "        elif n == 1:\n",
    "            return 1\n",
    "        elif n == 2:\n",
    "            return 2\n",
    "\n",
    "        df = [0] * (n + 1)\n",
    "        df[1] = 1\n",
    "        df[2] = 2\n",
    "        \n",
    "        for i in range(3, n + 1):\n",
    "            df[i] = df[i - 1]+ df[i - 2]\n",
    "\n",
    "        print(df)\n",
    "        return df[n] % 1000000007\n",
    "\n",
    "s = Solution()\n",
    "s.numWays(7)"
   ]
  },
  {
   "cell_type": "code",
   "execution_count": null,
   "metadata": {},
   "outputs": [],
   "source": []
  }
 ],
 "metadata": {
  "kernelspec": {
   "display_name": "Python 3",
   "language": "python",
   "name": "python3"
  },
  "language_info": {
   "codemirror_mode": {
    "name": "ipython",
    "version": 3
   },
   "file_extension": ".py",
   "mimetype": "text/x-python",
   "name": "python",
   "nbconvert_exporter": "python",
   "pygments_lexer": "ipython3",
   "version": "3.10.12"
  },
  "orig_nbformat": 4
 },
 "nbformat": 4,
 "nbformat_minor": 2
}
