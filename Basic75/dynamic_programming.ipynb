{
 "cells": [
  {
   "cell_type": "markdown",
   "metadata": {},
   "source": [
    "### 10 - I"
   ]
  },
  {
   "cell_type": "code",
   "execution_count": 15,
   "metadata": {},
   "outputs": [
    {
     "name": "stdout",
     "output_type": "stream",
     "text": [
      "[433494437, 701408733]\n",
      "134903163\n"
     ]
    }
   ],
   "source": [
    "class Solution:\n",
    "    def fib(self, n: int) -> int:            \n",
    "        df = [0, 1]\n",
    "        if n < 2:\n",
    "            return df[n]\n",
    "        \n",
    "        for i in range(2, n):\n",
    "            numb = df[0] + df[1]\n",
    "            df[0] = df[1]\n",
    "            df[1] = numb\n",
    "        # print(df)\n",
    "        return (df[0] + df[1]) % 1000000007\n",
    "\n",
    "s = Solution()\n",
    "print(s.fib(45))"
   ]
  },
  {
   "cell_type": "markdown",
   "metadata": {},
   "source": [
    "### 10 - II"
   ]
  },
  {
   "cell_type": "code",
   "execution_count": 7,
   "metadata": {},
   "outputs": [
    {
     "name": "stdout",
     "output_type": "stream",
     "text": [
      "[0, 1, 2, 3, 5, 8, 13, 21]\n"
     ]
    },
    {
     "data": {
      "text/plain": [
       "21"
      ]
     },
     "execution_count": 7,
     "metadata": {},
     "output_type": "execute_result"
    }
   ],
   "source": [
    "class Solution:\n",
    "    def numWays(self, n: int) -> int:\n",
    "        if n <= 0:\n",
    "            return 1\n",
    "        elif n == 1:\n",
    "            return 1\n",
    "        elif n == 2:\n",
    "            return 2\n",
    "\n",
    "        df = [0] * (n + 1)\n",
    "        df[1] = 1\n",
    "        df[2] = 2\n",
    "        \n",
    "        for i in range(3, n + 1):\n",
    "            df[i] = df[i - 1]+ df[i - 2]\n",
    "\n",
    "        print(df)\n",
    "        return df[n] % 1000000007\n",
    "\n",
    "s = Solution()\n",
    "s.numWays(7)"
   ]
  },
  {
   "cell_type": "code",
   "execution_count": 3,
   "metadata": {},
   "outputs": [
    {
     "data": {
      "text/plain": [
       "'fd'"
      ]
     },
     "execution_count": 3,
     "metadata": {},
     "output_type": "execute_result"
    }
   ],
   "source": [
    "a=\"fadf*\"\n",
    "\n",
    "a[0] * 0 + \"fd\""
   ]
  },
  {
   "cell_type": "markdown",
   "metadata": {},
   "source": [
    "### 19"
   ]
  },
  {
   "cell_type": "markdown",
   "metadata": {},
   "source": [
    "##### Method 1"
   ]
  },
  {
   "cell_type": "code",
   "execution_count": 53,
   "metadata": {},
   "outputs": [],
   "source": [
    "class Solution:\n",
    "    def isMatch(self, s: str, p: str) -> bool:\n",
    "        # print(f's:{s} p:{p}')\n",
    "        if len(s) == 0:\n",
    "            if len(p) == 0 or (len(p) == 2 and p[1] == '*'):\n",
    "                return True\n",
    "            \n",
    "            return False\n",
    "        \n",
    "        s_i : int = 0\n",
    "        p_i : int = 0\n",
    "\n",
    "        while p_i < len(p) and s_i < len(s):\n",
    "            if p[p_i] == s[s_i] or p[p_i] == '.':\n",
    "                if p_i + 1 < len(p) and p[p_i + 1] == '*':\n",
    "                    # print('found')\n",
    "                    for i in range(len(s) - s_i + 1):\n",
    "                        if self.isMatch(s[s_i:], p[p_i] * i + p[p_i + 2:]):\n",
    "                            return True\n",
    "                    p_i += 1\n",
    "                else:\n",
    "                    s_i += 1\n",
    "\n",
    "            p_i += 1\n",
    "        \n",
    "        # print(s_i, p_i)\n",
    "        \n",
    "        return (s_i == len(s) and p_i == len(p)) or (p_i + 2 == len(p) and p[-1] == '*')"
   ]
  },
  {
   "cell_type": "code",
   "execution_count": 54,
   "metadata": {},
   "outputs": [
    {
     "name": "stdout",
     "output_type": "stream",
     "text": [
      "False\n",
      "True\n",
      "True\n",
      "True\n",
      "False\n",
      "True\n",
      "True\n"
     ]
    }
   ],
   "source": [
    "s=Solution()\n",
    "print(s.isMatch(\"aa\", 'a'))\n",
    "print(s.isMatch(\"aa\", 'a*'))\n",
    "print(s.isMatch(\"ab\", '.*'))\n",
    "print(s.isMatch(\"aab\", 'c*a*b'))\n",
    "print(s.isMatch(\"mississippi\", 'mis*is*p*.'))\n",
    "print(s.isMatch(\"a\", 'ab*'))\n",
    "print(s.isMatch(\"\", 'b*'))\n",
    "# print(s.isMatch(\"aaaaaaaaaaaaab\", 'a*a*a*a*a*a*a*a*a*a*c'))"
   ]
  },
  {
   "cell_type": "markdown",
   "metadata": {},
   "source": [
    "#### Method 2 (DP)"
   ]
  },
  {
   "cell_type": "code",
   "execution_count": 153,
   "metadata": {},
   "outputs": [],
   "source": [
    "class Solution:\n",
    "    def isMatch(self, s: str, p: str) -> bool:\n",
    "        START_CODE = '#'\n",
    "        s =  START_CODE + s\n",
    "        s_size = len(s)\n",
    "        p_size = len(p)\n",
    "        dp = [[False for _ in range(p_size + 1)] for _ in range(s_size)]\n",
    "        dp[0][0] = True\n",
    "\n",
    "        for s_i in range(0, s_size):\n",
    "            for p_i in range(0, p_size):\n",
    "                if s[s_i] == p[p_i]:\n",
    "                    dp[s_i][p_i + 1] =  dp[s_i - 1][p_i]\n",
    "                elif p[p_i] == '.':\n",
    "                    dp[s_i][p_i + 1] = (s[s_i] != START_CODE) and (s_i >= 1 and dp[s_i - 1][p_i])\n",
    "                elif p[p_i] == '*':\n",
    "                    # Match same row \n",
    "                    if dp[s_i][p_i] or dp[s_i][p_i - 1]:\n",
    "                        dp[s_i][p_i + 1] = True\n",
    "                    # Match \".*\"\n",
    "                    elif p_i >= 1 and p[p_i - 1] == '.':\n",
    "                        dp[s_i][p_i + 1] = dp[s_i][p_i] or dp[s_i][p_i - 1] or dp[s_i - 1][p_i + 1]\n",
    "                    # Same current and previous s char and p char\n",
    "                    elif (s_i >= 1 and p_i >= 1) and s[s_i] == s[s_i - 1] and s[s_i] == p[p_i - 1]:\n",
    "                        dp[s_i][p_i + 1] = dp[s_i - 1][p_i + 1]\n",
    "\n",
    "        # print(dp)\n",
    "\n",
    "        return dp[-1][-1]\n"
   ]
  },
  {
   "cell_type": "code",
   "execution_count": 154,
   "metadata": {},
   "outputs": [
    {
     "name": "stdout",
     "output_type": "stream",
     "text": [
      "False\n",
      "True\n",
      "True\n",
      "True\n",
      "False\n",
      "True\n",
      "True\n",
      "False\n",
      "True\n",
      "True\n",
      "False\n",
      "False\n",
      "False\n"
     ]
    }
   ],
   "source": [
    "s=Solution()\n",
    "print(s.isMatch(\"aa\", 'a'))\n",
    "print(s.isMatch(\"aa\", 'a*'))\n",
    "print(s.isMatch(\"ab\", '.*'))\n",
    "print(s.isMatch(\"aab\", 'c*a*b'))\n",
    "print(s.isMatch(\"sipp\", 's*p*'))\n",
    "print(s.isMatch(\"a\", 'ab*'))\n",
    "print(s.isMatch(\"\", 'b*'))\n",
    "print(s.isMatch(\"aaaaaaaaaaaaab\", 'a*a*a*a*a*a*a*a*a*a*c'))\n",
    "print(s.isMatch(\"aaa\", 'a*'))\n",
    "print(s.isMatch(\"aaa\", 'a*b*a'))\n",
    "print(s.isMatch(\"a\", '.*..a*'))\n",
    "print(s.isMatch(\"\", '.'))\n",
    "print(s.isMatch(\"aab\", 'b.*'))"
   ]
  },
  {
   "cell_type": "code",
   "execution_count": null,
   "metadata": {},
   "outputs": [],
   "source": []
  }
 ],
 "metadata": {
  "kernelspec": {
   "display_name": "Python 3",
   "language": "python",
   "name": "python3"
  },
  "language_info": {
   "codemirror_mode": {
    "name": "ipython",
    "version": 3
   },
   "file_extension": ".py",
   "mimetype": "text/x-python",
   "name": "python",
   "nbconvert_exporter": "python",
   "pygments_lexer": "ipython3",
   "version": "3.10.9"
  },
  "orig_nbformat": 4
 },
 "nbformat": 4,
 "nbformat_minor": 2
}
