{
 "cells": [
  {
   "cell_type": "markdown",
   "metadata": {},
   "source": [
    "### 库存管理 III"
   ]
  },
  {
   "cell_type": "code",
   "execution_count": 6,
   "metadata": {},
   "outputs": [],
   "source": [
    "from typing import List\n",
    "\n",
    "class Solution:\n",
    "    def inventoryManagement(self, stock: List[int], cnt: int) -> List[int]:\n",
    "        return sorted(stock)[:cnt]"
   ]
  },
  {
   "cell_type": "code",
   "execution_count": 7,
   "metadata": {},
   "outputs": [
    {
     "name": "stdout",
     "output_type": "stream",
     "text": [
      "[2]\n",
      "[0, 2]\n"
     ]
    }
   ],
   "source": [
    "s=Solution()\n",
    "print(s.inventoryManagement([2,5,7,4], 1))\n",
    "print(s.inventoryManagement([0,2,3,6], 2))"
   ]
  },
  {
   "cell_type": "markdown",
   "metadata": {},
   "source": [
    "### 数据流中的中位数"
   ]
  },
  {
   "cell_type": "code",
   "execution_count": 42,
   "metadata": {},
   "outputs": [],
   "source": [
    "import bisect\n",
    "\n",
    "class MedianFinder:\n",
    "    def __init__(self):\n",
    "        \"\"\"\n",
    "        initialize your data structure here.\n",
    "        \"\"\"\n",
    "        self.numbers = []\n",
    "        self.big_numbers = []\n",
    "        self.num_count = 0\n",
    "\n",
    "\n",
    "    def addNum(self, num: int) -> None:\n",
    "        self.num_count += 1\n",
    "        bisect.insort_left(self.numbers, num)\n",
    "\n",
    "    def findMedian(self) -> float:\n",
    "        if self.num_count == 0:\n",
    "            return None\n",
    "        \n",
    "        if self.num_count & 0b1 != 0:\n",
    "            return self.numbers[self.num_count//2]\n",
    "        else:\n",
    "            mid_i = self.num_count//2\n",
    "            return (self.numbers[mid_i] + self.numbers[mid_i - 1]) / 2\n"
   ]
  },
  {
   "cell_type": "code",
   "execution_count": 43,
   "metadata": {},
   "outputs": [
    {
     "name": "stdout",
     "output_type": "stream",
     "text": [
      "2.5\n",
      "2\n"
     ]
    }
   ],
   "source": [
    "# Your MedianFinder object will be instantiated and called as such:\n",
    "obj = MedianFinder()\n",
    "obj.addNum(1)\n",
    "obj.addNum(2)\n",
    "obj.addNum(3)\n",
    "obj.addNum(4)\n",
    "print(obj.findMedian())\n",
    "obj.addNum(-1)\n",
    "print(obj.findMedian())"
   ]
  },
  {
   "cell_type": "markdown",
   "metadata": {},
   "source": [
    "#### Method 2"
   ]
  },
  {
   "cell_type": "code",
   "execution_count": 54,
   "metadata": {},
   "outputs": [],
   "source": [
    "import bisect\n",
    "\n",
    "class MedianFinder:\n",
    "    def __init__(self):\n",
    "        \"\"\"\n",
    "        initialize your data structure here.\n",
    "        \"\"\"\n",
    "        self.small_numbers = []\n",
    "        self.big_numbers = []\n",
    "        self.num_count = 0\n",
    "\n",
    "    def addNum(self, num: int) -> None:\n",
    "        self.num_count += 1\n",
    "        if self.num_count == 1:\n",
    "            self.small_numbers.append(num)\n",
    "        else:\n",
    "            if self.small_numbers[-1] > num:  #insert to smaller gropu\n",
    "                bisect.insort_left(self.small_numbers, num)\n",
    "                if (len(self.small_numbers) - 1 > len(self.big_numbers)):\n",
    "                    self.big_numbers.insert(0, self.small_numbers[-1])\n",
    "                    self.small_numbers.pop()\n",
    "            else:\n",
    "                bisect.insort_left(self.big_numbers, num)\n",
    "                if (len(self.big_numbers) - 1 > len(self.small_numbers)):\n",
    "                    self.small_numbers.append(self.big_numbers[0])\n",
    "                    self.big_numbers.pop(0)\n",
    "\n",
    "        # print(f'{self.small_numbers} {self.big_numbers}')\n",
    "\n",
    "\n",
    "    def findMedian(self) -> float:\n",
    "        if self.num_count == 0:\n",
    "            return None\n",
    "        \n",
    "        if self.num_count & 0b1 != 0:\n",
    "            return self.small_numbers[-1] if len(self.small_numbers) > len(self.big_numbers) else self.big_numbers[0]\n",
    "        else:\n",
    "            return (self.small_numbers[-1] + self.big_numbers[0]) / 2\n"
   ]
  },
  {
   "cell_type": "code",
   "execution_count": 55,
   "metadata": {},
   "outputs": [
    {
     "name": "stdout",
     "output_type": "stream",
     "text": [
      "[1] []\n",
      "[1] [2]\n",
      "[1] [2, 3]\n",
      "[1, 2] [3, 4]\n",
      "2.5\n",
      "[-1, 1, 2] [3, 4]\n",
      "2\n"
     ]
    }
   ],
   "source": [
    "# Your MedianFinder object will be instantiated and called as such:\n",
    "obj = MedianFinder()\n",
    "obj.addNum(1)\n",
    "obj.addNum(2)\n",
    "obj.addNum(3)\n",
    "obj.addNum(4)\n",
    "print(obj.findMedian())\n",
    "obj.addNum(-1)\n",
    "print(obj.findMedian())"
   ]
  },
  {
   "cell_type": "code",
   "execution_count": null,
   "metadata": {},
   "outputs": [],
   "source": []
  }
 ],
 "metadata": {
  "kernelspec": {
   "display_name": "dl-fundamentals",
   "language": "python",
   "name": "python3"
  },
  "language_info": {
   "codemirror_mode": {
    "name": "ipython",
    "version": 3
   },
   "file_extension": ".py",
   "mimetype": "text/x-python",
   "name": "python",
   "nbconvert_exporter": "python",
   "pygments_lexer": "ipython3",
   "version": "3.9.17"
  }
 },
 "nbformat": 4,
 "nbformat_minor": 2
}
