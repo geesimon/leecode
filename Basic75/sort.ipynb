{
 "cells": [
  {
   "cell_type": "markdown",
   "metadata": {},
   "source": [
    "### 库存管理 III"
   ]
  },
  {
   "cell_type": "code",
   "execution_count": 6,
   "metadata": {},
   "outputs": [],
   "source": [
    "from typing import List\n",
    "\n",
    "class Solution:\n",
    "    def inventoryManagement(self, stock: List[int], cnt: int) -> List[int]:\n",
    "        return sorted(stock)[:cnt]"
   ]
  },
  {
   "cell_type": "code",
   "execution_count": 7,
   "metadata": {},
   "outputs": [
    {
     "name": "stdout",
     "output_type": "stream",
     "text": [
      "[2]\n",
      "[0, 2]\n"
     ]
    }
   ],
   "source": [
    "s=Solution()\n",
    "print(s.inventoryManagement([2,5,7,4], 1))\n",
    "print(s.inventoryManagement([0,2,3,6], 2))"
   ]
  },
  {
   "cell_type": "markdown",
   "metadata": {},
   "source": [
    "### 数据流中的中位数"
   ]
  },
  {
   "cell_type": "code",
   "execution_count": 61,
   "metadata": {},
   "outputs": [],
   "source": [
    "import bisect\n",
    "\n",
    "class MedianFinder:\n",
    "    def __init__(self):\n",
    "        \"\"\"\n",
    "        initialize your data structure here.\n",
    "        \"\"\"\n",
    "        self.numbers = []\n",
    "        self.num_count = 0\n",
    "\n",
    "\n",
    "    def addNum(self, num: int) -> None:\n",
    "        if self.num_count == 0:\n",
    "            self.numbers.append(num)\n",
    "        else:\n",
    "            # l = 0\n",
    "            # r = self.num_count - 1\n",
    "            # while l < r:\n",
    "            #     mid = (l + r) // 2\n",
    "            #     if num > self.numbers[mid]:\n",
    "            #         l = mid + 1\n",
    "            #     else:\n",
    "            #         r = mid - 1\n",
    "            \n",
    "            # if self.numbers[l] < num:\n",
    "            #     self.numbers.insert(l + 1, num)\n",
    "            # else:\n",
    "            #     self.numbers.insert(l, num)\n",
    "\n",
    "            bisect.insort_left(self.numbers, num)\n",
    "\n",
    "        self.num_count += 1\n",
    "\n",
    "    def findMedian(self) -> float:\n",
    "        if self.num_count == 0:\n",
    "            return None\n",
    "        \n",
    "        if self.num_count & 0b1 != 0:\n",
    "            return self.numbers[self.num_count//2]\n",
    "        else:\n",
    "            mid_i = self.num_count//2\n",
    "            return (self.numbers[mid_i] + self.numbers[mid_i - 1]) / 2\n"
   ]
  },
  {
   "cell_type": "code",
   "execution_count": 62,
   "metadata": {},
   "outputs": [
    {
     "name": "stdout",
     "output_type": "stream",
     "text": [
      "2.5\n",
      "2\n"
     ]
    }
   ],
   "source": [
    "# Your MedianFinder object will be instantiated and called as such:\n",
    "obj = MedianFinder()\n",
    "obj.addNum(1)\n",
    "obj.addNum(3)\n",
    "obj.addNum(2)\n",
    "obj.addNum(4)\n",
    "print(obj.findMedian())\n",
    "obj.addNum(-1)\n",
    "print(obj.findMedian())"
   ]
  },
  {
   "cell_type": "markdown",
   "metadata": {},
   "source": [
    "#### Method 2"
   ]
  },
  {
   "cell_type": "code",
   "execution_count": 1,
   "metadata": {},
   "outputs": [],
   "source": [
    "import bisect\n",
    "\n",
    "class MedianFinder:\n",
    "    def __init__(self):\n",
    "        \"\"\"\n",
    "        initialize your data structure here.\n",
    "        \"\"\"\n",
    "        self.small_numbers = []\n",
    "        self.big_numbers = []\n",
    "        self.num_count = 0\n",
    "\n",
    "    def addNum(self, num: int) -> None:\n",
    "        self.num_count += 1\n",
    "        if self.num_count == 1:\n",
    "            self.small_numbers.append(num)\n",
    "        else:\n",
    "            if self.small_numbers[-1] > num:  #insert to smaller gropu\n",
    "                bisect.insort_left(self.small_numbers, num)\n",
    "                if (len(self.small_numbers) - 1 > len(self.big_numbers)):\n",
    "                    self.big_numbers.insert(0, self.small_numbers[-1])\n",
    "                    self.small_numbers.pop()\n",
    "            else:\n",
    "                bisect.insort_left(self.big_numbers, num)\n",
    "                if (len(self.big_numbers) - 1 > len(self.small_numbers)):\n",
    "                    self.small_numbers.append(self.big_numbers[0])\n",
    "                    self.big_numbers.pop(0)\n",
    "\n",
    "        # print(f'{self.small_numbers} {self.big_numbers}')\n",
    "\n",
    "\n",
    "    def findMedian(self) -> float:\n",
    "        if self.num_count == 0:\n",
    "            return None\n",
    "        \n",
    "        if self.num_count & 0b1 != 0:\n",
    "            return self.small_numbers[-1] if len(self.small_numbers) > len(self.big_numbers) else self.big_numbers[0]\n",
    "        else:\n",
    "            return (self.small_numbers[-1] + self.big_numbers[0]) / 2\n"
   ]
  },
  {
   "cell_type": "code",
   "execution_count": 2,
   "metadata": {},
   "outputs": [
    {
     "name": "stdout",
     "output_type": "stream",
     "text": [
      "2.5\n",
      "2\n"
     ]
    }
   ],
   "source": [
    "# Your MedianFinder object will be instantiated and called as such:\n",
    "obj = MedianFinder()\n",
    "obj.addNum(1)\n",
    "obj.addNum(2)\n",
    "obj.addNum(3)\n",
    "obj.addNum(4)\n",
    "print(obj.findMedian())\n",
    "obj.addNum(-1)\n",
    "print(obj.findMedian())"
   ]
  },
  {
   "cell_type": "markdown",
   "metadata": {},
   "source": [
    "### 破解闯关密码"
   ]
  },
  {
   "cell_type": "code",
   "execution_count": 99,
   "metadata": {},
   "outputs": [],
   "source": [
    "from typing import List\n",
    "import random\n",
    "\n",
    "class Solution:\n",
    "    def digi_len(num : int) -> int :\n",
    "        i = 1\n",
    "        while num > 9:    \n",
    "            num //= 10\n",
    "            i += 1\n",
    "        return i\n",
    "\n",
    "    def ge(num1:int, num2:int) -> bool:\n",
    "        num1_len = Solution.digi_len(num1)\n",
    "        num2_len = Solution.digi_len(num2)\n",
    "        \n",
    "        return (num1 * (10 ** num2_len) + num2) >= (num2 * (10 ** num1_len) + num1)\n",
    "\n",
    "    def le(num1:int, num2:int) -> bool:\n",
    "        num1_len = Solution.digi_len(num1)\n",
    "        num2_len = Solution.digi_len(num2)\n",
    "        \n",
    "        return (num1 * (10 ** num2_len) + num2) <= (num2 * (10 ** num1_len) + num1)\n",
    "\n",
    "    # def ge(num1:int, num2:int) -> bool:\n",
    "    #     num1_len = num1.bit_length() if num1 != 0 else 1\n",
    "    #     num2_len = num2.bit_length() if num2 != 0 else 1\n",
    "        \n",
    "    #     return (num1 << num2_len) + num2 >= (num2 << num1_len) + num1\n",
    "\n",
    "    # def le(num1:int, num2:int) -> bool:\n",
    "    #     num1_len = num1.bit_length() if num1 != 0 else 1\n",
    "    #     num2_len = num2.bit_length() if num2 != 0 else 1\n",
    "        \n",
    "    #     return (num1 << num2_len) + num2 <= (num2 << num1_len) + num1\n",
    "\n",
    "\n",
    "    # def quick_sort(nums, l, r):\n",
    "    #     # 子数组长度为 1 时终止递归\n",
    "    #     if l >= r: return\n",
    "    #     # 哨兵划分操作\n",
    "    #     i = Solution.partition(nums, l, r)\n",
    "    #     # 递归左（右）子数组执行哨兵划分\n",
    "    #     Solution.quick_sort(nums, l, i - 1)\n",
    "    #     Solution.quick_sort(nums, i + 1, r)\n",
    "    \n",
    "    # def partition(nums, l, r):        \n",
    "    #     # 以 nums[l] 作为基准数\n",
    "    #     i, j = l, r\n",
    "    #     while i < j:\n",
    "    #         while i < j and Solution.ge(nums[j], nums[l]): j -= 1\n",
    "    #         while i < j and Solution.le(nums[i], nums[l]): i += 1\n",
    "    #         nums[i], nums[j] = nums[j], nums[i]\n",
    "    #     nums[l], nums[i] = nums[i], nums[l]\n",
    "    #     return i\n",
    "\n",
    "    def quick_sort(nums, l, r):\n",
    "        # 子数组长度为 1 时终止递归\n",
    "        while l < r:\n",
    "            # 哨兵划分操作\n",
    "            i = Solution.partition(nums, l, r)\n",
    "            # 仅递归至较短子数组，控制递归深度\n",
    "            if i - l < r - i:\n",
    "                Solution.quick_sort(nums, l, i - 1)\n",
    "                l = i + 1\n",
    "            else:\n",
    "                Solution.quick_sort(nums, i + 1, r)\n",
    "                r = i - 1\n",
    "   \n",
    "    def partition(nums, l, r):\n",
    "        # 在闭区间 [l, r] 随机选取任意索引，并与 nums[l] 交换\n",
    "        ra = random.randrange(l, r + 1)\n",
    "        nums[l], nums[ra] = nums[ra], nums[l]\n",
    "        # 以 nums[l] 作为基准数\n",
    "        i, j = l, r\n",
    "        while i < j:\n",
    "            while i < j and Solution.ge(nums[j], nums[l]): j -= 1\n",
    "            while i < j and Solution.le(nums[i], nums[l]): i += 1            \n",
    "            nums[i], nums[j] = nums[j], nums[i]\n",
    "        nums[l], nums[i] = nums[i], nums[l]\n",
    "        return i\n",
    "\n",
    "    def crackPassword(self, password: List[int]) -> str:\n",
    "        Solution.quick_sort(password, 0, len(password) - 1)\n",
    "        # print(password)\n",
    "\n",
    "        min_str = ''\n",
    "        for i in password:\n",
    "            min_str += str(i)\n",
    "\n",
    "        return min_str"
   ]
  },
  {
   "cell_type": "code",
   "execution_count": 100,
   "metadata": {},
   "outputs": [
    {
     "name": "stdout",
     "output_type": "stream",
     "text": [
      "1578\n",
      "03033459\n",
      "CPU times: user 208 µs, sys: 0 ns, total: 208 µs\n",
      "Wall time: 149 µs\n"
     ]
    }
   ],
   "source": [
    "%%time\n",
    "\n",
    "s=Solution()\n",
    "print(s.crackPassword([15, 8, 7]))\n",
    "print(s.crackPassword([0, 3, 30, 34, 5, 9]))"
   ]
  },
  {
   "cell_type": "markdown",
   "metadata": {},
   "source": [
    "#### Method 2"
   ]
  },
  {
   "cell_type": "code",
   "execution_count": 107,
   "metadata": {},
   "outputs": [],
   "source": [
    "from typing import List\n",
    "import random\n",
    "\n",
    "class Solution:\n",
    "    def crackPassword(self, password: List[int]) -> str:\n",
    "        self.num_power = {}\n",
    "\n",
    "        def digi_len(num : int) -> int :\n",
    "            i = 1\n",
    "            while num > 9:    \n",
    "                num //= 10\n",
    "                i += 1\n",
    "            return i\n",
    "\n",
    "        # def quick_sort(nums, l, r):\n",
    "        #     if l >= r: return\n",
    "        #     i = partition(nums, l, r)\n",
    "        #     quick_sort(nums, l, i - 1)\n",
    "        #     quick_sort(nums, i + 1, r)\n",
    "    \n",
    "        # def partition(nums, l, r):        \n",
    "        #     i, j = l, r\n",
    "        #     while i < j:\n",
    "        #         while i < j and nums[j] * self.num_power[nums[l]] + nums[l] >= nums[l] * self.num_power[nums[j]] + nums[j]: j -= 1\n",
    "        #         while i < j and nums[i] * self.num_power[nums[l]] + nums[l] <= nums[l] * self.num_power[nums[i]] + nums[i]: i += 1\n",
    "        #         nums[i], nums[j] = nums[j], nums[i]\n",
    "        #     nums[l], nums[i] = nums[i], nums[l]\n",
    "        #     return i\n",
    "\n",
    "        def quick_sort(nums, l, r):\n",
    "            # 子数组长度为 1 时终止递归\n",
    "            while l < r:\n",
    "                # 哨兵划分操作\n",
    "                i = partition(nums, l, r)\n",
    "                # 仅递归至较短子数组，控制递归深度\n",
    "                if i - l < r - i:\n",
    "                    quick_sort(nums, l, i - 1)\n",
    "                    l = i + 1\n",
    "                else:\n",
    "                    quick_sort(nums, i + 1, r)\n",
    "                    r = i - 1\n",
    "    \n",
    "        def partition(nums, l, r):\n",
    "            # 在闭区间 [l, r] 随机选取任意索引，并与 nums[l] 交换\n",
    "            ra = random.randrange(l, r + 1)\n",
    "            nums[l], nums[ra] = nums[ra], nums[l]\n",
    "            # 以 nums[l] 作为基准数\n",
    "            i, j = l, r\n",
    "            while i < j:\n",
    "                while i < j and nums[j] * self.num_power[nums[l]] + nums[l] >= nums[l] * self.num_power[nums[j]] + nums[j]: j -= 1\n",
    "                while i < j and nums[i] * self.num_power[nums[l]] + nums[l] <= nums[l] * self.num_power[nums[i]] + nums[i]: i += 1          \n",
    "                nums[i], nums[j] = nums[j], nums[i]\n",
    "            nums[l], nums[i] = nums[i], nums[l]\n",
    "            return i\n",
    "\n",
    "        self.num_power = {p:10**digi_len(p) for p in password}\n",
    "\n",
    "        quick_sort(password, 0, len(password) - 1)\n",
    "\n",
    "        return ''.join([str(p) for p in password])\n"
   ]
  },
  {
   "cell_type": "code",
   "execution_count": 108,
   "metadata": {},
   "outputs": [
    {
     "name": "stdout",
     "output_type": "stream",
     "text": [
      "1578\n",
      "03033459\n",
      "CPU times: user 167 µs, sys: 29 µs, total: 196 µs\n",
      "Wall time: 201 µs\n"
     ]
    }
   ],
   "source": [
    "%%time\n",
    "\n",
    "s=Solution()\n",
    "print(s.crackPassword([15, 8, 7]))\n",
    "print(s.crackPassword([0, 3, 30, 34, 5, 9]))"
   ]
  },
  {
   "cell_type": "markdown",
   "metadata": {},
   "source": [
    "### 文物朝代判断"
   ]
  },
  {
   "cell_type": "code",
   "execution_count": null,
   "metadata": {},
   "outputs": [],
   "source": [
    "class Solution:\n",
    "    def checkDynasty(self, place: List[int]) -> bool:\n",
    "        pass"
   ]
  },
  {
   "cell_type": "code",
   "execution_count": null,
   "metadata": {},
   "outputs": [],
   "source": []
  }
 ],
 "metadata": {
  "kernelspec": {
   "display_name": "dl-fundamentals",
   "language": "python",
   "name": "python3"
  },
  "language_info": {
   "codemirror_mode": {
    "name": "ipython",
    "version": 3
   },
   "file_extension": ".py",
   "mimetype": "text/x-python",
   "name": "python",
   "nbconvert_exporter": "python",
   "pygments_lexer": "ipython3",
   "version": "3.9.17"
  }
 },
 "nbformat": 4,
 "nbformat_minor": 2
}
