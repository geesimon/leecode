{
 "cells": [
  {
   "cell_type": "markdown",
   "metadata": {},
   "source": [
    "### 剑指 Offer 12. 矩阵中的路径"
   ]
  },
  {
   "cell_type": "code",
   "execution_count": 45,
   "metadata": {},
   "outputs": [],
   "source": [
    "from typing import List\n",
    "\n",
    "class Solution:\n",
    "    def exist(self, board: List[List[str]], word: str) -> bool:\n",
    "        word_len = len(word)\n",
    "        if word_len == 0:\n",
    "            return True\n",
    "        m = len(board)\n",
    "        n = len(board[0])\n",
    "        if m * n == 0:\n",
    "            return False\n",
    "        \n",
    "        for i in range(m):\n",
    "            for j in range(n):\n",
    "                if word[0] == board[i][j]:  # Found a start\n",
    "                    if word_len == 1:\n",
    "                        return True\n",
    "                    \n",
    "                    stack = []\n",
    "                    occupied_map = [[0 for _ in range(n)] for _ in range(m)]\n",
    "                    \n",
    "                    stack.append([i, j, 0, -1])  #(x, y, word_key, direction)\n",
    "\n",
    "                    while len(stack) > 0:\n",
    "                        y, x, w_i, direction = stack[-1]\n",
    "\n",
    "                        occupied_map[y][x] = 1\n",
    "                        # print(f'visit {y} {x} {word[w_i]} {direction}')\n",
    "                        w_i += 1\n",
    "                        direction += 1\n",
    "            \n",
    "                        if direction == 0:\n",
    "                            # print('try up')\n",
    "                            up = y - 1                        \n",
    "                            if up >= 0 and occupied_map[up][x] == 0 and board[up][x] == word[w_i]:  # try up\n",
    "                                stack[-1][3] = direction\n",
    "                                # print(f'push {(up, x, w_i, word[w_i], direction)}')\n",
    "                                stack.append([up, x, w_i, -1])\n",
    "                            else:\n",
    "                                direction += 1\n",
    "\n",
    "                        if direction == 1:\n",
    "                            # print('try down')\n",
    "                            down = y + 1\n",
    "                            if down < m and occupied_map[down][x] == 0 and board[down][x] == word[w_i]:  # try down\n",
    "                                stack[-1][3] = direction\n",
    "                                # print(f'push {(down, x, w_i, word[w_i], direction)}')\n",
    "                                stack.append([down, x, w_i, -1])\n",
    "                            else:\n",
    "                                direction += 1\n",
    "\n",
    "                        if direction == 2:\n",
    "                            # print('try left')\n",
    "                            left = x - 1\n",
    "                            if left >= 0 and occupied_map[y][left] == 0 and board[y][left] == word[w_i]:  # try left\n",
    "                                stack[-1][3] = direction\n",
    "                                # print(f'push {(y, left, w_i, word[w_i], direction)}')\n",
    "                                stack.append([y, left, w_i, -1])\n",
    "                            else:\n",
    "                                direction += 1\n",
    "\n",
    "                        if direction == 3:\n",
    "                            # print('try right')\n",
    "                            right = x + 1\n",
    "                            if right < n and occupied_map[y][right] == 0 and board[y][right] == word[w_i]:  # try right\n",
    "                                stack[-1][3] = direction\n",
    "                                # print(f'push {(y, right, w_i, word[w_i], direction)}')\n",
    "                                stack.append([y, right, w_i, -1])\n",
    "                            else:\n",
    "                                direction += 1\n",
    "\n",
    "                        if direction > 3:\n",
    "                            occupied_map[y][x] = 0\n",
    "                            stack.pop()\n",
    "                            w_i -= 1\n",
    "                            # print(f'pop: {y} {x} {word[w_i]}')\n",
    "                            # print(stack)\n",
    "                        else:\n",
    "                            if w_i == (word_len - 1):\n",
    "                                return True\n",
    "        \n",
    "        return False"
   ]
  },
  {
   "cell_type": "code",
   "execution_count": 47,
   "metadata": {},
   "outputs": [
    {
     "name": "stdout",
     "output_type": "stream",
     "text": [
      "True\n",
      "False\n",
      "True\n",
      "True\n",
      "True\n",
      "CPU times: user 320 µs, sys: 29 µs, total: 349 µs\n",
      "Wall time: 274 µs\n"
     ]
    }
   ],
   "source": [
    "%%time\n",
    "s=Solution()\n",
    "\n",
    "print(s.exist([[\"A\",\"B\",\"C\",\"E\"],[\"S\",\"F\",\"C\",\"S\"],[\"A\",\"D\",\"E\",\"E\"]], \"ABCCED\"))\n",
    "print(s.exist([[\"a\",\"b\"],[\"c\",\"d\"]], \"abcd\"))\n",
    "print(s.exist([[\"a\",\"b\",\"c\"],[\"d\",\"e\",\"f\"], [\"a\",\"b\",\"c\"], [\"a\",\"b\",\"c\"]], \"abccba\"))\n",
    "print(s.exist([[\"A\",\"B\",\"C\",\"E\"],[\"S\",\"F\",\"E\",\"S\"],[\"A\",\"D\",\"E\",\"E\"]], \"ABCESEEEFS\"))\n",
    "print(s.exist([[\"a\"]], \"a\"))"
   ]
  },
  {
   "cell_type": "markdown",
   "metadata": {},
   "source": [
    "### 剑指 Offer 13. 机器人的运动范围"
   ]
  },
  {
   "cell_type": "code",
   "execution_count": 80,
   "metadata": {},
   "outputs": [],
   "source": [
    "class Solution:\n",
    "    def movingCount(self, m: int, n: int, k: int) -> int:\n",
    "        if k <= 0:\n",
    "            return 1\n",
    "\n",
    "        max_range = max(m, n)\n",
    "        byte_map = [i // 100 + (i % 100) // 10 + i % 10 for i in range(max_range)]\n",
    "        route_map = [[0 for _ in range(n)] for _ in range(m)]\n",
    "\n",
    "        stack = []\n",
    "        \n",
    "        stack.append((0, 0))  # x, y, direction\n",
    "        route_map[0][0] = 1\n",
    "        count = 1\n",
    "\n",
    "        while len(stack) > 0:\n",
    "            y, x = stack.pop()\n",
    "            \n",
    "            new_y = y - 1 # up\n",
    "            if new_y >= 0 and route_map[new_y][x] == 0 and byte_map[new_y] + byte_map[x] <= k:\n",
    "                count += 1\n",
    "                stack.append((new_y, x))\n",
    "                route_map[new_y][x] = 1\n",
    "\n",
    "            new_y = y + 1 # down\n",
    "            if new_y < m and route_map[new_y][x] == 0 and byte_map[new_y] + byte_map[x] <= k:\n",
    "                count += 1\n",
    "                stack.append((new_y, x))\n",
    "                route_map[new_y][x] = 1\n",
    "\n",
    "            new_x = x - 1 #left\n",
    "            if new_x >= 0 and route_map[y][new_x] == 0 and byte_map[y] + byte_map[new_x] <= k:\n",
    "                count += 1\n",
    "                stack.append((y, new_x))\n",
    "                route_map[y][new_x] = 1\n",
    "\n",
    "            new_x = x + 1 # right\n",
    "            if new_x < n and route_map[y][new_x] == 0 and byte_map[y] + byte_map[new_x] <= k:\n",
    "                count += 1\n",
    "                stack.append((y, new_x))\n",
    "                route_map[y][new_x] = 1\n",
    "\n",
    "        return count        "
   ]
  },
  {
   "cell_type": "code",
   "execution_count": 81,
   "metadata": {},
   "outputs": [
    {
     "name": "stdout",
     "output_type": "stream",
     "text": [
      "3\n",
      "1\n",
      "10\n",
      "6\n",
      "88\n",
      "15\n",
      "135\n",
      "CPU times: user 347 µs, sys: 0 ns, total: 347 µs\n",
      "Wall time: 314 µs\n"
     ]
    }
   ],
   "source": [
    "%%time\n",
    "\n",
    "s = Solution()\n",
    "print(s.movingCount(2, 3, 1))\n",
    "print(s.movingCount(3, 1, 0))\n",
    "print(s.movingCount(1, 10, 10))\n",
    "print(s.movingCount(3, 2, 17))\n",
    "print(s.movingCount(11, 8, 16))\n",
    "print(s.movingCount(16, 8, 4))\n",
    "print(s.movingCount(38, 15, 9))"
   ]
  },
  {
   "cell_type": "markdown",
   "metadata": {},
   "source": [
    "### 剑指 Offer 26. 树的子结构"
   ]
  },
  {
   "cell_type": "code",
   "execution_count": 216,
   "metadata": {},
   "outputs": [],
   "source": [
    "from typing import List\n",
    "\n",
    "# Definition for a binary tree node.\n",
    "class TreeNode:\n",
    "    def __init__(self, x):\n",
    "        self.val = x\n",
    "        self.left = None\n",
    "        self.right = None\n",
    "    \n",
    "    def append_left(self, x) -> 'TreeNode':\n",
    "        self.left = TreeNode(x)\n",
    "        return self.left\n",
    "\n",
    "    def append_right(self, x) -> 'TreeNode':\n",
    "        self.right = TreeNode(x)\n",
    "        return self.right\n",
    "\n",
    "    def __str__(self):\n",
    "        return f'TreeNode: ({self.val})'\n",
    "\n",
    "\n",
    "class Solution:\n",
    "    def convert_to_list(A: TreeNode) -> List[int]:\n",
    "        if A == None:\n",
    "            return []\n",
    "        \n",
    "        stack = []\n",
    "        stack.append(A)\n",
    "        cur = 0\n",
    "        while cur < len(stack):\n",
    "            if stack[cur].left != None:\n",
    "                stack.append(stack[cur].left)\n",
    "            if stack[cur].right != None:\n",
    "                stack.append(stack[cur].right)\n",
    "            \n",
    "            cur += 1\n",
    "\n",
    "        return [t.val for t in stack]\n",
    "\n",
    "    def isSubStructure(self, A: TreeNode, B: TreeNode) -> bool:\n",
    "\n",
    "        def dfs(parent: TreeNode, child: TreeNode) -> bool:\n",
    "            if child == None:\n",
    "                return True\n",
    "            \n",
    "            if parent == None or parent.val != child.val:            \n",
    "                return False\n",
    "        \n",
    "            return dfs(parent.left, child.left) and dfs(parent.right, child.right)\n",
    "        \n",
    "        if B == None or A == None:\n",
    "            return False\n",
    "        \n",
    "        # return dfs(A, B) or self.isSubStructure(A.left, B) or self.isSubStructure(A.right, B)\n",
    "\n",
    "        # This version is faster\n",
    "        stack = []\n",
    "        stack.append(A)\n",
    "        while len(stack):\n",
    "            cur = stack.pop()\n",
    "            if (cur.val == B.val):\n",
    "                # print(f'found {cur}')\n",
    "                if dfs(cur, B):\n",
    "                    return True\n",
    "            \n",
    "            if cur.left:\n",
    "                stack.append(cur.left)\n",
    "            if cur.right:\n",
    "                stack.append(cur.right)\n",
    "        \n",
    "        return False"
   ]
  },
  {
   "cell_type": "code",
   "execution_count": 217,
   "metadata": {},
   "outputs": [
    {
     "name": "stdout",
     "output_type": "stream",
     "text": [
      "[4, 2, 3, 4, 5, 6, 7, 8, 9]\n",
      "[4, 8, 9]\n",
      "True\n"
     ]
    }
   ],
   "source": [
    "A = TreeNode(4)\n",
    "A11 = A.append_left(2)\n",
    "A12 = A.append_right(3)\n",
    "A21 = A11.append_left(4)\n",
    "A22 = A11.append_right(5)\n",
    "A21.append_left(8)\n",
    "A21.append_right(9)\n",
    "A12.append_left(6)\n",
    "A12.append_right(7)\n",
    "\n",
    "B = TreeNode(4)\n",
    "B.append_left(8)\n",
    "B.append_right(9)\n",
    "\n",
    "print(Solution.convert_to_list(A))\n",
    "print(Solution.convert_to_list(B))\n",
    "\n",
    "s=Solution()\n",
    "print(s.isSubStructure(A, B))"
   ]
  },
  {
   "cell_type": "code",
   "execution_count": 221,
   "metadata": {},
   "outputs": [
    {
     "name": "stdout",
     "output_type": "stream",
     "text": [
      "[3, 4, 5, 1, 2]\n",
      "[4, 1]\n",
      "True\n",
      "[1, 2, 3]\n",
      "[3, 1]\n",
      "False\n"
     ]
    }
   ],
   "source": [
    "A = TreeNode(3)\n",
    "A1 = A.append_left(4)\n",
    "A.append_right(5)\n",
    "A1.append_left(1)\n",
    "A1.append_right(2)\n",
    "\n",
    "B = TreeNode(4)\n",
    "B.append_left(1)\n",
    "\n",
    "print(Solution.convert_to_list(A))\n",
    "print(Solution.convert_to_list(B))\n",
    "\n",
    "s=Solution()\n",
    "print(s.isSubStructure(A, B))\n",
    "\n",
    "A = TreeNode(1)\n",
    "A.append_left(2)\n",
    "A.append_right(3)\n",
    "\n",
    "B = TreeNode(3)\n",
    "B.append_left(1)\n",
    "\n",
    "print(Solution.convert_to_list(A))\n",
    "print(Solution.convert_to_list(B))\n",
    "\n",
    "print(s.isSubStructure(A, B))"
   ]
  },
  {
   "cell_type": "markdown",
   "metadata": {},
   "source": [
    "### 剑指 Offer 28. 对称的二叉树"
   ]
  },
  {
   "cell_type": "code",
   "execution_count": 26,
   "metadata": {},
   "outputs": [],
   "source": [
    "from typing import List\n",
    "\n",
    "# Definition for a binary tree node.\n",
    "class TreeNode:\n",
    "    def __init__(self, x):\n",
    "        self.val = x\n",
    "        self.left = None\n",
    "        self.right = None\n",
    "    \n",
    "    def append_left(self, x) -> 'TreeNode':\n",
    "        self.left = TreeNode(x)\n",
    "        return self.left\n",
    "\n",
    "    def append_right(self, x) -> 'TreeNode':\n",
    "        self.right = TreeNode(x)\n",
    "        return self.right\n",
    "\n",
    "    def __str__(self):\n",
    "        return f'TreeNode: ({self.val})'\n",
    "\n",
    "\n",
    "class Solution:\n",
    "    def convert_to_list(A: TreeNode) -> List[int]:\n",
    "        if A == None:\n",
    "            return []\n",
    "        \n",
    "        stack = []\n",
    "        stack.append(A)\n",
    "        cur = 0\n",
    "        while cur < len(stack):\n",
    "            if stack[cur] != None:            \n",
    "                stack.append(stack[cur].left)\n",
    "                stack.append(stack[cur].right)\n",
    "            \n",
    "            cur += 1\n",
    "\n",
    "        return [t.val if t != None else None for t in stack]\n",
    "\n",
    "    def isSymmetric(self, root: TreeNode) -> bool:\n",
    "        def isChildrenSymmetric(left : TreeNode, right : TreeNode) -> bool:\n",
    "            # print(f'start {left} {right}')\n",
    "            if not (left != None and right != None):\n",
    "                return (left == None) and (right == None)\n",
    "            if left.val != right.val:\n",
    "                return False\n",
    "            \n",
    "            return isChildrenSymmetric(left.left, right.right) and isChildrenSymmetric(left.right, right.left)\n",
    "                \n",
    "        return not root or isChildrenSymmetric(root.left, root.right)"
   ]
  },
  {
   "cell_type": "code",
   "execution_count": 27,
   "metadata": {},
   "outputs": [
    {
     "name": "stdout",
     "output_type": "stream",
     "text": [
      "[1, 2, 2, 3, 4, 4, 3, None, None, None, None, None, None, None, None]\n",
      "True\n",
      "[1, 2, 2, None, 3, None, 3, None, None, None, None]\n",
      "False\n"
     ]
    }
   ],
   "source": [
    "# [1,2,2,3,4,4,3]\n",
    "\n",
    "A = TreeNode(1)\n",
    "A11 = A.append_left(2)\n",
    "A12 = A.append_right(2)\n",
    "A111 = A11.append_left(3)\n",
    "A112 = A11.append_right(4)\n",
    "A121 = A12.append_left(4)\n",
    "A122 = A12.append_right(3)\n",
    "\n",
    "print(Solution.convert_to_list(A))\n",
    "s=Solution()\n",
    "print(s.isSymmetric(A))\n",
    "\n",
    "#[1,2,2,null,3,null,3]\n",
    "A = TreeNode(1)\n",
    "A11 = A.append_left(2)\n",
    "A12 = A.append_right(2)\n",
    "A112 = A11.append_right(3)\n",
    "A122 = A12.append_right(3)\n",
    "\n",
    "print(Solution.convert_to_list(A))\n",
    "print(s.isSymmetric(A))"
   ]
  },
  {
   "cell_type": "markdown",
   "metadata": {},
   "source": [
    "### 剑指 Offer 27. 二叉树的镜像"
   ]
  },
  {
   "cell_type": "code",
   "execution_count": 40,
   "metadata": {},
   "outputs": [],
   "source": [
    "# Definition for a binary tree node.\n",
    "class TreeNode:\n",
    "    def __init__(self, x):\n",
    "        self.val = x\n",
    "        self.left = None\n",
    "        self.right = None\n",
    "    \n",
    "    def append_left(self, x) -> 'TreeNode':\n",
    "        self.left = TreeNode(x)\n",
    "        return self.left\n",
    "\n",
    "    def append_right(self, x) -> 'TreeNode':\n",
    "        self.right = TreeNode(x)\n",
    "        return self.right\n",
    "\n",
    "    def __str__(self):\n",
    "        return f'TreeNode: ({self.val})'\n",
    "\n",
    "\n",
    "class Solution:\n",
    "    def convert_to_list(A: TreeNode) -> List[int]:\n",
    "        if A == None:\n",
    "            return []\n",
    "        \n",
    "        stack = []\n",
    "        stack.append(A)\n",
    "        cur = 0\n",
    "        while cur < len(stack):\n",
    "            if stack[cur] != None:            \n",
    "                stack.append(stack[cur].left)\n",
    "                stack.append(stack[cur].right)\n",
    "            \n",
    "            cur += 1\n",
    "\n",
    "        return [t.val if t != None else None for t in stack]\n",
    "\n",
    "    def mirrorTree(self, root: TreeNode) -> TreeNode:\n",
    "        def switch_node(parent : TreeNode):\n",
    "            if parent != None:\n",
    "                tmp = parent.left\n",
    "                parent.left = parent.right\n",
    "                parent.right = tmp\n",
    "        \n",
    "                switch_node(parent.left)\n",
    "                switch_node(parent.right)\n",
    "\n",
    "        switch_node(root)\n",
    "        return root"
   ]
  },
  {
   "cell_type": "code",
   "execution_count": 41,
   "metadata": {},
   "outputs": [
    {
     "name": "stdout",
     "output_type": "stream",
     "text": [
      "[4, 2, 7, 1, 3, 6, 9, None, None, None, None, None, None, None, None]\n",
      "[4, 7, 2, 9, 6, 3, 1, None, None, None, None, None, None, None, None]\n"
     ]
    }
   ],
   "source": [
    "# [4,2,7,1,3,6,9]\n",
    "\n",
    "A = TreeNode(4)\n",
    "A11 = A.append_left(2)\n",
    "A12 = A.append_right(7)\n",
    "A111 = A11.append_left(1)\n",
    "A112 = A11.append_right(3)\n",
    "A121 = A12.append_left(6)\n",
    "A122 = A12.append_right(9)\n",
    "\n",
    "print(Solution.convert_to_list(A))\n",
    "s=Solution()\n",
    "s.mirrorTree(A)\n",
    "print(Solution.convert_to_list(A))"
   ]
  },
  {
   "cell_type": "markdown",
   "metadata": {},
   "source": [
    "### 剑指 Offer 55 - I. 二叉树的深度"
   ]
  },
  {
   "cell_type": "code",
   "execution_count": null,
   "metadata": {},
   "outputs": [],
   "source": [
    "# Definition for a binary tree node.\n",
    "class TreeNode:\n",
    "    def __init__(self, x):\n",
    "        self.val = x\n",
    "        self.left = None\n",
    "        self.right = None\n",
    "    \n",
    "    def append_left(self, x) -> 'TreeNode':\n",
    "        self.left = TreeNode(x)\n",
    "        return self.left\n",
    "\n",
    "    def append_right(self, x) -> 'TreeNode':\n",
    "        self.right = TreeNode(x)\n",
    "        return self.right\n",
    "\n",
    "    def __str__(self):\n",
    "        return f'TreeNode: ({self.val})'\n",
    "\n",
    "class Solution:\n",
    "    def maxDepth(self, root: TreeNode) -> int:\n",
    "        if root == None:\n",
    "            return 0\n",
    "        \n",
    "        return 1 + max(self.maxDepth(root.left), self.maxDepth(root.right))"
   ]
  },
  {
   "cell_type": "markdown",
   "metadata": {},
   "source": [
    "### 剑指 Offer 37. 序列化二叉树"
   ]
  },
  {
   "cell_type": "code",
   "execution_count": 30,
   "metadata": {},
   "outputs": [],
   "source": [
    "# Definition for a binary tree node.\n",
    "    \n",
    "class TreeNode:\n",
    "    def __init__(self, x):\n",
    "        self.val = x\n",
    "        self.left = None\n",
    "        self.right = None\n",
    "    \n",
    "    def append_left(self, x) -> 'TreeNode':\n",
    "        self.left = TreeNode(x)\n",
    "        return self.left\n",
    "\n",
    "    def append_right(self, x) -> 'TreeNode':\n",
    "        self.right = TreeNode(x)\n",
    "        return self.right\n",
    "\n",
    "    def __str__(self):\n",
    "        return f'TreeNode: ({self.val})'\n",
    "    \n",
    "class Codec:\n",
    "    def serialize(self, root):\n",
    "        \"\"\"Encodes a tree to a single string.\n",
    "        \n",
    "        :type root: TreeNode\n",
    "        :rtype: str\n",
    "        \"\"\"\n",
    "        if root == None:\n",
    "            return []\n",
    "        \n",
    "        stack = []\n",
    "        stack.append(root)\n",
    "        cur = 0\n",
    "        while cur < len(stack):\n",
    "            if stack[cur] != None:\n",
    "                stack.append(stack[cur].left)\n",
    "                stack.append(stack[cur].right)\n",
    "            \n",
    "            cur += 1\n",
    "        \n",
    "        for i in range(len(stack) - 1, 0, -1):\n",
    "            if stack[i] != None:\n",
    "                break        \n",
    "        stack = stack[:i + 1]\n",
    "        \n",
    "        return [t.val if t != None else None for t in stack]\n",
    "        \n",
    "\n",
    "    def deserialize(self, data):\n",
    "        \"\"\"Decodes your encoded data to tree.\n",
    "        \n",
    "        :type data: str\n",
    "        :rtype: TreeNode\n",
    "        \"\"\"\n",
    "        if len(data) == 0:\n",
    "            return None\n",
    "                \n",
    "        nodes = []\n",
    "        for d in data:\n",
    "            if d != None:\n",
    "                nodes.append(TreeNode(d))\n",
    "            else:\n",
    "                nodes.append(None)\n",
    "        # print(nodes)\n",
    "\n",
    "        cur = 0\n",
    "        for i in range(len(nodes)):\n",
    "            if nodes[i] != None:\n",
    "                left_i = cur + 1\n",
    "                right_i = left_i + 1\n",
    "                # print(f'handle i {i} {nodes[i]} {left_i} {right_i}')\n",
    "                nodes[i].left = nodes[left_i] if left_i < len(nodes) else None\n",
    "                nodes[i].right = nodes[right_i] if right_i < len(nodes) else None\n",
    "\n",
    "                cur += 2\n",
    "\n",
    "        return nodes[0]\n",
    "        \n",
    "# Your Codec object will be instantiated and called as such:\n",
    "# codec = Codec()\n",
    "# codec.deserialize(codec.serialize(root))"
   ]
  },
  {
   "cell_type": "code",
   "execution_count": 32,
   "metadata": {},
   "outputs": [
    {
     "name": "stdout",
     "output_type": "stream",
     "text": [
      "[4, 2, 7, 1, 3, 6, 9]\n",
      "[1, 2, 3, None, None, 4, 5]\n",
      "[5, 2, 3, None, None, 2, 4, 3, 1]\n"
     ]
    }
   ],
   "source": [
    "A = TreeNode(4)\n",
    "A11 = A.append_left(2)\n",
    "A12 = A.append_right(7)\n",
    "A111 = A11.append_left(1)\n",
    "A112 = A11.append_right(3)\n",
    "A121 = A12.append_left(6)\n",
    "A122 = A12.append_right(9)\n",
    "\n",
    "s=Codec()\n",
    "# s.serialize(A)\n",
    "print(s.serialize(s.deserialize([4, 2, 7, 1, 3, 6, 9])))\n",
    "print(s.serialize(s.deserialize([1,2,3,None,None,4,5])))\n",
    "print(s.serialize(s.deserialize([5,2,3,None,None,2,4,3,1])))\n",
    "# B=s.deserialize([5,2,3,None,None,2,4,3,1])"
   ]
  },
  {
   "cell_type": "code",
   "execution_count": 25,
   "metadata": {},
   "outputs": [
    {
     "name": "stdout",
     "output_type": "stream",
     "text": [
      "TreeNode: (2)\n"
     ]
    }
   ],
   "source": [
    "print(B.right.left)"
   ]
  },
  {
   "cell_type": "markdown",
   "metadata": {},
   "source": [
    "### 剑指 Offer 32 - I. 从上到下打印二叉树"
   ]
  },
  {
   "cell_type": "code",
   "execution_count": 1,
   "metadata": {},
   "outputs": [],
   "source": [
    "### 剑指 Offer 32 - I. 从上到下打印二叉树"
   ]
  },
  {
   "cell_type": "code",
   "execution_count": 8,
   "metadata": {},
   "outputs": [],
   "source": [
    "from typing import List\n",
    "# Definition for a binary tree node.\n",
    "    \n",
    "class TreeNode:\n",
    "    def __init__(self, x):\n",
    "        self.val = x\n",
    "        self.left = None\n",
    "        self.right = None\n",
    "    \n",
    "    def append_left(self, x) -> 'TreeNode':\n",
    "        self.left = TreeNode(x)\n",
    "        return self.left\n",
    "\n",
    "    def append_right(self, x) -> 'TreeNode':\n",
    "        self.right = TreeNode(x)\n",
    "        return self.right\n",
    "\n",
    "    def __str__(self):\n",
    "        return f'TreeNode: ({self.val})'\n",
    "    \n",
    "class Solution:\n",
    "    def levelOrder(self, root: TreeNode) -> List[int]:\n",
    "        if root == None:\n",
    "            return []\n",
    "        \n",
    "        stack = []\n",
    "        stack.append(root)\n",
    "        cur = 0\n",
    "        while cur < len(stack):\n",
    "            if stack[cur] != None:\n",
    "                stack.append(stack[cur].left)\n",
    "                stack.append(stack[cur].right)\n",
    "            \n",
    "            cur += 1\n",
    "               \n",
    "        return [t.val for t in stack if t != None]"
   ]
  },
  {
   "cell_type": "code",
   "execution_count": 9,
   "metadata": {},
   "outputs": [
    {
     "data": {
      "text/plain": [
       "[3, 9, 20, 15, 15]"
      ]
     },
     "execution_count": 9,
     "metadata": {},
     "output_type": "execute_result"
    }
   ],
   "source": [
    "A = TreeNode(3)\n",
    "A11 = A.append_left(9)\n",
    "A12 = A.append_right(20)\n",
    "A12.append_left(15)\n",
    "A12.append_right(15)\n",
    "\n",
    "s = Solution()\n",
    "s.levelOrder(A)"
   ]
  },
  {
   "cell_type": "code",
   "execution_count": null,
   "metadata": {},
   "outputs": [],
   "source": [
    "class TreeNode:\n",
    "    def __init__(self, x):\n",
    "        self.val = x\n",
    "        self.left = None\n",
    "        self.right = None\n",
    "    \n",
    "    def append_left(self, x) -> 'TreeNode':\n",
    "        self.left = TreeNode(x)\n",
    "        return self.left\n",
    "\n",
    "    def append_right(self, x) -> 'TreeNode':\n",
    "        self.right = TreeNode(x)\n",
    "        return self.right\n",
    "\n",
    "    def __str__(self):\n",
    "        return f'TreeNode: ({self.val})'\n",
    "    \n",
    "class Solution:\n",
    "    def permutation(self, s: str) -> List[str]:\n",
    "        s = list(s)\n",
    "        return s"
   ]
  },
  {
   "cell_type": "code",
   "execution_count": 12,
   "metadata": {},
   "outputs": [
    {
     "data": {
      "text/plain": [
       "['1', '2', '3']"
      ]
     },
     "execution_count": 12,
     "metadata": {},
     "output_type": "execute_result"
    }
   ],
   "source": [
    "a=\"123\"\n",
    "list(a)"
   ]
  },
  {
   "cell_type": "code",
   "execution_count": null,
   "metadata": {},
   "outputs": [],
   "source": []
  }
 ],
 "metadata": {
  "kernelspec": {
   "display_name": "dl-fundamentals",
   "language": "python",
   "name": "python3"
  },
  "language_info": {
   "codemirror_mode": {
    "name": "ipython",
    "version": 3
   },
   "file_extension": ".py",
   "mimetype": "text/x-python",
   "name": "python",
   "nbconvert_exporter": "python",
   "pygments_lexer": "ipython3",
   "version": "3.10.9"
  }
 },
 "nbformat": 4,
 "nbformat_minor": 2
}
