{
 "cells": [
  {
   "cell_type": "code",
   "execution_count": 2,
   "metadata": {},
   "outputs": [],
   "source": [
    "# Definition for a binary tree node.\n",
    "class TreeNode:\n",
    "    def __init__(self, x):\n",
    "        self.val = x\n",
    "        self.left = None\n",
    "        self.right = None\n",
    "\n",
    "class Codec:\n",
    "    def serialize(self, root):\n",
    "        if root == None:\n",
    "            return []\n",
    "        \n",
    "        stack = []\n",
    "        stack.append(root)\n",
    "        cur = 0\n",
    "        while cur < len(stack):\n",
    "            if stack[cur] != None:\n",
    "                stack.append(stack[cur].left)\n",
    "                stack.append(stack[cur].right)\n",
    "            \n",
    "            cur += 1\n",
    "        \n",
    "        i = len(stack) - 1\n",
    "        while stack[i] == None:\n",
    "            i -= 1\n",
    "        \n",
    "        stack = stack[:i + 1]\n",
    "\n",
    "        return [t.val if t != None else None for t in stack]\n",
    "        \n",
    "\n",
    "    def deserialize(self, data):\n",
    "        if len(data) == 0:\n",
    "            return None\n",
    "                \n",
    "        nodes = []\n",
    "        for d in data:\n",
    "            if d != None:\n",
    "                nodes.append(TreeNode(d))\n",
    "            else:\n",
    "                nodes.append(None)\n",
    "\n",
    "        cur = 0\n",
    "        for i in range(len(nodes)):\n",
    "            if nodes[i] != None:\n",
    "                left_i = cur + 1\n",
    "                right_i = left_i + 1\n",
    "                nodes[i].left = nodes[left_i] if left_i < len(nodes) else None\n",
    "                nodes[i].right = nodes[right_i] if right_i < len(nodes) else None\n",
    "\n",
    "                cur += 2\n",
    "\n",
    "        return nodes[0]"
   ]
  },
  {
   "cell_type": "markdown",
   "metadata": {},
   "source": [
    "### 剑指 Offer 12. 矩阵中的路径"
   ]
  },
  {
   "cell_type": "code",
   "execution_count": 45,
   "metadata": {},
   "outputs": [],
   "source": [
    "from typing import List\n",
    "\n",
    "# Definition for a binary tree node.\n",
    "class TreeNode:\n",
    "    def __init__(self, x):\n",
    "        self.val = x\n",
    "        self.left = None\n",
    "\n",
    "class Solution:\n",
    "    def exist(self, board: List[List[str]], word: str) -> bool:\n",
    "        word_len = len(word)\n",
    "        if word_len == 0:\n",
    "            return True\n",
    "        m = len(board)\n",
    "        n = len(board[0])\n",
    "        if m * n == 0:\n",
    "            return False\n",
    "        \n",
    "        for i in range(m):\n",
    "            for j in range(n):\n",
    "                if word[0] == board[i][j]:  # Found a start\n",
    "                    if word_len == 1:\n",
    "                        return True\n",
    "                    \n",
    "                    stack = []\n",
    "                    occupied_map = [[0 for _ in range(n)] for _ in range(m)]\n",
    "                    \n",
    "                    stack.append([i, j, 0, -1])  #(x, y, word_key, direction)\n",
    "\n",
    "                    while len(stack) > 0:\n",
    "                        y, x, w_i, direction = stack[-1]\n",
    "\n",
    "                        occupied_map[y][x] = 1\n",
    "                        # print(f'visit {y} {x} {word[w_i]} {direction}')\n",
    "                        w_i += 1\n",
    "                        direction += 1\n",
    "            \n",
    "                        if direction == 0:\n",
    "                            # print('try up')\n",
    "                            up = y - 1                        \n",
    "                            if up >= 0 and occupied_map[up][x] == 0 and board[up][x] == word[w_i]:  # try up\n",
    "                                stack[-1][3] = direction\n",
    "                                # print(f'push {(up, x, w_i, word[w_i], direction)}')\n",
    "                                stack.append([up, x, w_i, -1])\n",
    "                            else:\n",
    "                                direction += 1\n",
    "\n",
    "                        if direction == 1:\n",
    "                            # print('try down')\n",
    "                            down = y + 1\n",
    "                            if down < m and occupied_map[down][x] == 0 and board[down][x] == word[w_i]:  # try down\n",
    "                                stack[-1][3] = direction\n",
    "                                # print(f'push {(down, x, w_i, word[w_i], direction)}')\n",
    "                                stack.append([down, x, w_i, -1])\n",
    "                            else:\n",
    "                                direction += 1\n",
    "\n",
    "                        if direction == 2:\n",
    "                            # print('try left')\n",
    "                            left = x - 1\n",
    "                            if left >= 0 and occupied_map[y][left] == 0 and board[y][left] == word[w_i]:  # try left\n",
    "                                stack[-1][3] = direction\n",
    "                                # print(f'push {(y, left, w_i, word[w_i], direction)}')\n",
    "                                stack.append([y, left, w_i, -1])\n",
    "                            else:\n",
    "                                direction += 1\n",
    "\n",
    "                        if direction == 3:\n",
    "                            # print('try right')\n",
    "                            right = x + 1\n",
    "                            if right < n and occupied_map[y][right] == 0 and board[y][right] == word[w_i]:  # try right\n",
    "                                stack[-1][3] = direction\n",
    "                                # print(f'push {(y, right, w_i, word[w_i], direction)}')\n",
    "                                stack.append([y, right, w_i, -1])\n",
    "                            else:\n",
    "                                direction += 1\n",
    "\n",
    "                        if direction > 3:\n",
    "                            occupied_map[y][x] = 0\n",
    "                            stack.pop()\n",
    "                            w_i -= 1\n",
    "                            # print(f'pop: {y} {x} {word[w_i]}')\n",
    "                            # print(stack)\n",
    "                        else:\n",
    "                            if w_i == (word_len - 1):\n",
    "                                return True\n",
    "        \n",
    "        return False"
   ]
  },
  {
   "cell_type": "code",
   "execution_count": 47,
   "metadata": {},
   "outputs": [
    {
     "name": "stdout",
     "output_type": "stream",
     "text": [
      "True\n",
      "False\n",
      "True\n",
      "True\n",
      "True\n",
      "CPU times: user 320 µs, sys: 29 µs, total: 349 µs\n",
      "Wall time: 274 µs\n"
     ]
    }
   ],
   "source": [
    "%%time\n",
    "s=Solution()\n",
    "\n",
    "print(s.exist([[\"A\",\"B\",\"C\",\"E\"],[\"S\",\"F\",\"C\",\"S\"],[\"A\",\"D\",\"E\",\"E\"]], \"ABCCED\"))\n",
    "print(s.exist([[\"a\",\"b\"],[\"c\",\"d\"]], \"abcd\"))\n",
    "print(s.exist([[\"a\",\"b\",\"c\"],[\"d\",\"e\",\"f\"], [\"a\",\"b\",\"c\"], [\"a\",\"b\",\"c\"]], \"abccba\"))\n",
    "print(s.exist([[\"A\",\"B\",\"C\",\"E\"],[\"S\",\"F\",\"E\",\"S\"],[\"A\",\"D\",\"E\",\"E\"]], \"ABCESEEEFS\"))\n",
    "print(s.exist([[\"a\"]], \"a\"))"
   ]
  },
  {
   "cell_type": "markdown",
   "metadata": {},
   "source": [
    "### 剑指 Offer 13. 机器人的运动范围"
   ]
  },
  {
   "cell_type": "code",
   "execution_count": 80,
   "metadata": {},
   "outputs": [],
   "source": [
    "class Solution:\n",
    "    def movingCount(self, m: int, n: int, k: int) -> int:\n",
    "        if k <= 0:\n",
    "            return 1\n",
    "\n",
    "        max_range = max(m, n)\n",
    "        byte_map = [i // 100 + (i % 100) // 10 + i % 10 for i in range(max_range)]\n",
    "        route_map = [[0 for _ in range(n)] for _ in range(m)]\n",
    "\n",
    "        stack = []\n",
    "        \n",
    "        stack.append((0, 0))  # x, y, direction\n",
    "        route_map[0][0] = 1\n",
    "        count = 1\n",
    "\n",
    "        while len(stack) > 0:\n",
    "            y, x = stack.pop()\n",
    "            \n",
    "            new_y = y - 1 # up\n",
    "            if new_y >= 0 and route_map[new_y][x] == 0 and byte_map[new_y] + byte_map[x] <= k:\n",
    "                count += 1\n",
    "                stack.append((new_y, x))\n",
    "                route_map[new_y][x] = 1\n",
    "\n",
    "            new_y = y + 1 # down\n",
    "            if new_y < m and route_map[new_y][x] == 0 and byte_map[new_y] + byte_map[x] <= k:\n",
    "                count += 1\n",
    "                stack.append((new_y, x))\n",
    "                route_map[new_y][x] = 1\n",
    "\n",
    "            new_x = x - 1 #left\n",
    "            if new_x >= 0 and route_map[y][new_x] == 0 and byte_map[y] + byte_map[new_x] <= k:\n",
    "                count += 1\n",
    "                stack.append((y, new_x))\n",
    "                route_map[y][new_x] = 1\n",
    "\n",
    "            new_x = x + 1 # right\n",
    "            if new_x < n and route_map[y][new_x] == 0 and byte_map[y] + byte_map[new_x] <= k:\n",
    "                count += 1\n",
    "                stack.append((y, new_x))\n",
    "                route_map[y][new_x] = 1\n",
    "\n",
    "        return count        "
   ]
  },
  {
   "cell_type": "code",
   "execution_count": 81,
   "metadata": {},
   "outputs": [
    {
     "name": "stdout",
     "output_type": "stream",
     "text": [
      "3\n",
      "1\n",
      "10\n",
      "6\n",
      "88\n",
      "15\n",
      "135\n",
      "CPU times: user 347 µs, sys: 0 ns, total: 347 µs\n",
      "Wall time: 314 µs\n"
     ]
    }
   ],
   "source": [
    "%%time\n",
    "\n",
    "s = Solution()\n",
    "print(s.movingCount(2, 3, 1))\n",
    "print(s.movingCount(3, 1, 0))\n",
    "print(s.movingCount(1, 10, 10))\n",
    "print(s.movingCount(3, 2, 17))\n",
    "print(s.movingCount(11, 8, 16))\n",
    "print(s.movingCount(16, 8, 4))\n",
    "print(s.movingCount(38, 15, 9))"
   ]
  },
  {
   "cell_type": "markdown",
   "metadata": {},
   "source": [
    "### 剑指 Offer 26. 树的子结构"
   ]
  },
  {
   "cell_type": "code",
   "execution_count": 216,
   "metadata": {},
   "outputs": [],
   "source": [
    "from typing import List\n",
    "\n",
    "# Definition for a binary tree node.\n",
    "class TreeNode:\n",
    "    def __init__(self, x):\n",
    "        self.val = x\n",
    "        self.left = None\n",
    "        self.right = None\n",
    "    \n",
    "    def append_left(self, x) -> 'TreeNode':\n",
    "        self.left = TreeNode(x)\n",
    "        return self.left\n",
    "\n",
    "    def append_right(self, x) -> 'TreeNode':\n",
    "        self.right = TreeNode(x)\n",
    "        return self.right\n",
    "\n",
    "    def __str__(self):\n",
    "        return f'TreeNode: ({self.val})'\n",
    "\n",
    "\n",
    "class Solution:\n",
    "    def convert_to_list(A: TreeNode) -> List[int]:\n",
    "        if A == None:\n",
    "            return []\n",
    "        \n",
    "        stack = []\n",
    "        stack.append(A)\n",
    "        cur = 0\n",
    "        while cur < len(stack):\n",
    "            if stack[cur].left != None:\n",
    "                stack.append(stack[cur].left)\n",
    "            if stack[cur].right != None:\n",
    "                stack.append(stack[cur].right)\n",
    "            \n",
    "            cur += 1\n",
    "\n",
    "        return [t.val for t in stack]\n",
    "\n",
    "    def isSubStructure(self, A: TreeNode, B: TreeNode) -> bool:\n",
    "\n",
    "        def dfs(parent: TreeNode, child: TreeNode) -> bool:\n",
    "            if child == None:\n",
    "                return True\n",
    "            \n",
    "            if parent == None or parent.val != child.val:            \n",
    "                return False\n",
    "        \n",
    "            return dfs(parent.left, child.left) and dfs(parent.right, child.right)\n",
    "        \n",
    "        if B == None or A == None:\n",
    "            return False\n",
    "        \n",
    "        # return dfs(A, B) or self.isSubStructure(A.left, B) or self.isSubStructure(A.right, B)\n",
    "\n",
    "        # This version is faster\n",
    "        stack = []\n",
    "        stack.append(A)\n",
    "        while len(stack):\n",
    "            cur = stack.pop()\n",
    "            if (cur.val == B.val):\n",
    "                # print(f'found {cur}')\n",
    "                if dfs(cur, B):\n",
    "                    return True\n",
    "            \n",
    "            if cur.left:\n",
    "                stack.append(cur.left)\n",
    "            if cur.right:\n",
    "                stack.append(cur.right)\n",
    "        \n",
    "        return False"
   ]
  },
  {
   "cell_type": "code",
   "execution_count": 217,
   "metadata": {},
   "outputs": [
    {
     "name": "stdout",
     "output_type": "stream",
     "text": [
      "[4, 2, 3, 4, 5, 6, 7, 8, 9]\n",
      "[4, 8, 9]\n",
      "True\n"
     ]
    }
   ],
   "source": [
    "A = TreeNode(4)\n",
    "A11 = A.append_left(2)\n",
    "A12 = A.append_right(3)\n",
    "A21 = A11.append_left(4)\n",
    "A22 = A11.append_right(5)\n",
    "A21.append_left(8)\n",
    "A21.append_right(9)\n",
    "A12.append_left(6)\n",
    "A12.append_right(7)\n",
    "\n",
    "B = TreeNode(4)\n",
    "B.append_left(8)\n",
    "B.append_right(9)\n",
    "\n",
    "print(Solution.convert_to_list(A))\n",
    "print(Solution.convert_to_list(B))\n",
    "\n",
    "s=Solution()\n",
    "print(s.isSubStructure(A, B))"
   ]
  },
  {
   "cell_type": "code",
   "execution_count": 221,
   "metadata": {},
   "outputs": [
    {
     "name": "stdout",
     "output_type": "stream",
     "text": [
      "[3, 4, 5, 1, 2]\n",
      "[4, 1]\n",
      "True\n",
      "[1, 2, 3]\n",
      "[3, 1]\n",
      "False\n"
     ]
    }
   ],
   "source": [
    "A = TreeNode(3)\n",
    "A1 = A.append_left(4)\n",
    "A.append_right(5)\n",
    "A1.append_left(1)\n",
    "A1.append_right(2)\n",
    "\n",
    "B = TreeNode(4)\n",
    "B.append_left(1)\n",
    "\n",
    "print(Solution.convert_to_list(A))\n",
    "print(Solution.convert_to_list(B))\n",
    "\n",
    "s=Solution()\n",
    "print(s.isSubStructure(A, B))\n",
    "\n",
    "A = TreeNode(1)\n",
    "A.append_left(2)\n",
    "A.append_right(3)\n",
    "\n",
    "B = TreeNode(3)\n",
    "B.append_left(1)\n",
    "\n",
    "print(Solution.convert_to_list(A))\n",
    "print(Solution.convert_to_list(B))\n",
    "\n",
    "print(s.isSubStructure(A, B))"
   ]
  },
  {
   "cell_type": "markdown",
   "metadata": {},
   "source": [
    "### 剑指 Offer 28. 对称的二叉树"
   ]
  },
  {
   "cell_type": "code",
   "execution_count": 26,
   "metadata": {},
   "outputs": [],
   "source": [
    "from typing import List\n",
    "\n",
    "# Definition for a binary tree node.\n",
    "class TreeNode:\n",
    "    def __init__(self, x):\n",
    "        self.val = x\n",
    "        self.left = None\n",
    "        self.right = None\n",
    "    \n",
    "    def append_left(self, x) -> 'TreeNode':\n",
    "        self.left = TreeNode(x)\n",
    "        return self.left\n",
    "\n",
    "    def append_right(self, x) -> 'TreeNode':\n",
    "        self.right = TreeNode(x)\n",
    "        return self.right\n",
    "\n",
    "    def __str__(self):\n",
    "        return f'TreeNode: ({self.val})'\n",
    "\n",
    "\n",
    "class Solution:\n",
    "    def convert_to_list(A: TreeNode) -> List[int]:\n",
    "        if A == None:\n",
    "            return []\n",
    "        \n",
    "        stack = []\n",
    "        stack.append(A)\n",
    "        cur = 0\n",
    "        while cur < len(stack):\n",
    "            if stack[cur] != None:            \n",
    "                stack.append(stack[cur].left)\n",
    "                stack.append(stack[cur].right)\n",
    "            \n",
    "            cur += 1\n",
    "\n",
    "        return [t.val if t != None else None for t in stack]\n",
    "\n",
    "    def isSymmetric(self, root: TreeNode) -> bool:\n",
    "        def isChildrenSymmetric(left : TreeNode, right : TreeNode) -> bool:\n",
    "            # print(f'start {left} {right}')\n",
    "            if not (left != None and right != None):\n",
    "                return (left == None) and (right == None)\n",
    "            if left.val != right.val:\n",
    "                return False\n",
    "            \n",
    "            return isChildrenSymmetric(left.left, right.right) and isChildrenSymmetric(left.right, right.left)\n",
    "                \n",
    "        return not root or isChildrenSymmetric(root.left, root.right)"
   ]
  },
  {
   "cell_type": "code",
   "execution_count": 27,
   "metadata": {},
   "outputs": [
    {
     "name": "stdout",
     "output_type": "stream",
     "text": [
      "[1, 2, 2, 3, 4, 4, 3, None, None, None, None, None, None, None, None]\n",
      "True\n",
      "[1, 2, 2, None, 3, None, 3, None, None, None, None]\n",
      "False\n"
     ]
    }
   ],
   "source": [
    "# [1,2,2,3,4,4,3]\n",
    "\n",
    "A = TreeNode(1)\n",
    "A11 = A.append_left(2)\n",
    "A12 = A.append_right(2)\n",
    "A111 = A11.append_left(3)\n",
    "A112 = A11.append_right(4)\n",
    "A121 = A12.append_left(4)\n",
    "A122 = A12.append_right(3)\n",
    "\n",
    "print(Solution.convert_to_list(A))\n",
    "s=Solution()\n",
    "print(s.isSymmetric(A))\n",
    "\n",
    "#[1,2,2,null,3,null,3]\n",
    "A = TreeNode(1)\n",
    "A11 = A.append_left(2)\n",
    "A12 = A.append_right(2)\n",
    "A112 = A11.append_right(3)\n",
    "A122 = A12.append_right(3)\n",
    "\n",
    "print(Solution.convert_to_list(A))\n",
    "print(s.isSymmetric(A))"
   ]
  },
  {
   "cell_type": "markdown",
   "metadata": {},
   "source": [
    "### 剑指 Offer 27. 二叉树的镜像"
   ]
  },
  {
   "cell_type": "code",
   "execution_count": 40,
   "metadata": {},
   "outputs": [],
   "source": [
    "# Definition for a binary tree node.\n",
    "class TreeNode:\n",
    "    def __init__(self, x):\n",
    "        self.val = x\n",
    "        self.left = None\n",
    "        self.right = None\n",
    "    \n",
    "    def append_left(self, x) -> 'TreeNode':\n",
    "        self.left = TreeNode(x)\n",
    "        return self.left\n",
    "\n",
    "    def append_right(self, x) -> 'TreeNode':\n",
    "        self.right = TreeNode(x)\n",
    "        return self.right\n",
    "\n",
    "    def __str__(self):\n",
    "        return f'TreeNode: ({self.val})'\n",
    "\n",
    "\n",
    "class Solution:\n",
    "    def convert_to_list(A: TreeNode) -> List[int]:\n",
    "        if A == None:\n",
    "            return []\n",
    "        \n",
    "        stack = []\n",
    "        stack.append(A)\n",
    "        cur = 0\n",
    "        while cur < len(stack):\n",
    "            if stack[cur] != None:            \n",
    "                stack.append(stack[cur].left)\n",
    "                stack.append(stack[cur].right)\n",
    "            \n",
    "            cur += 1\n",
    "\n",
    "        return [t.val if t != None else None for t in stack]\n",
    "\n",
    "    def mirrorTree(self, root: TreeNode) -> TreeNode:\n",
    "        def switch_node(parent : TreeNode):\n",
    "            if parent != None:\n",
    "                tmp = parent.left\n",
    "                parent.left = parent.right\n",
    "                parent.right = tmp\n",
    "        \n",
    "                switch_node(parent.left)\n",
    "                switch_node(parent.right)\n",
    "\n",
    "        switch_node(root)\n",
    "        return root"
   ]
  },
  {
   "cell_type": "code",
   "execution_count": 41,
   "metadata": {},
   "outputs": [
    {
     "name": "stdout",
     "output_type": "stream",
     "text": [
      "[4, 2, 7, 1, 3, 6, 9, None, None, None, None, None, None, None, None]\n",
      "[4, 7, 2, 9, 6, 3, 1, None, None, None, None, None, None, None, None]\n"
     ]
    }
   ],
   "source": [
    "# [4,2,7,1,3,6,9]\n",
    "\n",
    "A = TreeNode(4)\n",
    "A11 = A.append_left(2)\n",
    "A12 = A.append_right(7)\n",
    "A111 = A11.append_left(1)\n",
    "A112 = A11.append_right(3)\n",
    "A121 = A12.append_left(6)\n",
    "A122 = A12.append_right(9)\n",
    "\n",
    "print(Solution.convert_to_list(A))\n",
    "s=Solution()\n",
    "s.mirrorTree(A)\n",
    "print(Solution.convert_to_list(A))"
   ]
  },
  {
   "cell_type": "markdown",
   "metadata": {},
   "source": [
    "### 剑指 Offer 55 - I. 二叉树的深度"
   ]
  },
  {
   "cell_type": "code",
   "execution_count": null,
   "metadata": {},
   "outputs": [],
   "source": [
    "# Definition for a binary tree node.\n",
    "class TreeNode:\n",
    "    def __init__(self, x):\n",
    "        self.val = x\n",
    "        self.left = None\n",
    "        self.right = None\n",
    "    \n",
    "    def append_left(self, x) -> 'TreeNode':\n",
    "        self.left = TreeNode(x)\n",
    "        return self.left\n",
    "\n",
    "    def append_right(self, x) -> 'TreeNode':\n",
    "        self.right = TreeNode(x)\n",
    "        return self.right\n",
    "\n",
    "    def __str__(self):\n",
    "        return f'TreeNode: ({self.val})'\n",
    "\n",
    "class Solution:\n",
    "    def maxDepth(self, root: TreeNode) -> int:\n",
    "        if root == None:\n",
    "            return 0\n",
    "        \n",
    "        return 1 + max(self.maxDepth(root.left), self.maxDepth(root.right))"
   ]
  },
  {
   "cell_type": "markdown",
   "metadata": {},
   "source": [
    "### 剑指 Offer 37. 序列化二叉树"
   ]
  },
  {
   "cell_type": "code",
   "execution_count": 30,
   "metadata": {},
   "outputs": [],
   "source": [
    "# Definition for a binary tree node.\n",
    "    \n",
    "class TreeNode:\n",
    "    def __init__(self, x):\n",
    "        self.val = x\n",
    "        self.left = None\n",
    "        self.right = None\n",
    "    \n",
    "    def append_left(self, x) -> 'TreeNode':\n",
    "        self.left = TreeNode(x)\n",
    "        return self.left\n",
    "\n",
    "    def append_right(self, x) -> 'TreeNode':\n",
    "        self.right = TreeNode(x)\n",
    "        return self.right\n",
    "\n",
    "    def __str__(self):\n",
    "        return f'TreeNode: ({self.val})'\n",
    "    \n",
    "class Codec:\n",
    "    def serialize(self, root):\n",
    "        \"\"\"Encodes a tree to a single string.\n",
    "        \n",
    "        :type root: TreeNode\n",
    "        :rtype: str\n",
    "        \"\"\"\n",
    "        if root == None:\n",
    "            return []\n",
    "        \n",
    "        stack = []\n",
    "        stack.append(root)\n",
    "        cur = 0\n",
    "        while cur < len(stack):\n",
    "            if stack[cur] != None:\n",
    "                stack.append(stack[cur].left)\n",
    "                stack.append(stack[cur].right)\n",
    "            \n",
    "            cur += 1\n",
    "        \n",
    "        for i in range(len(stack) - 1, 0, -1):\n",
    "            if stack[i] != None:\n",
    "                break        \n",
    "        stack = stack[:i + 1]\n",
    "        \n",
    "        return [t.val if t != None else None for t in stack]\n",
    "        \n",
    "\n",
    "    def deserialize(self, data):\n",
    "        \"\"\"Decodes your encoded data to tree.\n",
    "        \n",
    "        :type data: str\n",
    "        :rtype: TreeNode\n",
    "        \"\"\"\n",
    "        if len(data) == 0:\n",
    "            return None\n",
    "                \n",
    "        nodes = []\n",
    "        for d in data:\n",
    "            if d != None:\n",
    "                nodes.append(TreeNode(d))\n",
    "            else:\n",
    "                nodes.append(None)\n",
    "        # print(nodes)\n",
    "\n",
    "        cur = 0\n",
    "        for i in range(len(nodes)):\n",
    "            if nodes[i] != None:\n",
    "                left_i = cur + 1\n",
    "                right_i = left_i + 1\n",
    "                # print(f'handle i {i} {nodes[i]} {left_i} {right_i}')\n",
    "                nodes[i].left = nodes[left_i] if left_i < len(nodes) else None\n",
    "                nodes[i].right = nodes[right_i] if right_i < len(nodes) else None\n",
    "\n",
    "                cur += 2\n",
    "\n",
    "        return nodes[0]\n",
    "        \n",
    "# Your Codec object will be instantiated and called as such:\n",
    "# codec = Codec()\n",
    "# codec.deserialize(codec.serialize(root))"
   ]
  },
  {
   "cell_type": "code",
   "execution_count": 32,
   "metadata": {},
   "outputs": [
    {
     "name": "stdout",
     "output_type": "stream",
     "text": [
      "[4, 2, 7, 1, 3, 6, 9]\n",
      "[1, 2, 3, None, None, 4, 5]\n",
      "[5, 2, 3, None, None, 2, 4, 3, 1]\n"
     ]
    }
   ],
   "source": [
    "A = TreeNode(4)\n",
    "A11 = A.append_left(2)\n",
    "A12 = A.append_right(7)\n",
    "A111 = A11.append_left(1)\n",
    "A112 = A11.append_right(3)\n",
    "A121 = A12.append_left(6)\n",
    "A122 = A12.append_right(9)\n",
    "\n",
    "s=Codec()\n",
    "# s.serialize(A)\n",
    "print(s.serialize(s.deserialize([4, 2, 7, 1, 3, 6, 9])))\n",
    "print(s.serialize(s.deserialize([1,2,3,None,None,4,5])))\n",
    "print(s.serialize(s.deserialize([5,2,3,None,None,2,4,3,1])))\n",
    "# B=s.deserialize([5,2,3,None,None,2,4,3,1])"
   ]
  },
  {
   "cell_type": "code",
   "execution_count": 25,
   "metadata": {},
   "outputs": [
    {
     "name": "stdout",
     "output_type": "stream",
     "text": [
      "TreeNode: (2)\n"
     ]
    }
   ],
   "source": [
    "print(B.right.left)"
   ]
  },
  {
   "cell_type": "markdown",
   "metadata": {},
   "source": [
    "### 剑指 Offer 32 - I. 从上到下打印二叉树"
   ]
  },
  {
   "cell_type": "code",
   "execution_count": 8,
   "metadata": {},
   "outputs": [],
   "source": [
    "from typing import List\n",
    "# Definition for a binary tree node.\n",
    "    \n",
    "class TreeNode:\n",
    "    def __init__(self, x):\n",
    "        self.val = x\n",
    "        self.left = None\n",
    "        self.right = None\n",
    "    \n",
    "    def append_left(self, x) -> 'TreeNode':\n",
    "        self.left = TreeNode(x)\n",
    "        return self.left\n",
    "\n",
    "    def append_right(self, x) -> 'TreeNode':\n",
    "        self.right = TreeNode(x)\n",
    "        return self.right\n",
    "\n",
    "    def __str__(self):\n",
    "        return f'TreeNode: ({self.val})'\n",
    "    \n",
    "class Solution:\n",
    "    def levelOrder(self, root: TreeNode) -> List[int]:\n",
    "        if root == None:\n",
    "            return []\n",
    "        \n",
    "        stack = []\n",
    "        stack.append(root)\n",
    "        cur = 0\n",
    "        while cur < len(stack):\n",
    "            if stack[cur] != None:\n",
    "                stack.append(stack[cur].left)\n",
    "                stack.append(stack[cur].right)\n",
    "            \n",
    "            cur += 1\n",
    "               \n",
    "        return [t.val for t in stack if t != None]"
   ]
  },
  {
   "cell_type": "code",
   "execution_count": 9,
   "metadata": {},
   "outputs": [
    {
     "data": {
      "text/plain": [
       "[3, 9, 20, 15, 15]"
      ]
     },
     "execution_count": 9,
     "metadata": {},
     "output_type": "execute_result"
    }
   ],
   "source": [
    "A = TreeNode(3)\n",
    "A11 = A.append_left(9)\n",
    "A12 = A.append_right(20)\n",
    "A12.append_left(15)\n",
    "A12.append_right(15)\n",
    "\n",
    "s = Solution()\n",
    "s.levelOrder(A)"
   ]
  },
  {
   "cell_type": "markdown",
   "metadata": {},
   "source": [
    "### 剑指 Offer 38. 字符串的排列"
   ]
  },
  {
   "cell_type": "markdown",
   "metadata": {},
   "source": [
    "#### Method 1"
   ]
  },
  {
   "cell_type": "code",
   "execution_count": 96,
   "metadata": {},
   "outputs": [],
   "source": [
    "from typing import List, Set\n",
    "\n",
    "class Solution:\n",
    "    def permutation(self, s: str) -> List[str]:\n",
    "        def bfs(root: str) -> Set[str]:\n",
    "            if len(root) == 1:\n",
    "                return [root]\n",
    "            \n",
    "            buffer = set()\n",
    "            # print(f'working on {s}')\n",
    "            for i in range(len(root)):\n",
    "                sub_str = root[: i] + root[i + 1:]\n",
    "                # print(f'checking sub_str {sub_str}')\n",
    "                if len(sub_str) > 1:\n",
    "                    for s_tail in self.permutation(sub_str):\n",
    "                        # print(f'appending {sub_str}')\n",
    "                        buffer.add(root[i] + s_tail)\n",
    "                else:\n",
    "                    buffer.add(root[i] + sub_str)\n",
    "            \n",
    "            return buffer\n",
    "        \n",
    "        return list(bfs(s))"
   ]
  },
  {
   "cell_type": "code",
   "execution_count": 97,
   "metadata": {},
   "outputs": [
    {
     "name": "stdout",
     "output_type": "stream",
     "text": [
      "['cba', 'bac', 'bca', 'cab', 'abc', 'acb']\n",
      "['aba', 'baa', 'aab']\n",
      "CPU times: user 86 µs, sys: 0 ns, total: 86 µs\n",
      "Wall time: 87 µs\n"
     ]
    }
   ],
   "source": [
    "%%time\n",
    "\n",
    "s=Solution()\n",
    "print(s.permutation(\"abc\"))\n",
    "print(s.permutation(\"aab\"))"
   ]
  },
  {
   "cell_type": "markdown",
   "metadata": {},
   "source": [
    "#### Method 2"
   ]
  },
  {
   "cell_type": "code",
   "execution_count": 98,
   "metadata": {},
   "outputs": [],
   "source": [
    "from typing import List\n",
    "import itertools\n",
    "\n",
    "class Solution:\n",
    "    def permutation(self, s: str) -> List[str]:\n",
    "        return [''.join(e) for e in set(itertools.permutations(s))]"
   ]
  },
  {
   "cell_type": "code",
   "execution_count": 99,
   "metadata": {},
   "outputs": [
    {
     "name": "stdout",
     "output_type": "stream",
     "text": [
      "['abc', 'bca', 'acb', 'bac', 'cab', 'cba']\n",
      "['baa', 'aab', 'aba']\n",
      "CPU times: user 49 µs, sys: 10 µs, total: 59 µs\n",
      "Wall time: 61 µs\n"
     ]
    }
   ],
   "source": [
    "%%time\n",
    "\n",
    "s=Solution()\n",
    "print(s.permutation(\"abc\"))\n",
    "print(s.permutation(\"aab\"))"
   ]
  },
  {
   "cell_type": "markdown",
   "metadata": {},
   "source": [
    "### 剑指 Offer 32 - II. 从上到下打印二叉树 II"
   ]
  },
  {
   "cell_type": "code",
   "execution_count": 11,
   "metadata": {},
   "outputs": [],
   "source": [
    "from typing import List, Set\n",
    "\n",
    "# Definition for a binary tree node.\n",
    "class TreeNode:\n",
    "    def __init__(self, x):\n",
    "        self.val = x\n",
    "        self.left = None\n",
    "        self.right = None\n",
    "    \n",
    "    def append_left(self, x) -> 'TreeNode':\n",
    "        self.left = TreeNode(x)\n",
    "        return self.left\n",
    "\n",
    "    def append_right(self, x) -> 'TreeNode':\n",
    "        self.right = TreeNode(x)\n",
    "        return self.right\n",
    "\n",
    "    def __str__(self):\n",
    "        return f'TreeNode: ({self.val})'\n",
    "   \n",
    "class Solution:\n",
    "    def levelOrder(self, root: TreeNode) -> List[List[int]]:\n",
    "        def dfs(parent : TreeNode, layer: int, dump: List[List[int]]):\n",
    "            if layer > len(dump):                \n",
    "                dump.append([])\n",
    "\n",
    "            dump[layer - 1].append(parent.val)\n",
    "            if parent.left != None:\n",
    "                dfs(parent.left, layer + 1, dump)\n",
    "            if parent.right != None:\n",
    "                dfs(parent.right, layer + 1, dump)\n",
    "\n",
    "        if root == None:\n",
    "            return []\n",
    "\n",
    "        buffer = [[]]\n",
    "        dfs(root, 1, buffer)\n",
    "        \n",
    "        return buffer        "
   ]
  },
  {
   "cell_type": "code",
   "execution_count": 34,
   "metadata": {},
   "outputs": [
    {
     "name": "stdout",
     "output_type": "stream",
     "text": [
      "[[3], [9, 20], [15, 15]]\n",
      "[[4], [2, 7], [1, 3, 6, 9]]\n"
     ]
    }
   ],
   "source": [
    "A = TreeNode(3)\n",
    "A11 = A.append_left(9)\n",
    "A12 = A.append_right(20)\n",
    "A12.append_left(15)\n",
    "A12.append_right(15)\n",
    "\n",
    "s = Solution()\n",
    "print(s.levelOrder(A))\n",
    "\n",
    "A = TreeNode(4)\n",
    "A11 = A.append_left(2)\n",
    "A12 = A.append_right(7)\n",
    "A111 = A11.append_left(1)\n",
    "A112 = A11.append_right(3)\n",
    "A121 = A12.append_left(6)\n",
    "A122 = A12.append_right(9)\n",
    "print(s.levelOrder(A))"
   ]
  },
  {
   "cell_type": "markdown",
   "metadata": {},
   "source": [
    "### 剑指 Offer 32 - III. 从上到下打印二叉树 III"
   ]
  },
  {
   "cell_type": "code",
   "execution_count": 46,
   "metadata": {},
   "outputs": [],
   "source": [
    "from typing import List\n",
    "from collections import deque\n",
    "\n",
    "# Definition for a binary tree node.\n",
    "class TreeNode:\n",
    "    def __init__(self, x):\n",
    "        self.val = x\n",
    "        self.left = None\n",
    "        self.right = None\n",
    "    \n",
    "    def append_left(self, x) -> 'TreeNode':\n",
    "        self.left = TreeNode(x)\n",
    "        return self.left\n",
    "\n",
    "    def append_right(self, x) -> 'TreeNode':\n",
    "        self.right = TreeNode(x)\n",
    "        return self.right\n",
    "\n",
    "    def __str__(self):\n",
    "        return f'TreeNode: ({self.val})'\n",
    "\n",
    "class Solution:\n",
    "    def levelOrder(self, root: TreeNode) -> List[List[int]]:\n",
    "        def dfs(parent : TreeNode, layer: int, dump: List[List[int]]):\n",
    "            if layer > len(dump):                \n",
    "                dump.append(deque())\n",
    "\n",
    "            if 0 == layer % 2:\n",
    "                dump[layer - 1].appendleft(parent.val)\n",
    "            else:\n",
    "                dump[layer - 1].append(parent.val)\n",
    "                        \n",
    "            if parent.left != None:\n",
    "                dfs(parent.left, layer + 1, dump)\n",
    "            if parent.right != None:\n",
    "                dfs(parent.right, layer + 1, dump)\n",
    "\n",
    "        if root == None:\n",
    "            return []\n",
    "\n",
    "        buffer = [deque()]\n",
    "        dfs(root, 1, buffer)\n",
    "        \n",
    "        return [list(e) for e in buffer]"
   ]
  },
  {
   "cell_type": "code",
   "execution_count": 49,
   "metadata": {},
   "outputs": [
    {
     "name": "stdout",
     "output_type": "stream",
     "text": [
      "[[3], [20, 9], [15, 17]]\n",
      "[[4], [7, 2], [1, 3, 6, 9]]\n",
      "[[1], [3, 2], [4, 5]]\n",
      "CPU times: user 109 µs, sys: 0 ns, total: 109 µs\n",
      "Wall time: 107 µs\n"
     ]
    }
   ],
   "source": [
    "%%time\n",
    "A = TreeNode(3)\n",
    "A11 = A.append_left(9)\n",
    "A12 = A.append_right(20)\n",
    "A12.append_left(15)\n",
    "A12.append_right(17)\n",
    "\n",
    "s = Solution()\n",
    "print(s.levelOrder(A))\n",
    "\n",
    "A = TreeNode(4)\n",
    "A11 = A.append_left(2)\n",
    "A12 = A.append_right(7)\n",
    "A111 = A11.append_left(1)\n",
    "A112 = A11.append_right(3)\n",
    "A121 = A12.append_left(6)\n",
    "A122 = A12.append_right(9)\n",
    "print(s.levelOrder(A))\n",
    "\n",
    "#[1,2,3,4,null,null,5]\n",
    "A = TreeNode(1)\n",
    "A11 = A.append_left(2)\n",
    "A12 = A.append_right(3)\n",
    "A111 = A11.append_left(4)\n",
    "A122 = A12.append_right(5)\n",
    "print(s.levelOrder(A))\n",
    "\n"
   ]
  },
  {
   "cell_type": "markdown",
   "metadata": {},
   "source": [
    "### 剑指 Offer 34. 二叉树中和为某一值的路径"
   ]
  },
  {
   "cell_type": "code",
   "execution_count": 5,
   "metadata": {},
   "outputs": [],
   "source": [
    "from typing import List\n",
    "\n",
    "class TreeNode:\n",
    "    def __init__(self, x):\n",
    "        self.val = x\n",
    "        self.left = None\n",
    "        self.right = None\n",
    "    \n",
    "    def append_left(self, x) -> 'TreeNode':\n",
    "        self.left = TreeNode(x)\n",
    "        return self.left\n",
    "\n",
    "    def append_right(self, x) -> 'TreeNode':\n",
    "        self.right = TreeNode(x)\n",
    "        return self.right\n",
    "\n",
    "    def __str__(self):\n",
    "        return f'TreeNode: ({self.val})'\n",
    "    \n",
    "class ChainNode:\n",
    "    def __init__(self, parent:'ChainNode', x:int):\n",
    "        self.val = x        \n",
    "        self.parent = parent\n",
    "        if parent != None:\n",
    "            self.acc_val = parent.acc_val + x\n",
    "        else:\n",
    "            self.acc_val = x\n",
    "\n",
    "class Solution:\n",
    "    def pathSum(self, root: TreeNode, target: int) -> List[List[int]]:\n",
    "        def dfs(tree_parent: TreeNode, chain_parent: ChainNode) -> List[ChainNode]:\n",
    "            if tree_parent == None:\n",
    "                return []\n",
    "            \n",
    "            child_node = ChainNode(chain_parent, tree_parent.val)\n",
    "            \n",
    "            if tree_parent.left == None and tree_parent.right == None:\n",
    "                # print(f'find leaf: {child_node.val}')\n",
    "                chains = [child_node]\n",
    "            else:\n",
    "                chains = []\n",
    "                if tree_parent.left != None:\n",
    "                    chains = dfs(tree_parent.left, child_node)\n",
    "                if tree_parent.right != None:\n",
    "                    chains += dfs(tree_parent.right, child_node)            \n",
    "\n",
    "            # print(f'leaf lenght {len(chains)}')\n",
    "            return chains\n",
    "        \n",
    "        if root == None:\n",
    "            return []\n",
    "        \n",
    "        paths = []\n",
    "        for head_node in dfs(root, None):\n",
    "            if head_node.acc_val == target:\n",
    "                one_path = []\n",
    "                while head_node != None:\n",
    "                    one_path.append(head_node.val)\n",
    "                    head_node = head_node.parent\n",
    "                    \n",
    "                paths.append(one_path[::-1])\n",
    "        \n",
    "\n",
    "        return paths"
   ]
  },
  {
   "cell_type": "code",
   "execution_count": 59,
   "metadata": {},
   "outputs": [
    {
     "name": "stdout",
     "output_type": "stream",
     "text": [
      "[]\n",
      "[]\n",
      "[]\n",
      "[[5, 4, 11, 2], [5, 8, 4, 5]]\n",
      "CPU times: user 0 ns, sys: 234 µs, total: 234 µs\n",
      "Wall time: 189 µs\n"
     ]
    }
   ],
   "source": [
    "%%time\n",
    "codec = Codec()\n",
    "\n",
    "s = Solution()\n",
    "print(s.pathSum(codec.deserialize([1,2]), 1))\n",
    "print(s.pathSum(codec.deserialize([1,2, 3]), 5))\n",
    "print(s.pathSum(codec.deserialize([1,2]), 0))\n",
    "print(s.pathSum(codec.deserialize([5,4,8,11,None,13,4,7,2,None,None,5,1]), 22))"
   ]
  },
  {
   "cell_type": "markdown",
   "metadata": {},
   "source": [
    "### 剑指 Offer 36. 二叉搜索树与双向链表"
   ]
  },
  {
   "cell_type": "code",
   "execution_count": 1,
   "metadata": {},
   "outputs": [],
   "source": [
    "# Definition for a Node.\n",
    "class Node:\n",
    "    def __init__(self, val, left=None, right=None):\n",
    "        self.val = val\n",
    "        self.left = left\n",
    "        self.right = right\n",
    "\n",
    "class Solution:\n",
    "    def treeToDoublyList(self, root: Node) -> Node:\n",
    "        self.current_node : Node = None\n",
    "        self.head_node : Node = None\n",
    "        self.node_count = 0\n",
    "\n",
    "        def sorted_travel(root: Node):\n",
    "            if root == None:\n",
    "                return\n",
    "            \n",
    "            if root.left != None:\n",
    "                sorted_travel(root.left)\n",
    "\n",
    "            # print(root.val)\n",
    "            new_node = Node(root.val)\n",
    "            if self.node_count == 0:\n",
    "                # print(f'start a head {new_node.val}')\n",
    "                self.head_node = new_node\n",
    "                self.head_node.left = new_node\n",
    "                self.head_node.right = new_node            \n",
    "            else:\n",
    "                new_node.right = self.head_node\n",
    "                new_node.left = self.current_node\n",
    "                self.current_node.right = new_node\n",
    "                self.head_node.left = new_node\n",
    "\n",
    "            self.current_node = new_node\n",
    "            self.node_count += 1\n",
    "\n",
    "            if root.right != None:\n",
    "                sorted_travel(root.right)\n",
    "\n",
    "        sorted_travel(root)\n",
    "        \n",
    "        return self.head_node"
   ]
  },
  {
   "cell_type": "code",
   "execution_count": 2,
   "metadata": {},
   "outputs": [
    {
     "name": "stdout",
     "output_type": "stream",
     "text": [
      "1\n",
      "2\n",
      "3\n",
      "4\n",
      "5\n",
      "5\n",
      "4\n",
      "3\n",
      "2\n",
      "1\n",
      "CPU times: user 163 µs, sys: 28 µs, total: 191 µs\n",
      "Wall time: 196 µs\n"
     ]
    }
   ],
   "source": [
    "%%time\n",
    "\n",
    "A=Node(4)\n",
    "A.left = Node(2)\n",
    "A.right = Node(5)\n",
    "A.left.left = Node(1)\n",
    "A.left.right = Node(3)\n",
    "\n",
    "s=Solution()\n",
    "head = s.treeToDoublyList(A)\n",
    "\n",
    "current = None\n",
    "while current != head:\n",
    "    if current == None:\n",
    "        current = head\n",
    "    print(current.val)\n",
    "    current = current.right\n",
    "\n",
    "tail = head.left\n",
    "current = None\n",
    "while current != tail:\n",
    "    if current == None:\n",
    "        current = tail\n",
    "    print(current.val)\n",
    "    current = current.left\n"
   ]
  },
  {
   "cell_type": "markdown",
   "metadata": {},
   "source": [
    "### 剑指 Offer 54. 二叉搜索树的第 k 大节点"
   ]
  },
  {
   "cell_type": "code",
   "execution_count": 36,
   "metadata": {},
   "outputs": [],
   "source": [
    "# Definition for a binary tree node.\n",
    "class TreeNode:\n",
    "    def __init__(self, x):\n",
    "        self.val = x\n",
    "        self.left = None\n",
    "        self.right = None\n",
    "\n",
    "class Solution:    \n",
    "    def kthLargest(self, root: TreeNode, k: int) -> int:\n",
    "        def find_largest(parent:TreeNode, count: int) -> (int, int):\n",
    "            largest_num = -1\n",
    "            if parent.right != None:\n",
    "                count, largest_num = find_largest(parent.right, count)\n",
    "            if count == 0:\n",
    "                return (0, largest_num)\n",
    "            \n",
    "            count -= 1\n",
    "            if count == 0:                \n",
    "                return (0, parent.val)\n",
    "            \n",
    "            if parent.left != None:\n",
    "                count, largest_num = find_largest(parent.left, count)\n",
    "            \n",
    "            return (count, largest_num)\n",
    "        \n",
    "        count, largest_num = find_largest(root, k)\n",
    "\n",
    "        if count == 0:\n",
    "            return largest_num\n",
    "        else:\n",
    "            return None\n",
    "\n",
    "        # def find_largest(parent:TreeNode):\n",
    "        #     if len(largest_list) >= k:\n",
    "        #         return\n",
    "            \n",
    "        #     if parent.right != None:\n",
    "        #         find_largest(parent.right)\n",
    "\n",
    "        #     if len(largest_list) >= k:\n",
    "        #         return\n",
    "            \n",
    "        #     largest_list.append(parent.val)\n",
    "\n",
    "        #     if len(largest_list) < k and parent.left != None:\n",
    "        #         find_largest(parent.left)\n",
    "            \n",
    "        # find_largest(root)\n",
    "\n",
    "        # # print(largest_list)\n",
    "        # if len(largest_list) >= k:\n",
    "        #     return largest_list[k - 1]\n",
    "        # else:\n",
    "        #     return None\n"
   ]
  },
  {
   "cell_type": "code",
   "execution_count": 37,
   "metadata": {},
   "outputs": [
    {
     "name": "stdout",
     "output_type": "stream",
     "text": [
      "4\n",
      "4\n",
      "CPU times: user 160 µs, sys: 0 ns, total: 160 µs\n",
      "Wall time: 126 µs\n"
     ]
    }
   ],
   "source": [
    "%%time\n",
    "codec = Codec()\n",
    "\n",
    "s = Solution()\n",
    "print(s.kthLargest(codec.deserialize([3,1,4,None,2]), 1))\n",
    "print(s.kthLargest(codec.deserialize([5,3,6,2,4,None,None,1]), 3))\n"
   ]
  },
  {
   "cell_type": "markdown",
   "metadata": {},
   "source": [
    "### 剑指 Offer 55 - II. 平衡二叉树"
   ]
  },
  {
   "cell_type": "code",
   "execution_count": 48,
   "metadata": {},
   "outputs": [],
   "source": [
    "# Definition for a binary tree node.\n",
    "class TreeNode:\n",
    "    def __init__(self, x):\n",
    "        self.val = x\n",
    "        self.left = None\n",
    "        self.right = None\n",
    "\n",
    "class Solution:\n",
    "    def isBalanced(self, root: TreeNode) -> bool:\n",
    "        def depth(root: TreeNode) -> int:\n",
    "            if root == None:\n",
    "                return 0\n",
    "            \n",
    "            d_left = 1\n",
    "            d_right = 1\n",
    "            if root.left != None:\n",
    "                d_left += depth(root.left)\n",
    "            if root.right != None:\n",
    "                d_right += depth(root.right)\n",
    "            \n",
    "            return d_left if d_left > d_right else d_right\n",
    "\n",
    "        # print(depth(root))\n",
    "\n",
    "        if root == None:\n",
    "            return True\n",
    "        else:\n",
    "            return self.isBalanced(root.left) and self.isBalanced(root.right) and abs(depth(root.left) - depth(root.right)) <= 1"
   ]
  },
  {
   "cell_type": "code",
   "execution_count": 49,
   "metadata": {},
   "outputs": [
    {
     "name": "stdout",
     "output_type": "stream",
     "text": [
      "True\n",
      "False\n",
      "CPU times: user 0 ns, sys: 171 µs, total: 171 µs\n",
      "Wall time: 119 µs\n"
     ]
    }
   ],
   "source": [
    "%%time\n",
    "codec = Codec()\n",
    "\n",
    "s = Solution()\n",
    "print(s.isBalanced(codec.deserialize([3,9,20,None,None,15,7])))\n",
    "print(s.isBalanced(codec.deserialize([1,2,2,3,3,None,None,4,4])))\n"
   ]
  },
  {
   "cell_type": "markdown",
   "metadata": {},
   "source": [
    "### 剑指 Offer 68 - I. 二叉搜索树的最近公共祖先"
   ]
  },
  {
   "cell_type": "code",
   "execution_count": 5,
   "metadata": {},
   "outputs": [],
   "source": [
    "# Definition for a binary tree node.\n",
    "class TreeNode:\n",
    "    def __init__(self, x):\n",
    "        self.val = x\n",
    "        self.left = None\n",
    "        self.right = None\n",
    "\n",
    "class Solution:\n",
    "    def lowestCommonAncestor(self, root: TreeNode, p: TreeNode, q: TreeNode) -> TreeNode:\n",
    "        if root == None:\n",
    "            return None\n",
    "        \n",
    "        large = p.val if p.val > q.val else q.val\n",
    "        small = p.val if p.val < q.val else q.val\n",
    "\n",
    "        if large >= root.val and small <= root.val:\n",
    "            return root\n",
    "        \n",
    "        if small > root.val:\n",
    "            return self.lowestCommonAncestor(root.right, p, q)\n",
    "        else:  #large < root.val\n",
    "            return self.lowestCommonAncestor(root.left, p, q)"
   ]
  },
  {
   "cell_type": "code",
   "execution_count": 6,
   "metadata": {},
   "outputs": [
    {
     "name": "stdout",
     "output_type": "stream",
     "text": [
      "6\n",
      "2\n",
      "CPU times: user 114 µs, sys: 0 ns, total: 114 µs\n",
      "Wall time: 92 µs\n"
     ]
    }
   ],
   "source": [
    "%%time\n",
    "codec = Codec()\n",
    "\n",
    "s = Solution()\n",
    "print(s.lowestCommonAncestor(codec.deserialize([6,2,8,0,4,7,9,None,None,3,5]), TreeNode(2), TreeNode(8)).val)\n",
    "print(s.lowestCommonAncestor(codec.deserialize([6,2,8,0,4,7,9,None,None,3,5]), TreeNode(2), TreeNode(4)).val)\n"
   ]
  },
  {
   "cell_type": "markdown",
   "metadata": {},
   "source": [
    "### 剑指 Offer 68 - II. 二叉树的最近公共祖先"
   ]
  },
  {
   "cell_type": "code",
   "execution_count": 91,
   "metadata": {},
   "outputs": [],
   "source": [
    "from typing import List\n",
    "\n",
    "# Definition for a binary tree node.\n",
    "class TreeNode:\n",
    "    def __init__(self, x):\n",
    "        self.val = x\n",
    "        self.left = None\n",
    "        self.right = None\n",
    "\n",
    "class Solution:\n",
    "    def lowestCommonAncestor(self, root: TreeNode, p: TreeNode, q: TreeNode) -> TreeNode:\n",
    "        if root == None or p == None or q == None:\n",
    "            return None\n",
    "        \n",
    "        p_parent_path = []\n",
    "        q_parent_path = []\n",
    "\n",
    "        def get_parent_path(parent: TreeNode, node:TreeNode, parent_path:List[int]) -> bool:\n",
    "            if parent.val == node.val:\n",
    "                return True\n",
    "            if parent.left != None:\n",
    "                if get_parent_path(parent.left, node, parent_path):\n",
    "                    parent_path.append(parent.left)\n",
    "                    return True\n",
    "            if parent.right != None:\n",
    "                if get_parent_path(parent.right, node, parent_path):\n",
    "                    parent_path.append(parent.right)\n",
    "                    return True\n",
    "            \n",
    "            return False\n",
    "\n",
    "        if (get_parent_path(root, p, p_parent_path)):\n",
    "            p_parent_path.append(root)\n",
    "        \n",
    "        if (get_parent_path(root, q, q_parent_path)):\n",
    "            q_parent_path.append(root)\n",
    "\n",
    "        if len(p_parent_path) == 0 or len(q_parent_path) == 0:\n",
    "            return None\n",
    "        \n",
    "        # print([v.val for v in p_parent_path])\n",
    "        # print([v.val for v in q_parent_path])\n",
    "\n",
    "        min_len = len(p_parent_path) if len(p_parent_path) < len(q_parent_path) else len(q_parent_path)\n",
    "        for i in range(1, min_len + 1):\n",
    "            if p_parent_path[-i].val != q_parent_path[-i].val:\n",
    "                # print(f'no match @ {i}')\n",
    "                return p_parent_path[-i + 1]\n",
    "        \n",
    "        return p_parent_path[-min_len]\n"
   ]
  },
  {
   "cell_type": "code",
   "execution_count": 92,
   "metadata": {},
   "outputs": [
    {
     "name": "stdout",
     "output_type": "stream",
     "text": [
      "3\n",
      "5\n",
      "1\n",
      "CPU times: user 2.79 ms, sys: 0 ns, total: 2.79 ms\n",
      "Wall time: 1.62 ms\n"
     ]
    }
   ],
   "source": [
    "%%time\n",
    "codec = Codec()\n",
    "\n",
    "s = Solution()\n",
    "print(s.lowestCommonAncestor(codec.deserialize([3,5,1,6,2,0,8,None,None,7,4]), TreeNode(5), TreeNode(1)).val)\n",
    "print(s.lowestCommonAncestor(codec.deserialize([3,5,1,6,2,0,8,None,None,7,4]), TreeNode(5), TreeNode(4)).val)\n",
    "print(s.lowestCommonAncestor(codec.deserialize([1,2]), TreeNode(2), TreeNode(1)).val)\n"
   ]
  },
  {
   "cell_type": "markdown",
   "metadata": {},
   "source": [
    "#### Method 2"
   ]
  },
  {
   "cell_type": "code",
   "execution_count": 6,
   "metadata": {},
   "outputs": [],
   "source": [
    "from typing import List\n",
    "\n",
    "# Definition for a binary tree node.\n",
    "class TreeNode:\n",
    "    def __init__(self, x):\n",
    "        self.val = x\n",
    "        self.left = None\n",
    "        self.right = None\n",
    "\n",
    "class Solution:\n",
    "    def lowestCommonAncestor(self, root: TreeNode, p: TreeNode, q: TreeNode) -> TreeNode:\n",
    "        if not root or root.val == p.val or root.val == q.val: return root\n",
    "        left = self.lowestCommonAncestor(root.left, p, q)\n",
    "        right = self.lowestCommonAncestor(root.right, p, q)\n",
    "        if left and right:\n",
    "            return root\n",
    "        \n",
    "        if left: return left\n",
    "        else: return right"
   ]
  },
  {
   "cell_type": "code",
   "execution_count": 7,
   "metadata": {},
   "outputs": [
    {
     "name": "stdout",
     "output_type": "stream",
     "text": [
      "3\n",
      "5\n",
      "1\n",
      "CPU times: user 0 ns, sys: 364 µs, total: 364 µs\n",
      "Wall time: 374 µs\n"
     ]
    }
   ],
   "source": [
    "%%time\n",
    "codec = Codec()\n",
    "\n",
    "s = Solution()\n",
    "print(s.lowestCommonAncestor(codec.deserialize([3,5,1,6,2,0,8,None,None,7,4]), TreeNode(5), TreeNode(1)).val)\n",
    "print(s.lowestCommonAncestor(codec.deserialize([3,5,1,6,2,0,8,None,None,7,4]), TreeNode(5), TreeNode(4)).val)\n",
    "print(s.lowestCommonAncestor(codec.deserialize([1,2]), TreeNode(2), TreeNode(1)).val)"
   ]
  },
  {
   "cell_type": "markdown",
   "metadata": {},
   "source": [
    "### 剑指 Offer 51. 数组中的逆序对"
   ]
  },
  {
   "cell_type": "code",
   "execution_count": 95,
   "metadata": {},
   "outputs": [],
   "source": [
    "class Solution:\n",
    "    def reversePairs(self, nums: List[int]) -> int:\n",
    "        self.reverse_count = 0\n",
    "\n",
    "        def merge(left: List[int], right: List[int]) -> List[int]:\n",
    "            result = []\n",
    "            left_len = len(left)\n",
    "            right_len = len(right)\n",
    "            left_i = 0\n",
    "            right_i = 0\n",
    "            while left_i < left_len and right_i < right_len:\n",
    "                if right[right_i] < left[left_i]:\n",
    "                    result.append(right[right_i])\n",
    "                    \n",
    "                    # print(f'reverse count for {right[right_i]}: {len(left) - left_i}')\n",
    "                    self.reverse_count += len(left) - left_i\n",
    "\n",
    "                    right_i += 1                    \n",
    "                else:\n",
    "                    result.append(left[left_i])\n",
    "                    left_i += 1\n",
    "\n",
    "            result += left[left_i:] + right[right_i:]\n",
    "            return result\n",
    "\n",
    "\n",
    "        def merge_sort(numbers: List[int]) -> List[int] :\n",
    "            if len(numbers) <= 1:\n",
    "                return numbers\n",
    "            left = merge_sort(numbers[:len(numbers)//2])\n",
    "            right = merge_sort(numbers[len(numbers)//2:])\n",
    "            \n",
    "            # print(f'merged_left {left}, merged_right {right}')\n",
    "            return merge(left, right)\n",
    "\n",
    "        merge_sort(nums)\n",
    "\n",
    "        return self.reverse_count"
   ]
  },
  {
   "cell_type": "code",
   "execution_count": 97,
   "metadata": {},
   "outputs": [
    {
     "name": "stdout",
     "output_type": "stream",
     "text": [
      "13\n",
      "4\n"
     ]
    }
   ],
   "source": [
    "s=Solution()\n",
    "\n",
    "print(s.reversePairs([7, 5, 6, 4, 1, 2]))\n",
    "print(s.reversePairs([1,3,2,3,1]))"
   ]
  },
  {
   "cell_type": "markdown",
   "metadata": {},
   "source": [
    "### 剑指 Offer 17. 打印从 1 到最大的 n 位数"
   ]
  },
  {
   "cell_type": "code",
   "execution_count": 28,
   "metadata": {},
   "outputs": [],
   "source": [
    "from typing import List\n",
    "\n",
    "class Solution:\n",
    "    def printNumbers(self, n: int) -> List[int]:\n",
    "        # return [i for i in range(1,10**n)]\n",
    "        return list(range(1, 10**n))"
   ]
  },
  {
   "cell_type": "code",
   "execution_count": 29,
   "metadata": {},
   "outputs": [
    {
     "name": "stdout",
     "output_type": "stream",
     "text": [
      "CPU times: user 162 µs, sys: 174 µs, total: 336 µs\n",
      "Wall time: 705 µs\n"
     ]
    }
   ],
   "source": [
    "%%time\n",
    "\n",
    "s=Solution()\n",
    "a=s.printNumbers(4)"
   ]
  },
  {
   "cell_type": "markdown",
   "metadata": {},
   "source": [
    "### 剑指 Offer 16. 数值的整数次方"
   ]
  },
  {
   "cell_type": "code",
   "execution_count": 125,
   "metadata": {},
   "outputs": [],
   "source": [
    "class Solution:\n",
    "    def myPow(self, x: float, n: int) -> float:\n",
    "        if n == 0:\n",
    "            return 1\n",
    "        elif n < 0:\n",
    "            x = 1 / x\n",
    "            n = -n\n",
    "        \n",
    "        power = x\n",
    "        bit_mask = 0b1\n",
    "        value = 1\n",
    "        for _ in range(n.bit_length()):\n",
    "            if (bit_mask & n) != 0:\n",
    "                value *= power\n",
    "            \n",
    "            power *= power\n",
    "            bit_mask = bit_mask << 1\n",
    "\n",
    "        return value"
   ]
  },
  {
   "cell_type": "code",
   "execution_count": 126,
   "metadata": {},
   "outputs": [
    {
     "data": {
      "text/plain": [
       "1024"
      ]
     },
     "execution_count": 126,
     "metadata": {},
     "output_type": "execute_result"
    }
   ],
   "source": [
    "s=Solution()\n",
    "s.myPow(2, 10)"
   ]
  },
  {
   "cell_type": "markdown",
   "metadata": {},
   "source": [
    "### 剑指 Offer 33. 二叉搜索树的后序遍历序列"
   ]
  },
  {
   "cell_type": "code",
   "execution_count": 154,
   "metadata": {},
   "outputs": [],
   "source": [
    "class Solution:\n",
    "    def verifyTreeOrder(self, postorder: List[int]) -> bool:\n",
    "        if len(postorder) <= 1:\n",
    "            return True\n",
    "        \n",
    "        root = postorder[-1]\n",
    "        #split left and right child trees\n",
    "        split_i = 0\n",
    "        while split_i < (len(postorder) - 1) and postorder[split_i] < root:\n",
    "            split_i += 1\n",
    "\n",
    "        left = postorder[:split_i]\n",
    "        right = postorder[split_i:-1]\n",
    "        # print(f'root {root} left {left}, right {right}')\n",
    "        if (len(left) > 0 and max(left) >= root) or (len(right) > 0 and min(right) <= root):\n",
    "            return False\n",
    "        else:\n",
    "            return self.verifyTreeOrder(left) and self.verifyTreeOrder(right)            \n"
   ]
  },
  {
   "cell_type": "code",
   "execution_count": 155,
   "metadata": {},
   "outputs": [
    {
     "name": "stdout",
     "output_type": "stream",
     "text": [
      "True\n",
      "False\n",
      "False\n",
      "True\n",
      "CPU times: user 62 µs, sys: 58 µs, total: 120 µs\n",
      "Wall time: 97.8 µs\n"
     ]
    }
   ],
   "source": [
    "%%time\n",
    "\n",
    "s=Solution()\n",
    "print(s.verifyTreeOrder([4,6,5,9,8]))\n",
    "print(s.verifyTreeOrder([4,9,6,5,8]))\n",
    "print(s.verifyTreeOrder([1,2,5,10,6,9,4,3]))\n",
    "print(s.verifyTreeOrder([2,1]))"
   ]
  },
  {
   "cell_type": "markdown",
   "metadata": {},
   "source": [
    "### 剑指 Offer 07. 重建二叉树"
   ]
  },
  {
   "cell_type": "code",
   "execution_count": 23,
   "metadata": {},
   "outputs": [],
   "source": [
    "from typing import List\n",
    "\n",
    "class Solution:\n",
    "    def deduceTree(self, preorder: List[int], inorder: List[int]) -> TreeNode:\n",
    "        inorder_dict = {v:k for k, v in enumerate(inorder)}\n",
    "\n",
    "        if (len(preorder) == 0):\n",
    "            return None\n",
    "        \n",
    "        root = TreeNode(preorder[0])\n",
    "        if len(preorder) > 1:\n",
    "            split_i = inorder_dict[root.val]\n",
    "            # print(f'split {inorder} @ {split_i} by {root.val}')\n",
    "            # print(f'preorder: {preorder}, inorder: {inorder}')\n",
    "\n",
    "            left_inorder = inorder[:split_i]\n",
    "            right_inorder = inorder[split_i + 1:]\n",
    "            left_preorder = []\n",
    "            right_preorder = []\n",
    "\n",
    "            for i in preorder[1:]:\n",
    "                if inorder_dict[i] < split_i:\n",
    "                    left_preorder.append(i)\n",
    "                else:\n",
    "                    right_preorder.append(i)\n",
    "\n",
    "            # print(f'left_inorder:{left_inorder}, right_inorder:{right_inorder} ||| left_preorder:{left_preorder}, right_preorder:{right_preorder}')\n",
    "            root.left = self.deduceTree(left_preorder, left_inorder)\n",
    "            root.right = self.deduceTree(right_preorder, right_inorder)\n",
    "\n",
    "        return root"
   ]
  },
  {
   "cell_type": "code",
   "execution_count": 24,
   "metadata": {},
   "outputs": [
    {
     "name": "stdout",
     "output_type": "stream",
     "text": [
      "[3, 9, 20, None, None, 15, 7]\n",
      "[-1]\n",
      "[1, 2, 3, 4, 5, None, None, 6, None, None, 7]\n",
      "CPU times: user 88 µs, sys: 18 µs, total: 106 µs\n",
      "Wall time: 108 µs\n"
     ]
    }
   ],
   "source": [
    "%%time \n",
    "\n",
    "codec = Codec()\n",
    "s = Solution()\n",
    "\n",
    "print(codec.serialize(s.deduceTree([3,9,20,15,7], [9,3,15,20,7])))\n",
    "print(codec.serialize(s.deduceTree([-1], [-1])))\n",
    "print(codec.serialize(s.deduceTree([1,2,4,6,5,7,3], [6,4,2,5,7,1,3])))"
   ]
  },
  {
   "cell_type": "markdown",
   "metadata": {},
   "source": [
    "### Method 2"
   ]
  },
  {
   "cell_type": "code",
   "execution_count": 27,
   "metadata": {},
   "outputs": [],
   "source": [
    "from typing import List\n",
    "\n",
    "class Solution:\n",
    "    def deduceTree(self, preorder: List[int], inorder: List[int]) -> TreeNode:\n",
    "        inorder_index = {v:k for k, v in enumerate(inorder)}\n",
    "        self.root_i = 0\n",
    "\n",
    "        def build_tree(left_i, right_i) -> TreeNode:\n",
    "            # print(f'Explore {inorder[left_i:right_i + 1]}')\n",
    "            if self.root_i >= len(preorder):\n",
    "                return None\n",
    "\n",
    "            root_val = preorder[self.root_i]\n",
    "            self.root_i += 1\n",
    "            \n",
    "            root = TreeNode(root_val)\n",
    "            if left_i == right_i:\n",
    "                return root\n",
    "            \n",
    "            # print(f'split by {root_val}')\n",
    "            inorder_root_i = inorder_index[root_val]\n",
    "            if inorder_root_i > left_i:\n",
    "                # print(f'go left')\n",
    "                root.left = build_tree(left_i, inorder_root_i - 1)\n",
    "            if inorder_root_i < right_i:\n",
    "                # print(f'go right')\n",
    "                root.right = build_tree(inorder_root_i + 1, right_i)\n",
    "            \n",
    "            return root\n",
    "\n",
    "        return build_tree(0, len(preorder) - 1)"
   ]
  },
  {
   "cell_type": "code",
   "execution_count": 28,
   "metadata": {},
   "outputs": [
    {
     "name": "stdout",
     "output_type": "stream",
     "text": [
      "[3, 9, 20, None, None, 15, 7]\n",
      "[-1]\n",
      "[1, 2, 3, 4, 5, None, None, 6, None, None, 7]\n",
      "CPU times: user 136 µs, sys: 0 ns, total: 136 µs\n",
      "Wall time: 139 µs\n"
     ]
    }
   ],
   "source": [
    "%%time \n",
    "\n",
    "codec = Codec()\n",
    "s = Solution()\n",
    "\n",
    "print(codec.serialize(s.deduceTree([3,9,20,15,7], [9,3,15,20,7])))\n",
    "print(codec.serialize(s.deduceTree([-1], [-1])))\n",
    "print(codec.serialize(s.deduceTree([1,2,4,6,5,7,3], [6,4,2,5,7,1,3])))"
   ]
  }
 ],
 "metadata": {
  "kernelspec": {
   "display_name": "dl-fundamentals",
   "language": "python",
   "name": "python3"
  },
  "language_info": {
   "codemirror_mode": {
    "name": "ipython",
    "version": 3
   },
   "file_extension": ".py",
   "mimetype": "text/x-python",
   "name": "python",
   "nbconvert_exporter": "python",
   "pygments_lexer": "ipython3",
   "version": "3.10.9"
  }
 },
 "nbformat": 4,
 "nbformat_minor": 2
}
