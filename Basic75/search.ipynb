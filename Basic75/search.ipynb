{
 "cells": [
  {
   "cell_type": "markdown",
   "metadata": {},
   "source": [
    "### 剑指 Offer 12. 矩阵中的路径"
   ]
  },
  {
   "cell_type": "code",
   "execution_count": 18,
   "metadata": {},
   "outputs": [],
   "source": [
    "from typing import List\n",
    "\n",
    "class Solution:\n",
    "    def exist(self, board: List[List[str]], word: str) -> bool:\n",
    "        word_len = len(word)\n",
    "        if word_len == 0:\n",
    "            return True\n",
    "        m = len(board)\n",
    "        n = len(board[0])\n",
    "        if m * n == 0:\n",
    "            return False\n",
    "        \n",
    "        for i in range(m):\n",
    "            for j in range(n):\n",
    "                if word[0] == board[i][j]:  # Found a start\n",
    "                    stack = []\n",
    "                    occupied_map = [[0 for _ in range(n)] for _ in range(m)]\n",
    "\n",
    "                    w_i = 0\n",
    "                    stack.append((i, j, w_i, -1))  #(x, y, word_key, direction)\n",
    "                    while len(stack) > 0 and (w_i < word_len - 1):\n",
    "                        y, x, w_i = stack.pop()                        \n",
    "                        occupied_map[y][x] = 1\n",
    "                        print(f'visit {y} {x} {word[w_i]}')\n",
    "                        found_next = False\n",
    "                        w_i += 1\n",
    "\n",
    "                        up = y - 1\n",
    "                        if up >= 0 and occupied_map[up][x] == 0 and board[up][x] == word[w_i]:  # try left\n",
    "                            found_next = True\n",
    "                            print(up, x, w_i, word[w_i])\n",
    "                            stack.append((up, x, w_i))\n",
    "                        \n",
    "                        down = y + 1\n",
    "                        if down < m and occupied_map[down][x] == 0 and board[down][x] == word[w_i]:  # try left\n",
    "                            found_next = True\n",
    "                            print(down, x, w_i, word[w_i])\n",
    "                            stack.append((down, x, w_i))\n",
    "\n",
    "                        left = x - 1\n",
    "                        if left >= 0 and occupied_map[y][left] == 0 and board[y][left] == word[w_i]:  # try left\n",
    "                            found_next = True\n",
    "                            print(y, left, w_i, word[w_i])\n",
    "                            stack.append((y, left, w_i))\n",
    "                        \n",
    "                        right = x + 1\n",
    "                        if right < n and occupied_map[y][right] == 0 and board[y][right] == word[w_i]:  # try left\n",
    "                            found_next = True\n",
    "                            print(y, right, w_i, word[w_i])\n",
    "                            stack.append((y, right, w_i))\n",
    "\n",
    "                        if not found_next:\n",
    "                            occupied_map[y][x] = 0                                                        \n",
    "                            w_i -= 1\n",
    "                            print(f'stop: {y} {x} {word[w_i]}')\n",
    "                            print(stack)\n",
    "\n",
    "                    if w_i == (word_len - 1):\n",
    "                        # print(stack)\n",
    "                        return True\n",
    "        \n",
    "        return False\n"
   ]
  },
  {
   "cell_type": "code",
   "execution_count": 19,
   "metadata": {},
   "outputs": [
    {
     "name": "stdout",
     "output_type": "stream",
     "text": [
      "visit 0 0 A\n",
      "0 1 1 B\n",
      "visit 0 1 B\n",
      "0 2 2 C\n",
      "visit 0 2 C\n",
      "1 2 3 E\n",
      "0 3 3 E\n",
      "visit 0 3 E\n",
      "1 3 4 S\n",
      "visit 1 3 S\n",
      "2 3 5 E\n",
      "1 2 5 E\n",
      "visit 1 2 E\n",
      "2 2 6 E\n",
      "visit 2 2 E\n",
      "2 3 7 E\n",
      "visit 2 3 E\n",
      "stop: 2 3 E\n",
      "[(1, 2, 3), (2, 3, 5)]\n",
      "visit 2 3 E\n",
      "stop: 2 3 E\n",
      "[(1, 2, 3)]\n",
      "visit 1 2 E\n",
      "stop: 1 2 E\n",
      "[]\n",
      "visit 2 0 A\n",
      "stop: 2 0 A\n",
      "[]\n",
      "False\n",
      "CPU times: user 157 µs, sys: 41 µs, total: 198 µs\n",
      "Wall time: 192 µs\n"
     ]
    }
   ],
   "source": [
    "%%time\n",
    "s=Solution()\n",
    "\n",
    "# print(s.exist([[\"A\",\"B\",\"C\",\"E\"],[\"S\",\"F\",\"C\",\"S\"],[\"A\",\"D\",\"E\",\"E\"]], \"ABCCED\"))\n",
    "# print(s.exist([[\"a\",\"b\"],[\"c\",\"d\"]], \"abcd\"))\n",
    "# print(s.exist([[\"a\",\"b\",\"c\"],[\"d\",\"e\",\"f\"], [\"a\",\"b\",\"c\"], [\"a\",\"b\",\"c\"]], \"abccba\"))\n",
    "print(s.exist([[\"A\",\"B\",\"C\",\"E\"],[\"S\",\"F\",\"E\",\"S\"],[\"A\",\"D\",\"E\",\"E\"]], \"ABCESEEEFS\"))\n"
   ]
  },
  {
   "cell_type": "code",
   "execution_count": null,
   "metadata": {},
   "outputs": [],
   "source": []
  },
  {
   "cell_type": "code",
   "execution_count": null,
   "metadata": {},
   "outputs": [],
   "source": []
  }
 ],
 "metadata": {
  "kernelspec": {
   "display_name": "dl-fundamentals",
   "language": "python",
   "name": "python3"
  },
  "language_info": {
   "codemirror_mode": {
    "name": "ipython",
    "version": 3
   },
   "file_extension": ".py",
   "mimetype": "text/x-python",
   "name": "python",
   "nbconvert_exporter": "python",
   "pygments_lexer": "ipython3",
   "version": "3.10.9"
  }
 },
 "nbformat": 4,
 "nbformat_minor": 2
}
