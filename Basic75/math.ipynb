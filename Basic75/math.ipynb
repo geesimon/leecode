{
 "cells": [
  {
   "cell_type": "markdown",
   "metadata": {},
   "source": [
    "### 砍竹子 I"
   ]
  },
  {
   "cell_type": "code",
   "execution_count": 29,
   "metadata": {},
   "outputs": [],
   "source": [
    "class Solution:\n",
    "    def cuttingBamboo(self, bamboo_len: int) -> int:\n",
    "        max = bamboo_len - 1\n",
    "        for i in range(2, (bamboo_len // 2) + 1):\n",
    "            a = bamboo_len // i\n",
    "            r = bamboo_len % i\n",
    "            if r > a: r = a\n",
    "\n",
    "            m1 = ((i + 1) ** r) * (i ** (a - r))\n",
    "            m2 = i ** a * r\n",
    "            m = m1 if m1 > m2 else m2\n",
    "            # print(i, a, r, m)\n",
    "            if m > max:\n",
    "                max = m\n",
    "            else:\n",
    "                break\n",
    "\n",
    "        return max"
   ]
  },
  {
   "cell_type": "code",
   "execution_count": 30,
   "metadata": {},
   "outputs": [
    {
     "name": "stdout",
     "output_type": "stream",
     "text": [
      "1549681956\n",
      "2\n",
      "18\n",
      "CPU times: user 69 µs, sys: 18 µs, total: 87 µs\n",
      "Wall time: 88.7 µs\n"
     ]
    }
   ],
   "source": [
    "%%time\n",
    "\n",
    "s=Solution()\n",
    "print(s.cuttingBamboo(58))\n",
    "print(s.cuttingBamboo(3))\n",
    "print(s.cuttingBamboo(8))"
   ]
  },
  {
   "cell_type": "markdown",
   "metadata": {},
   "source": [
    "#### Solution 2 - DP"
   ]
  },
  {
   "cell_type": "code",
   "execution_count": 18,
   "metadata": {},
   "outputs": [],
   "source": [
    "class Solution:\n",
    "    def cuttingBamboo(self, bamboo_len: int) -> int:\n",
    "        dp = [0] * (bamboo_len + 1)\n",
    "        dp[1] = 1\n",
    "\n",
    "        for i in range(2, bamboo_len + 1):\n",
    "            max_value = i\n",
    "            for j in range(1, i):\n",
    "                max_value = max(dp[j] * (i - j), max_value)\n",
    "            dp[i] = max_value\n",
    "\n",
    "        return dp[-1]"
   ]
  },
  {
   "cell_type": "code",
   "execution_count": 19,
   "metadata": {},
   "outputs": [
    {
     "name": "stdout",
     "output_type": "stream",
     "text": [
      "1549681956\n",
      "3\n",
      "18\n",
      "CPU times: user 236 µs, sys: 0 ns, total: 236 µs\n",
      "Wall time: 233 µs\n"
     ]
    }
   ],
   "source": [
    "%%time\n",
    "\n",
    "s=Solution()\n",
    "print(s.cuttingBamboo(58))\n",
    "print(s.cuttingBamboo(3))\n",
    "print(s.cuttingBamboo(8))"
   ]
  },
  {
   "cell_type": "code",
   "execution_count": 22,
   "metadata": {},
   "outputs": [],
   "source": [
    "#### Solution 3 - Optimized"
   ]
  },
  {
   "cell_type": "code",
   "execution_count": 37,
   "metadata": {},
   "outputs": [],
   "source": [
    "class Solution:\n",
    "    def cuttingBamboo(self, bamboo_len: int) -> int:\n",
    "        a = bamboo_len // 3\n",
    "        b = bamboo_len % 3\n",
    "        if b == 1 and a >= 1:\n",
    "            a -= 1\n",
    "            b = 4\n",
    "\n",
    "        return (3 ** a) if b == 0 else (3 ** a) * b"
   ]
  },
  {
   "cell_type": "code",
   "execution_count": 38,
   "metadata": {},
   "outputs": [
    {
     "name": "stdout",
     "output_type": "stream",
     "text": [
      "1549681956\n",
      "3\n",
      "18\n",
      "CPU times: user 76 µs, sys: 20 µs, total: 96 µs\n",
      "Wall time: 98 µs\n"
     ]
    }
   ],
   "source": [
    "%%time\n",
    "\n",
    "s=Solution()\n",
    "print(s.cuttingBamboo(58))\n",
    "print(s.cuttingBamboo(3))\n",
    "print(s.cuttingBamboo(8))"
   ]
  },
  {
   "cell_type": "markdown",
   "metadata": {},
   "source": [
    "### 砍竹子 II"
   ]
  },
  {
   "cell_type": "code",
   "execution_count": 95,
   "metadata": {},
   "outputs": [],
   "source": [
    "class Solution:\n",
    "    def cuttingBamboo(self, bamboo_len: int) -> int:\n",
    "        def power_mod(n, p, m):\n",
    "            n_m = 1\n",
    "            for _ in range(p):\n",
    "                n_m = (n_m * n) % m\n",
    "\n",
    "            return n_m\n",
    "\n",
    "        if bamboo_len <= 3:\n",
    "            return bamboo_len - 1\n",
    "        \n",
    "        a = bamboo_len // 3\n",
    "        b = bamboo_len % 3\n",
    "        if b == 1 and a >= 1:\n",
    "            a -= 1\n",
    "            b = 4\n",
    "        return power_mod(3, a, 1000000007) if b == 0 else (power_mod(3, a, 1000000007) * b) % 1000000007\n",
    "    \n",
    "        # return (3 ** a) % 1000000007 if b == 0 else ((3 ** a) * b) % 1000000007\n"
   ]
  },
  {
   "cell_type": "code",
   "execution_count": 96,
   "metadata": {},
   "outputs": [
    {
     "name": "stdout",
     "output_type": "stream",
     "text": [
      "549681949\n",
      "2\n",
      "4\n",
      "18\n",
      "620946522\n",
      "CPU times: user 82 µs, sys: 0 ns, total: 82 µs\n",
      "Wall time: 84.2 µs\n"
     ]
    }
   ],
   "source": [
    "%%time\n",
    "\n",
    "s=Solution()\n",
    "print(s.cuttingBamboo(58))\n",
    "print(s.cuttingBamboo(3))\n",
    "print(s.cuttingBamboo(4))\n",
    "print(s.cuttingBamboo(8))\n",
    "print(s.cuttingBamboo(1000))"
   ]
  },
  {
   "cell_type": "markdown",
   "metadata": {},
   "source": [
    "### 库存管理 II"
   ]
  },
  {
   "cell_type": "code",
   "execution_count": 8,
   "metadata": {},
   "outputs": [],
   "source": [
    "from typing import List\n",
    "\n",
    "class Solution:\n",
    "    def inventoryManagement(self, stock: List[int]) -> int:\n",
    "        stat = {}\n",
    "        half_len = len(stock) // 2\n",
    "\n",
    "        for s in stock:\n",
    "            stat[s] = 1 if s not in stat else stat[s] + 1\n",
    "\n",
    "        for k,v in stat.items():\n",
    "            if v > half_len:\n",
    "                return k\n",
    "        \n",
    "        return -1"
   ]
  },
  {
   "cell_type": "code",
   "execution_count": 9,
   "metadata": {},
   "outputs": [
    {
     "name": "stdout",
     "output_type": "stream",
     "text": [
      "1\n",
      "12\n"
     ]
    }
   ],
   "source": [
    "s=Solution()\n",
    "print(s.inventoryManagement([6, 1, 3, 1, 1, 1]))\n",
    "print(s.inventoryManagement([6, 1, 3, 1, 1, 12, 12, 12, 12, 1, 12, 12, 12, 12]))"
   ]
  },
  {
   "cell_type": "markdown",
   "metadata": {},
   "source": [
    "#### Solution 2 - Boyer-Moore Majority Vote"
   ]
  },
  {
   "cell_type": "code",
   "execution_count": 2,
   "metadata": {},
   "outputs": [],
   "source": [
    "from typing import List\n",
    "\n",
    "class Solution:\n",
    "    def inventoryManagement(self, stock: List[int]) -> int:\n",
    "        candidate = None\n",
    "        count = 0\n",
    "        for s in stock:\n",
    "            if count == 0:\n",
    "                candidate = s\n",
    "                count = 1\n",
    "            else:\n",
    "                if candidate == s:\n",
    "                    count += 1\n",
    "                else:\n",
    "                    count -= 1\n",
    "        \n",
    "        return candidate"
   ]
  },
  {
   "cell_type": "code",
   "execution_count": 3,
   "metadata": {},
   "outputs": [
    {
     "name": "stdout",
     "output_type": "stream",
     "text": [
      "1\n",
      "12\n"
     ]
    }
   ],
   "source": [
    "s=Solution()\n",
    "print(s.inventoryManagement([6, 1, 3, 1, 1, 1]))\n",
    "print(s.inventoryManagement([6, 1, 3, 1, 1, 12, 12, 12, 12, 1, 12, 12, 12, 12]))"
   ]
  },
  {
   "cell_type": "markdown",
   "metadata": {},
   "source": [
    "### 数字 1 的个数 -- Good Effort"
   ]
  },
  {
   "cell_type": "markdown",
   "metadata": {},
   "source": [
    "#### Solution 4 (Accumations)"
   ]
  },
  {
   "cell_type": "code",
   "execution_count": 70,
   "metadata": {},
   "outputs": [],
   "source": [
    "class Solution:\n",
    "    def digitOneInNumber(self, num: int) -> int:\n",
    "        quotient = num // 10\n",
    "        remainder = num % 10\n",
    "        r = 0\n",
    "        one_count = 0\n",
    "        base_1 = 1\n",
    "        base_2 = 0\n",
    "        \n",
    "        while quotient > 0 or remainder != 0:\n",
    "            # print(f'base1:{base_1}, base2:{base_2}, quotient:{quotient} remainder:{remainder}')\n",
    "            if remainder > 1:\n",
    "                one_count += base_1 + base_2 * remainder\n",
    "            elif remainder == 1:\n",
    "                one_count += base_2 + r + 1\n",
    "            \n",
    "            r = remainder * base_1 + r\n",
    "            base_2 = base_1 + 10 * base_2\n",
    "            base_1 *= 10\n",
    "            \n",
    "            remainder = quotient % 10\n",
    "            quotient //= 10\n",
    "            \n",
    "            # print(f'count:{one_count}, r:{r}')\n",
    "\n",
    "        return one_count\n"
   ]
  },
  {
   "cell_type": "code",
   "execution_count": 71,
   "metadata": {},
   "outputs": [
    {
     "name": "stdout",
     "output_type": "stream",
     "text": [
      "2096\n",
      "12\n",
      "1607408719\n",
      "4001\n",
      "1915\n",
      "CPU times: user 92 µs, sys: 0 ns, total: 92 µs\n",
      "Wall time: 69.9 µs\n"
     ]
    }
   ],
   "source": [
    "%%time\n",
    "\n",
    "s=Solution()\n",
    "print(s.digitOneInNumber(3456))\n",
    "print(s.digitOneInNumber(20))\n",
    "print(s.digitOneInNumber(1333334343))\n",
    "print(s.digitOneInNumber(10000))\n",
    "print(s.digitOneInNumber(3050))"
   ]
  },
  {
   "cell_type": "markdown",
   "metadata": {},
   "source": [
    "#### Solution 2 (Check '1' Combinations)"
   ]
  },
  {
   "cell_type": "code",
   "execution_count": 74,
   "metadata": {},
   "outputs": [],
   "source": [
    "class Solution:\n",
    "    def digitOneInNumber(self, num: int) -> int:\n",
    "        quotient = num // 10\n",
    "        remainder = num % 10\n",
    "        one_count = 0\n",
    "        base = 1\n",
    "        r = 0\n",
    "        \n",
    "        while quotient > 0 or remainder != 0:\n",
    "            if remainder > 1:\n",
    "                one_count += (quotient + 1) * base\n",
    "            elif remainder == 1:\n",
    "                one_count += quotient * base + r + 1\n",
    "            else:\n",
    "                one_count += quotient * base\n",
    "            \n",
    "            r = remainder * base + r\n",
    "            base *= 10\n",
    "            remainder = quotient % 10\n",
    "            quotient //= 10\n",
    "\n",
    "        return one_count"
   ]
  },
  {
   "cell_type": "markdown",
   "metadata": {},
   "source": [
    "#### Submit Resuilts\n",
    "\n",
    "- 执行用时：36 ms, 在所有 Python3 提交中击败了93.56%的用户\n",
    "- 内存消耗：15.9 MB, 在所有 Python3 提交中击败了93.89%的用户\n",
    "- 通过测试用例：39 / 39"
   ]
  },
  {
   "cell_type": "code",
   "execution_count": 75,
   "metadata": {},
   "outputs": [
    {
     "name": "stdout",
     "output_type": "stream",
     "text": [
      "2096\n",
      "12\n",
      "1607408719\n",
      "4001\n",
      "1915\n",
      "CPU times: user 60 µs, sys: 17 µs, total: 77 µs\n",
      "Wall time: 78.4 µs\n"
     ]
    }
   ],
   "source": [
    "%%time\n",
    "\n",
    "s=Solution()\n",
    "print(s.digitOneInNumber(3456))\n",
    "print(s.digitOneInNumber(20))\n",
    "print(s.digitOneInNumber(1333334343))\n",
    "print(s.digitOneInNumber(10000))\n",
    "print(s.digitOneInNumber(3050))"
   ]
  },
  {
   "cell_type": "markdown",
   "metadata": {},
   "source": [
    "### 找到第 k 位数字"
   ]
  },
  {
   "cell_type": "code",
   "execution_count": 18,
   "metadata": {},
   "outputs": [],
   "source": [
    "class Solution:\n",
    "    def findKthNumber(self, k: int) -> int:\n",
    "        lower = 0\n",
    "        upper = 9\n",
    "        digi_base = 0\n",
    "        digi_length = 1\n",
    "\n",
    "        while k > upper:            \n",
    "            # print(f'lower:{lower} upper:{upper} digi_length:{digi_length} digi_base:{digi_base}')\n",
    "            digi_base = digi_base * 10 if digi_base > 0 else 10\n",
    "            digi_length += 1\n",
    "            lower = upper + 1\n",
    "            upper += digi_base * 9 * digi_length\n",
    "        \n",
    "        num = (k - lower) // digi_length + digi_base\n",
    "        pos = (k - lower) % digi_length\n",
    "\n",
    "        # print(f'Found lower:{lower} upper:{upper} digi_length:{digi_length} digi_base:{digi_base} number:{num} pos:{pos}')        \n",
    "\n",
    "        return num // (10 ** (digi_length - pos - 1)) % 10"
   ]
  },
  {
   "cell_type": "code",
   "execution_count": 24,
   "metadata": {},
   "outputs": [
    {
     "data": {
      "text/plain": [
       "2"
      ]
     },
     "execution_count": 24,
     "metadata": {},
     "output_type": "execute_result"
    }
   ],
   "source": [
    "s=Solution()\n",
    "\n",
    "s.findKthNumber(100000)"
   ]
  },
  {
   "cell_type": "markdown",
   "metadata": {},
   "source": [
    "### 文件组合"
   ]
  },
  {
   "cell_type": "code",
   "execution_count": 53,
   "metadata": {},
   "outputs": [],
   "source": [
    "from typing import List\n",
    "\n",
    "# [first_number, first_number + 1, first_number + 2 ... first_number + n]\n",
    "class Solution:\n",
    "    def fileCombination(self, target: int) -> List[List[int]]:\n",
    "        results = []\n",
    "        n = 2\n",
    "        \n",
    "        while target > n:\n",
    "            target -= (n - 1)\n",
    "            if target % n == 0:\n",
    "                first_number = target // n\n",
    "                results.append([first_number + i for i in range(n)])\n",
    "\n",
    "            n += 1\n",
    "        \n",
    "        return results[::-1]"
   ]
  },
  {
   "cell_type": "code",
   "execution_count": 54,
   "metadata": {},
   "outputs": [
    {
     "name": "stdout",
     "output_type": "stream",
     "text": [
      "[[3, 4, 5]]\n",
      "[[3, 4, 5, 6], [5, 6, 7]]\n",
      "[[16, 17, 18, 19, 20, 21, 22, 23, 24, 25, 26, 27, 28, 29, 30, 31, 32, 33, 34, 35, 36, 37, 38, 39, 40, 41, 42, 43, 44, 45, 46, 47, 48, 49, 50, 51, 52, 53, 54, 55, 56, 57, 58, 59, 60, 61, 62], [28, 29, 30, 31, 32, 33, 34, 35, 36, 37, 38, 39, 40, 41, 42, 43, 44, 45, 46, 47, 48, 49, 50, 51, 52, 53, 54, 55, 56, 57, 58, 59, 60, 61, 62, 63, 64, 65, 66], [58, 59, 60, 61, 62, 63, 64, 65, 66, 67, 68, 69, 70, 71, 72, 73, 74, 75, 76, 77, 78, 79, 80, 81, 82, 83], [135, 136, 137, 138, 139, 140, 141, 142, 143, 144, 145, 146, 147], [303, 304, 305, 306, 307, 308], [610, 611, 612], [916, 917]]\n",
      "[[153, 154, 155, 156, 157, 158, 159, 160, 161, 162, 163, 164, 165, 166, 167, 168, 169, 170, 171, 172, 173, 174, 175, 176, 177, 178, 179, 180, 181, 182, 183, 184, 185, 186, 187, 188, 189, 190, 191, 192, 193, 194, 195, 196, 197, 198, 199, 200, 201, 202, 203, 204, 205, 206, 207, 208, 209, 210, 211, 212, 213, 214, 215, 216, 217, 218, 219, 220, 221, 222, 223, 224, 225, 226, 227, 228, 229, 230, 231, 232, 233, 234, 235, 236, 237, 238, 239, 240, 241, 242, 243, 244, 245, 246, 247, 248, 249, 250, 251, 252, 253, 254, 255, 256, 257, 258, 259, 260, 261, 262, 263, 264, 265, 266, 267, 268, 269, 270, 271, 272, 273, 274, 275, 276, 277, 278, 279, 280, 281, 282, 283, 284, 285, 286, 287, 288, 289, 290, 291, 292, 293, 294, 295, 296, 297, 298, 299, 300, 301, 302, 303, 304, 305, 306, 307, 308, 309, 310, 311, 312, 313, 314, 315, 316, 317, 318, 319, 320, 321, 322, 323, 324, 325, 326, 327, 328, 329, 330, 331, 332, 333, 334, 335, 336, 337, 338, 339, 340, 341, 342, 343, 344, 345, 346, 347, 348, 349, 350, 351, 352, 353, 354, 355, 356, 357, 358, 359, 360, 361, 362, 363, 364, 365, 366, 367, 368, 369, 370, 371, 372, 373, 374, 375, 376, 377, 378, 379, 380, 381, 382, 383, 384, 385, 386, 387, 388, 389, 390, 391, 392, 393, 394, 395, 396, 397, 398, 399, 400, 401, 402, 403, 404, 405, 406, 407, 408, 409, 410, 411, 412, 413, 414, 415, 416, 417, 418, 419, 420, 421, 422, 423, 424, 425, 426, 427, 428, 429, 430, 431, 432, 433, 434, 435, 436, 437, 438, 439, 440, 441, 442, 443, 444, 445, 446, 447, 448, 449, 450, 451, 452, 453, 454, 455, 456, 457, 458, 459, 460, 461, 462, 463, 464, 465, 466, 467, 468, 469, 470, 471, 472], [738, 739, 740, 741, 742, 743, 744, 745, 746, 747, 748, 749, 750, 751, 752, 753, 754, 755, 756, 757, 758, 759, 760, 761, 762, 763, 764, 765, 766, 767, 768, 769, 770, 771, 772, 773, 774, 775, 776, 777, 778, 779, 780, 781, 782, 783, 784, 785, 786, 787, 788, 789, 790, 791, 792, 793, 794, 795, 796, 797, 798, 799, 800, 801, 802, 803, 804, 805, 806, 807, 808, 809, 810, 811, 812, 813, 814, 815, 816, 817, 818, 819, 820, 821, 822, 823, 824, 825, 826, 827, 828, 829, 830, 831, 832, 833, 834, 835, 836, 837, 838, 839, 840, 841, 842, 843, 844, 845, 846, 847, 848, 849, 850, 851, 852, 853, 854, 855, 856, 857, 858, 859, 860, 861, 862], [1531, 1532, 1533, 1534, 1535, 1536, 1537, 1538, 1539, 1540, 1541, 1542, 1543, 1544, 1545, 1546, 1547, 1548, 1549, 1550, 1551, 1552, 1553, 1554, 1555, 1556, 1557, 1558, 1559, 1560, 1561, 1562, 1563, 1564, 1565, 1566, 1567, 1568, 1569, 1570, 1571, 1572, 1573, 1574, 1575, 1576, 1577, 1578, 1579, 1580, 1581, 1582, 1583, 1584, 1585, 1586, 1587, 1588, 1589, 1590, 1591, 1592, 1593, 1594], [3988, 3989, 3990, 3991, 3992, 3993, 3994, 3995, 3996, 3997, 3998, 3999, 4000, 4001, 4002, 4003, 4004, 4005, 4006, 4007, 4008, 4009, 4010, 4011, 4012], [19998, 19999, 20000, 20001, 20002]]\n",
      "CPU times: user 140 µs, sys: 31 µs, total: 171 µs\n",
      "Wall time: 147 µs\n"
     ]
    }
   ],
   "source": [
    "%%time\n",
    "\n",
    "s=Solution()\n",
    "\n",
    "print(s.fileCombination(12))\n",
    "print(s.fileCombination(18))\n",
    "print(s.fileCombination(1833))\n",
    "print(s.fileCombination(10**5))"
   ]
  },
  {
   "cell_type": "markdown",
   "metadata": {},
   "source": [
    "#### Submit Result\n",
    "\n",
    "- 执行用时：48 ms, 在所有 Python3 提交中击败了96.24%的用户\n",
    "- 内存消耗：15.8 MB, 在所有 Python3 提交中击败了98.12%的用户\n",
    "- 通过测试用例：32 / 32"
   ]
  },
  {
   "cell_type": "markdown",
   "metadata": {},
   "source": [
    "### 破冰游戏 *\n",
    "\n",
    "社团共有 num 为成员参与破冰游戏，编号为 0 ~ num-1。成员们按照编号顺序围绕圆桌而坐。社长抽取一个数字 target，从 0 号成员起开始计数，排在第 target 位的成员离开圆桌，且成员离开后从下一个成员开始计数。请返回游戏结束时最后一位成员的编号。\n",
    "\n",
    "##### 示例 1：\n",
    "```\n",
    "输入：num = 7, target = 4\n",
    "输出：1\n",
    "```\n",
    "\n",
    "##### 示例 2：\n",
    "```\n",
    "输入：num = 12, target = 5\n",
    "输出：0\n",
    "```\n",
    "\n",
    "##### 提示：\n",
    "- 1 <= num <= 10^5\n",
    "- 1 <= target <= 10^6"
   ]
  },
  {
   "cell_type": "markdown",
   "metadata": {},
   "source": [
    "#### Solution 1 (Slow)"
   ]
  },
  {
   "cell_type": "code",
   "execution_count": 47,
   "metadata": {},
   "outputs": [],
   "source": [
    "class Solution:\n",
    "    def iceBreakingGame(self, num: int, target: int) -> int:\n",
    "        ring = [i for i in range(num)]\n",
    "        pos = 0\n",
    "\n",
    "        while len(ring) > 1:\n",
    "            pos = (pos + (target - 1)) % len(ring)\n",
    "            \n",
    "            del ring[pos]\n",
    "\n",
    "        return ring[0]"
   ]
  },
  {
   "cell_type": "code",
   "execution_count": 48,
   "metadata": {},
   "outputs": [
    {
     "name": "stdout",
     "output_type": "stream",
     "text": [
      "1\n",
      "0\n",
      "11810\n",
      "6283\n",
      "9966\n",
      "CPU times: user 226 ms, sys: 0 ns, total: 226 ms\n",
      "Wall time: 225 ms\n"
     ]
    }
   ],
   "source": [
    "%%time\n",
    "\n",
    "s=Solution()\n",
    "print(s.iceBreakingGame(7, 4))\n",
    "print(s.iceBreakingGame(12, 5))\n",
    "print(s.iceBreakingGame(12233, 5))\n",
    "print(s.iceBreakingGame(12000, 5333))\n",
    "print(s.iceBreakingGame(82002, 120659))\n",
    "# print(s.iceBreakingGame(10**5, 10**6))"
   ]
  },
  {
   "cell_type": "markdown",
   "metadata": {},
   "source": [
    "#### Solution 2 (Too Slow)"
   ]
  },
  {
   "cell_type": "code",
   "execution_count": 71,
   "metadata": {},
   "outputs": [],
   "source": [
    "class Solution:\n",
    "    def iceBreakingGame(self, num: int, target: int) -> int:\n",
    "        ring = [i for i in range(num)]\n",
    "        pos = -1\n",
    "        remain_count = num\n",
    "        \n",
    "        while remain_count > 1:\n",
    "            i = 0\n",
    "            while i < target:                \n",
    "                pos = pos + 1 if pos < (num - 1) else 0\n",
    "                if ring[pos] >= 0:\n",
    "                    i += 1\n",
    "\n",
    "            ring[pos] = -1\n",
    "            remain_count -= 1\n",
    "\n",
    "        for i in ring:\n",
    "            if i >= 0:\n",
    "                return i\n",
    "        \n",
    "        return -1"
   ]
  },
  {
   "cell_type": "code",
   "execution_count": 72,
   "metadata": {},
   "outputs": [
    {
     "name": "stdout",
     "output_type": "stream",
     "text": [
      "1\n",
      "0\n",
      "11810\n",
      "CPU times: user 42.3 ms, sys: 0 ns, total: 42.3 ms\n",
      "Wall time: 40.7 ms\n"
     ]
    }
   ],
   "source": [
    "%%time\n",
    "\n",
    "s=Solution()\n",
    "print(s.iceBreakingGame(7, 4))\n",
    "print(s.iceBreakingGame(12, 5))\n",
    "print(s.iceBreakingGame(12233, 5))\n",
    "# print(s.iceBreakingGame(12000, 5333))"
   ]
  },
  {
   "cell_type": "markdown",
   "metadata": {},
   "source": [
    "#### Solution 3 - DP *"
   ]
  },
  {
   "cell_type": "code",
   "execution_count": 128,
   "metadata": {},
   "outputs": [],
   "source": [
    "# target -= 1\n",
    "# pos = target % (i + 1)\n",
    "# safe_num = (pos + safe_num  + 1) % (i + 1)\n",
    "\n",
    "class Solution:\n",
    "    def iceBreakingGame(self, num: int, target: int) -> int:\n",
    "        safe_num = 0\n",
    "        for i in range(2, num + 1):\n",
    "            safe_num = (target + safe_num) % i\n",
    "            \n",
    "        return safe_num"
   ]
  },
  {
   "cell_type": "code",
   "execution_count": 129,
   "metadata": {},
   "outputs": [
    {
     "name": "stdout",
     "output_type": "stream",
     "text": [
      "1\n",
      "0\n",
      "11810\n",
      "6283\n",
      "9966\n",
      "CPU times: user 4.08 ms, sys: 19 µs, total: 4.1 ms\n",
      "Wall time: 4.03 ms\n"
     ]
    }
   ],
   "source": [
    "%%time\n",
    "\n",
    "s=Solution()\n",
    "print(s.iceBreakingGame(7, 4))\n",
    "print(s.iceBreakingGame(12, 5))\n",
    "print(s.iceBreakingGame(12233, 5))\n",
    "print(s.iceBreakingGame(12000, 5333))\n",
    "print(s.iceBreakingGame(82002, 120659))"
   ]
  },
  {
   "cell_type": "markdown",
   "metadata": {},
   "source": [
    "##### Submit Result\n",
    "\n",
    "- 时间 详情 68ms 击败 87.06%使用 Python3 的用户\n",
    "- 内存 详情 15.58MB 击败 73.85%使用 Python3 的用户"
   ]
  },
  {
   "cell_type": "markdown",
   "metadata": {},
   "source": []
  },
  {
   "cell_type": "markdown",
   "metadata": {},
   "source": [
    "### 按规则计算统计结果\n",
    "为了深入了解这些生物群体的生态特征，你们进行了大量的实地观察和数据采集。数组 arrayA 记录了各个生物群体数量数据，其中 arrayA[i] 表示第 i 个生物群体的数量。请返回一个数组 arrayB，该数组为基于数组 arrayA 中的数据计算得出的结果，其中 arrayB[i] 表示将第 i 个生物群体的数量从总体中排除后的其他数量的乘积。"
   ]
  },
  {
   "cell_type": "code",
   "execution_count": 117,
   "metadata": {},
   "outputs": [],
   "source": [
    "from typing import List\n",
    "\n",
    "class Solution:\n",
    "    def statisticalResult(self, arrayA: List[int]) -> List[int]:\n",
    "        zero_count = 0      \n",
    "        mul_total = 1\n",
    "        for i in arrayA:\n",
    "            if i == 0:\n",
    "                zero_count += 1\n",
    "            else:\n",
    "                mul_total *= i\n",
    "        if zero_count > 1:\n",
    "            return [0 for _ in arrayA]\n",
    "        elif zero_count == 1:\n",
    "            return [mul_total if i == 0 else 0 for i in arrayA]\n",
    "        else:\n",
    "            return [mul_total // i for i in arrayA]"
   ]
  },
  {
   "cell_type": "code",
   "execution_count": 118,
   "metadata": {},
   "outputs": [
    {
     "name": "stdout",
     "output_type": "stream",
     "text": [
      "[1920, 960, 640, 480, 384]\n",
      "[0, 0, 40, 0, 0]\n"
     ]
    }
   ],
   "source": [
    "s=Solution()\n",
    "print(s.statisticalResult([2, 4, 6, 8, 10]))\n",
    "print(s.statisticalResult([1, 2, 0, 4, 5]))"
   ]
  },
  {
   "cell_type": "markdown",
   "metadata": {},
   "source": [
    "### 螺旋遍历二维数组\n",
    "给定一个二维数组 array，请返回「螺旋遍历」该数组的结果。\n",
    "\n",
    "螺旋遍历：从左上角开始，按照 向右、向下、向左、向上 的顺序 依次 提取元素，然后再进入内部一层重复相同的步骤，直到提取完所有元素。"
   ]
  },
  {
   "cell_type": "code",
   "execution_count": 67,
   "metadata": {},
   "outputs": [],
   "source": [
    "from typing import List\n",
    "\n",
    "class Solution:\n",
    "    def spiralArray(self, array: List[List[int]]) -> List[int]:\n",
    "        if len(array) == 0 or len(array[0]) == 0:\n",
    "            return []\n",
    "        \n",
    "        result = []\n",
    "        top = 0\n",
    "        bottom = len(array) - 1\n",
    "        left = 0\n",
    "        right = len(array[0]) - 1\n",
    "        \n",
    "        while top <= bottom and left <= right:\n",
    "            result += array[top][left:(right + 1)]\n",
    "            \n",
    "            height = bottom - top            \n",
    "            if height > 1:\n",
    "                result += [row[right] for row in array[top + 1:bottom]]                \n",
    "            if height > 0:\n",
    "                result += array[bottom][left:(right + 1)][::-1]\n",
    "            if height > 1 and right - left >= 1:\n",
    "                result += [row[left] for row in array[(bottom - 1):top:-1]]\n",
    "\n",
    "            top += 1\n",
    "            bottom -= 1\n",
    "            left += 1\n",
    "            right -= 1\n",
    "        \n",
    "        return result"
   ]
  },
  {
   "cell_type": "code",
   "execution_count": 68,
   "metadata": {},
   "outputs": [
    {
     "name": "stdout",
     "output_type": "stream",
     "text": [
      "[1, 2, 3, 4, 5, 6, 7, 8, 9]\n",
      "[1, 2, 3, 4, 5, 6, 7, 8, 9, 10, 11, 12, 13, 14, 15, 16]\n",
      "[7, 9, 6]\n",
      "[2, 5, 4, -1, 0, 8]\n",
      "CPU times: user 183 µs, sys: 30 µs, total: 213 µs\n",
      "Wall time: 134 µs\n"
     ]
    }
   ],
   "source": [
    "%%time\n",
    "\n",
    "s=Solution()\n",
    "\n",
    "print(s.spiralArray([[1,2,3],[8,9,4],[7,6,5]]))\n",
    "print(s.spiralArray([[1,2,3,4],[12,13,14,5],[11,16,15,6],[10,9,8,7]]))\n",
    "print(s.spiralArray([[7],[9],[6]]))\n",
    "print(s.spiralArray([[2,5],[8,4],[0,-1]]))\n"
   ]
  },
  {
   "cell_type": "markdown",
   "metadata": {},
   "source": [
    "### 验证图书取出顺序\n",
    "\n",
    "现在图书馆有一堆图书需要放入书架，并且图书馆的书架是一种特殊的数据结构，只能按照 一定 的顺序 放入 和 拿取 书籍。\n",
    "\n",
    "给定一个表示图书放入顺序的整数序列 putIn，请判断序列 takeOut 是否为按照正确的顺序拿取书籍的操作序列。你可以假设放入书架的所有书籍编号都不相同。"
   ]
  },
  {
   "cell_type": "code",
   "execution_count": 199,
   "metadata": {},
   "outputs": [],
   "source": [
    "from typing import List\n",
    "\n",
    "class Solution:\n",
    "    def validateBookSequences(self, putIn: List[int], takeOut: List[int]) -> bool:\n",
    "        valid_left = 0\n",
    "    \n",
    "        try:\n",
    "            for out_id in takeOut:\n",
    "                # print(f'find {out_id}, valid_left {valid_left}')\n",
    "                i = putIn.index(out_id, valid_left)\n",
    "                valid_left = i - 1 if i - 1 > 0 else 0                \n",
    "                del putIn[i]\n",
    "                # print(f'i:{i}, valid:{putIn[valid_left:]}, putIn:{putIn}')\n",
    "        except:\n",
    "            return False\n",
    "\n",
    "        return True"
   ]
  },
  {
   "cell_type": "code",
   "execution_count": 200,
   "metadata": {},
   "outputs": [
    {
     "name": "stdout",
     "output_type": "stream",
     "text": [
      "True\n",
      "CPU times: user 60 µs, sys: 2 µs, total: 62 µs\n",
      "Wall time: 64.4 µs\n"
     ]
    }
   ],
   "source": [
    "%%time \n",
    "\n",
    "s=Solution()\n",
    "print(s.validateBookSequences([6,7,8,9,10,11], [9,11,10,8,7,6]))\n",
    "# print(s.validateBookSequences([6,7,8,9,10,11], [11,9,8,10,6,7]))\n",
    "# print(s.validateBookSequences([2,1,0], [2,1,0]))"
   ]
  },
  {
   "cell_type": "markdown",
   "metadata": {},
   "source": [
    "### "
   ]
  }
 ],
 "metadata": {
  "kernelspec": {
   "display_name": "base",
   "language": "python",
   "name": "python3"
  },
  "language_info": {
   "codemirror_mode": {
    "name": "ipython",
    "version": 3
   },
   "file_extension": ".py",
   "mimetype": "text/x-python",
   "name": "python",
   "nbconvert_exporter": "python",
   "pygments_lexer": "ipython3",
   "version": "3.9.17"
  }
 },
 "nbformat": 4,
 "nbformat_minor": 2
}
