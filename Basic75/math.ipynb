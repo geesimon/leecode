{
 "cells": [
  {
   "cell_type": "markdown",
   "metadata": {},
   "source": [
    "### 砍竹子 I"
   ]
  },
  {
   "cell_type": "code",
   "execution_count": 29,
   "metadata": {},
   "outputs": [],
   "source": [
    "class Solution:\n",
    "    def cuttingBamboo(self, bamboo_len: int) -> int:\n",
    "        max = bamboo_len - 1\n",
    "        for i in range(2, (bamboo_len // 2) + 1):\n",
    "            a = bamboo_len // i\n",
    "            r = bamboo_len % i\n",
    "            if r > a: r = a\n",
    "\n",
    "            m1 = ((i + 1) ** r) * (i ** (a - r))\n",
    "            m2 = i ** a * r\n",
    "            m = m1 if m1 > m2 else m2\n",
    "            # print(i, a, r, m)\n",
    "            if m > max:\n",
    "                max = m\n",
    "            else:\n",
    "                break\n",
    "\n",
    "        return max"
   ]
  },
  {
   "cell_type": "code",
   "execution_count": 30,
   "metadata": {},
   "outputs": [
    {
     "name": "stdout",
     "output_type": "stream",
     "text": [
      "1549681956\n",
      "2\n",
      "18\n",
      "CPU times: user 69 µs, sys: 18 µs, total: 87 µs\n",
      "Wall time: 88.7 µs\n"
     ]
    }
   ],
   "source": [
    "%%time\n",
    "\n",
    "s=Solution()\n",
    "print(s.cuttingBamboo(58))\n",
    "print(s.cuttingBamboo(3))\n",
    "print(s.cuttingBamboo(8))"
   ]
  },
  {
   "cell_type": "markdown",
   "metadata": {},
   "source": [
    "#### Solution 2 - DP"
   ]
  },
  {
   "cell_type": "code",
   "execution_count": 18,
   "metadata": {},
   "outputs": [],
   "source": [
    "class Solution:\n",
    "    def cuttingBamboo(self, bamboo_len: int) -> int:\n",
    "        dp = [0] * (bamboo_len + 1)\n",
    "        dp[1] = 1\n",
    "\n",
    "        for i in range(2, bamboo_len + 1):\n",
    "            max_value = i\n",
    "            for j in range(1, i):\n",
    "                max_value = max(dp[j] * (i - j), max_value)\n",
    "            dp[i] = max_value\n",
    "\n",
    "        return dp[-1]"
   ]
  },
  {
   "cell_type": "code",
   "execution_count": 19,
   "metadata": {},
   "outputs": [
    {
     "name": "stdout",
     "output_type": "stream",
     "text": [
      "1549681956\n",
      "3\n",
      "18\n",
      "CPU times: user 236 µs, sys: 0 ns, total: 236 µs\n",
      "Wall time: 233 µs\n"
     ]
    }
   ],
   "source": [
    "%%time\n",
    "\n",
    "s=Solution()\n",
    "print(s.cuttingBamboo(58))\n",
    "print(s.cuttingBamboo(3))\n",
    "print(s.cuttingBamboo(8))"
   ]
  },
  {
   "cell_type": "code",
   "execution_count": 22,
   "metadata": {},
   "outputs": [],
   "source": [
    "#### Solution 3 - Optimized"
   ]
  },
  {
   "cell_type": "code",
   "execution_count": 37,
   "metadata": {},
   "outputs": [],
   "source": [
    "class Solution:\n",
    "    def cuttingBamboo(self, bamboo_len: int) -> int:\n",
    "        a = bamboo_len // 3\n",
    "        b = bamboo_len % 3\n",
    "        if b == 1 and a >= 1:\n",
    "            a -= 1\n",
    "            b = 4\n",
    "\n",
    "        return (3 ** a) if b == 0 else (3 ** a) * b"
   ]
  },
  {
   "cell_type": "code",
   "execution_count": 38,
   "metadata": {},
   "outputs": [
    {
     "name": "stdout",
     "output_type": "stream",
     "text": [
      "1549681956\n",
      "3\n",
      "18\n",
      "CPU times: user 76 µs, sys: 20 µs, total: 96 µs\n",
      "Wall time: 98 µs\n"
     ]
    }
   ],
   "source": [
    "%%time\n",
    "\n",
    "s=Solution()\n",
    "print(s.cuttingBamboo(58))\n",
    "print(s.cuttingBamboo(3))\n",
    "print(s.cuttingBamboo(8))"
   ]
  },
  {
   "cell_type": "markdown",
   "metadata": {},
   "source": [
    "### 砍竹子 II"
   ]
  },
  {
   "cell_type": "code",
   "execution_count": 91,
   "metadata": {},
   "outputs": [],
   "source": [
    "class Solution:\n",
    "    def cuttingBamboo(self, bamboo_len: int) -> int:\n",
    "        def power_mod(n, p, m):\n",
    "            if p == 0:\n",
    "                return 1\n",
    "            n_m = n\n",
    "            for _ in range(p - 1):\n",
    "                n_m *= n\n",
    "                n_m %= m\n",
    "            return n_m\n",
    "\n",
    "        if bamboo_len <= 3:\n",
    "            return bamboo_len - 1\n",
    "        \n",
    "        a = bamboo_len // 3\n",
    "        b = bamboo_len % 3\n",
    "        if b == 1 and a >= 1:\n",
    "            a -= 1\n",
    "            b = 4\n",
    "        return power_mod(3, a, 1000000007) if b == 0 else (power_mod(3, a, 1000000007) * b) % 1000000007\n",
    "    \n",
    "        # return (3 ** a) % 1000000007 if b == 0 else ((3 ** a) * b) % 1000000007\n"
   ]
  },
  {
   "cell_type": "code",
   "execution_count": 92,
   "metadata": {},
   "outputs": [
    {
     "name": "stdout",
     "output_type": "stream",
     "text": [
      "549681949\n",
      "2\n",
      "4\n",
      "18\n",
      "620946522\n",
      "CPU times: user 244 µs, sys: 0 ns, total: 244 µs\n",
      "Wall time: 251 µs\n"
     ]
    }
   ],
   "source": [
    "%%time\n",
    "\n",
    "s=Solution()\n",
    "print(s.cuttingBamboo(58))\n",
    "print(s.cuttingBamboo(3))\n",
    "print(s.cuttingBamboo(4))\n",
    "print(s.cuttingBamboo(8))\n",
    "print(s.cuttingBamboo(1000))"
   ]
  },
  {
   "cell_type": "code",
   "execution_count": 70,
   "metadata": {},
   "outputs": [
    {
     "data": {
      "text/plain": [
       "49"
      ]
     },
     "execution_count": 70,
     "metadata": {},
     "output_type": "execute_result"
    }
   ],
   "source": [
    "3**10 % 100"
   ]
  },
  {
   "cell_type": "code",
   "execution_count": null,
   "metadata": {},
   "outputs": [],
   "source": []
  },
  {
   "cell_type": "code",
   "execution_count": null,
   "metadata": {},
   "outputs": [],
   "source": []
  }
 ],
 "metadata": {
  "kernelspec": {
   "display_name": "base",
   "language": "python",
   "name": "python3"
  },
  "language_info": {
   "codemirror_mode": {
    "name": "ipython",
    "version": 3
   },
   "file_extension": ".py",
   "mimetype": "text/x-python",
   "name": "python",
   "nbconvert_exporter": "python",
   "pygments_lexer": "ipython3",
   "version": "3.10.9"
  }
 },
 "nbformat": 4,
 "nbformat_minor": 2
}
