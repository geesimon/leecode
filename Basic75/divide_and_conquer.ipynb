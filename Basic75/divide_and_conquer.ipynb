{
 "cells": [
  {
   "cell_type": "code",
   "execution_count": 14,
   "metadata": {},
   "outputs": [],
   "source": [
    "# Definition for a binary tree node.\n",
    "class TreeNode:\n",
    "    def __init__(self, x):\n",
    "        self.val = x\n",
    "        self.left = None\n",
    "        self.right = None\n",
    "\n",
    "class Codec:\n",
    "    def serialize(self, root):\n",
    "        if root == None:\n",
    "            return []\n",
    "        \n",
    "        stack = []\n",
    "        stack.append(root)\n",
    "        cur = 0\n",
    "        while cur < len(stack):\n",
    "            if stack[cur] != None:\n",
    "                stack.append(stack[cur].left)\n",
    "                stack.append(stack[cur].right)\n",
    "            \n",
    "            cur += 1\n",
    "        \n",
    "        i = len(stack) - 1\n",
    "        while stack[i] == None:\n",
    "            i -= 1\n",
    "        \n",
    "        stack = stack[:i + 1]\n",
    "\n",
    "        return [t.val if t != None else None for t in stack]\n",
    "        \n",
    "\n",
    "    def deserialize(self, data):\n",
    "        if len(data) == 0:\n",
    "            return None\n",
    "                \n",
    "        nodes = []\n",
    "        for d in data:\n",
    "            if d != None:\n",
    "                nodes.append(TreeNode(d))\n",
    "            else:\n",
    "                nodes.append(None)\n",
    "\n",
    "        cur = 0\n",
    "        for i in range(len(nodes)):\n",
    "            if nodes[i] != None:\n",
    "                left_i = cur + 1\n",
    "                right_i = left_i + 1\n",
    "                nodes[i].left = nodes[left_i] if left_i < len(nodes) else None\n",
    "                nodes[i].right = nodes[right_i] if right_i < len(nodes) else None\n",
    "\n",
    "                cur += 2\n",
    "\n",
    "        return nodes[0]"
   ]
  },
  {
   "cell_type": "markdown",
   "metadata": {},
   "source": [
    "### 剑指 Offer 51. 数组中的逆序对"
   ]
  },
  {
   "cell_type": "code",
   "execution_count": 15,
   "metadata": {},
   "outputs": [],
   "source": [
    "from typing import List\n",
    "\n",
    "class Solution:\n",
    "    def reversePairs(self, nums: List[int]) -> int:\n",
    "        self.reverse_count = 0\n",
    "\n",
    "        def merge(left: List[int], right: List[int]) -> List[int]:\n",
    "            result = []\n",
    "            left_len = len(left)\n",
    "            right_len = len(right)\n",
    "            left_i = 0\n",
    "            right_i = 0\n",
    "            while left_i < left_len and right_i < right_len:\n",
    "                if right[right_i] < left[left_i]:\n",
    "                    result.append(right[right_i])\n",
    "                    \n",
    "                    # print(f'reverse count for {right[right_i]}: {len(left) - left_i}')\n",
    "                    self.reverse_count += len(left) - left_i\n",
    "\n",
    "                    right_i += 1                    \n",
    "                else:\n",
    "                    result.append(left[left_i])\n",
    "                    left_i += 1\n",
    "\n",
    "            result += left[left_i:] + right[right_i:]\n",
    "            return result\n",
    "\n",
    "\n",
    "        def merge_sort(numbers: List[int]) -> List[int] :\n",
    "            if len(numbers) <= 1:\n",
    "                return numbers\n",
    "            left = merge_sort(numbers[:len(numbers)//2])\n",
    "            right = merge_sort(numbers[len(numbers)//2:])\n",
    "            \n",
    "            # print(f'merged_left {left}, merged_right {right}')\n",
    "            return merge(left, right)\n",
    "\n",
    "        merge_sort(nums)\n",
    "\n",
    "        return self.reverse_count"
   ]
  },
  {
   "cell_type": "code",
   "execution_count": 16,
   "metadata": {},
   "outputs": [
    {
     "name": "stdout",
     "output_type": "stream",
     "text": [
      "13\n",
      "4\n"
     ]
    }
   ],
   "source": [
    "s=Solution()\n",
    "\n",
    "print(s.reversePairs([7, 5, 6, 4, 1, 2]))\n",
    "print(s.reversePairs([1,3,2,3,1]))"
   ]
  },
  {
   "cell_type": "markdown",
   "metadata": {},
   "source": [
    "### 剑指 Offer 17. 打印从 1 到最大的 n 位数"
   ]
  },
  {
   "cell_type": "code",
   "execution_count": 17,
   "metadata": {},
   "outputs": [],
   "source": [
    "from typing import List\n",
    "\n",
    "class Solution:\n",
    "    def printNumbers(self, n: int) -> List[int]:\n",
    "        # return [i for i in range(1,10**n)]\n",
    "        return list(range(1, 10**n))"
   ]
  },
  {
   "cell_type": "code",
   "execution_count": 18,
   "metadata": {},
   "outputs": [
    {
     "name": "stdout",
     "output_type": "stream",
     "text": [
      "CPU times: user 147 µs, sys: 25 µs, total: 172 µs\n",
      "Wall time: 174 µs\n"
     ]
    }
   ],
   "source": [
    "%%time\n",
    "\n",
    "s=Solution()\n",
    "a=s.printNumbers(4)"
   ]
  },
  {
   "cell_type": "markdown",
   "metadata": {},
   "source": [
    "### 剑指 Offer 16. 数值的整数次方"
   ]
  },
  {
   "cell_type": "code",
   "execution_count": 19,
   "metadata": {},
   "outputs": [],
   "source": [
    "class Solution:\n",
    "    def myPow(self, x: float, n: int) -> float:\n",
    "        if n == 0:\n",
    "            return 1\n",
    "        elif n < 0:\n",
    "            x = 1 / x\n",
    "            n = -n\n",
    "        \n",
    "        power = x\n",
    "        bit_mask = 0b1\n",
    "        value = 1\n",
    "        for _ in range(n.bit_length()):\n",
    "            if (bit_mask & n) != 0:\n",
    "                value *= power\n",
    "            \n",
    "            power *= power\n",
    "            bit_mask = bit_mask << 1\n",
    "\n",
    "        return value"
   ]
  },
  {
   "cell_type": "code",
   "execution_count": 20,
   "metadata": {},
   "outputs": [
    {
     "data": {
      "text/plain": [
       "1024"
      ]
     },
     "execution_count": 20,
     "metadata": {},
     "output_type": "execute_result"
    }
   ],
   "source": [
    "s=Solution()\n",
    "s.myPow(2, 10)"
   ]
  },
  {
   "cell_type": "markdown",
   "metadata": {},
   "source": [
    "### 剑指 Offer 33. 二叉搜索树的后序遍历序列"
   ]
  },
  {
   "cell_type": "code",
   "execution_count": 21,
   "metadata": {},
   "outputs": [],
   "source": [
    "class Solution:\n",
    "    def verifyTreeOrder(self, postorder: List[int]) -> bool:\n",
    "        if len(postorder) <= 1:\n",
    "            return True\n",
    "        \n",
    "        root = postorder[-1]\n",
    "        #split left and right child trees\n",
    "        split_i = 0\n",
    "        while split_i < (len(postorder) - 1) and postorder[split_i] < root:\n",
    "            split_i += 1\n",
    "\n",
    "        left = postorder[:split_i]\n",
    "        right = postorder[split_i:-1]\n",
    "        # print(f'root {root} left {left}, right {right}')\n",
    "        if (len(left) > 0 and max(left) >= root) or (len(right) > 0 and min(right) <= root):\n",
    "            return False\n",
    "        else:\n",
    "            return self.verifyTreeOrder(left) and self.verifyTreeOrder(right)            \n"
   ]
  },
  {
   "cell_type": "code",
   "execution_count": 22,
   "metadata": {},
   "outputs": [
    {
     "name": "stdout",
     "output_type": "stream",
     "text": [
      "True\n",
      "False\n",
      "False\n",
      "True\n",
      "CPU times: user 65 µs, sys: 10 µs, total: 75 µs\n",
      "Wall time: 77 µs\n"
     ]
    }
   ],
   "source": [
    "%%time\n",
    "\n",
    "s=Solution()\n",
    "print(s.verifyTreeOrder([4,6,5,9,8]))\n",
    "print(s.verifyTreeOrder([4,9,6,5,8]))\n",
    "print(s.verifyTreeOrder([1,2,5,10,6,9,4,3]))\n",
    "print(s.verifyTreeOrder([2,1]))"
   ]
  },
  {
   "cell_type": "markdown",
   "metadata": {},
   "source": [
    "### 剑指 Offer 07. 重建二叉树"
   ]
  },
  {
   "cell_type": "code",
   "execution_count": 23,
   "metadata": {},
   "outputs": [],
   "source": [
    "from typing import List\n",
    "\n",
    "class Solution:\n",
    "    def deduceTree(self, preorder: List[int], inorder: List[int]) -> TreeNode:\n",
    "        inorder_dict = {v:k for k, v in enumerate(inorder)}\n",
    "\n",
    "        if (len(preorder) == 0):\n",
    "            return None\n",
    "        \n",
    "        root = TreeNode(preorder[0])\n",
    "        if len(preorder) > 1:\n",
    "            split_i = inorder_dict[root.val]\n",
    "            # print(f'split {inorder} @ {split_i} by {root.val}')\n",
    "            # print(f'preorder: {preorder}, inorder: {inorder}')\n",
    "\n",
    "            left_inorder = inorder[:split_i]\n",
    "            right_inorder = inorder[split_i + 1:]\n",
    "            left_preorder = []\n",
    "            right_preorder = []\n",
    "\n",
    "            for i in preorder[1:]:\n",
    "                if inorder_dict[i] < split_i:\n",
    "                    left_preorder.append(i)\n",
    "                else:\n",
    "                    right_preorder.append(i)\n",
    "\n",
    "            # print(f'left_inorder:{left_inorder}, right_inorder:{right_inorder} ||| left_preorder:{left_preorder}, right_preorder:{right_preorder}')\n",
    "            root.left = self.deduceTree(left_preorder, left_inorder)\n",
    "            root.right = self.deduceTree(right_preorder, right_inorder)\n",
    "\n",
    "        return root"
   ]
  },
  {
   "cell_type": "code",
   "execution_count": 24,
   "metadata": {},
   "outputs": [
    {
     "name": "stdout",
     "output_type": "stream",
     "text": [
      "[3, 9, 20, None, None, 15, 7]\n",
      "[-1]\n",
      "[1, 2, 3, 4, 5, None, None, 6, None, None, 7]\n",
      "CPU times: user 121 µs, sys: 19 µs, total: 140 µs\n",
      "Wall time: 114 µs\n"
     ]
    }
   ],
   "source": [
    "%%time \n",
    "\n",
    "codec = Codec()\n",
    "s = Solution()\n",
    "\n",
    "print(codec.serialize(s.deduceTree([3,9,20,15,7], [9,3,15,20,7])))\n",
    "print(codec.serialize(s.deduceTree([-1], [-1])))\n",
    "print(codec.serialize(s.deduceTree([1,2,4,6,5,7,3], [6,4,2,5,7,1,3])))"
   ]
  },
  {
   "cell_type": "markdown",
   "metadata": {},
   "source": [
    "### Method 2"
   ]
  },
  {
   "cell_type": "code",
   "execution_count": 25,
   "metadata": {},
   "outputs": [],
   "source": [
    "from typing import List\n",
    "\n",
    "class Solution:\n",
    "    def deduceTree(self, preorder: List[int], inorder: List[int]) -> TreeNode:\n",
    "        inorder_index = {v:k for k, v in enumerate(inorder)}\n",
    "        self.root_i = 0\n",
    "\n",
    "        def build_tree(left_i, right_i) -> TreeNode:\n",
    "            # print(f'Explore {inorder[left_i:right_i + 1]}')\n",
    "            if self.root_i >= len(preorder):\n",
    "                return None\n",
    "\n",
    "            root_val = preorder[self.root_i]\n",
    "            self.root_i += 1\n",
    "            \n",
    "            root = TreeNode(root_val)\n",
    "            if left_i == right_i:\n",
    "                return root\n",
    "            \n",
    "            # print(f'split by {root_val}')\n",
    "            inorder_root_i = inorder_index[root_val]\n",
    "            if inorder_root_i > left_i:\n",
    "                # print(f'go left')\n",
    "                root.left = build_tree(left_i, inorder_root_i - 1)\n",
    "            if inorder_root_i < right_i:\n",
    "                # print(f'go right')\n",
    "                root.right = build_tree(inorder_root_i + 1, right_i)\n",
    "            \n",
    "            return root\n",
    "\n",
    "        return build_tree(0, len(preorder) - 1)"
   ]
  },
  {
   "cell_type": "code",
   "execution_count": 26,
   "metadata": {},
   "outputs": [
    {
     "name": "stdout",
     "output_type": "stream",
     "text": [
      "[3, 9, 20, None, None, 15, 7]\n",
      "[-1]\n",
      "[1, 2, 3, 4, 5, None, None, 6, None, None, 7]\n",
      "CPU times: user 331 µs, sys: 52 µs, total: 383 µs\n",
      "Wall time: 226 µs\n"
     ]
    }
   ],
   "source": [
    "%%time \n",
    "\n",
    "codec = Codec()\n",
    "s = Solution()\n",
    "\n",
    "print(codec.serialize(s.deduceTree([3,9,20,15,7], [9,3,15,20,7])))\n",
    "print(codec.serialize(s.deduceTree([-1], [-1])))\n",
    "print(codec.serialize(s.deduceTree([1,2,4,6,5,7,3], [6,4,2,5,7,1,3])))"
   ]
  }
 ],
 "metadata": {
  "kernelspec": {
   "display_name": "dl-fundamentals",
   "language": "python",
   "name": "python3"
  },
  "language_info": {
   "codemirror_mode": {
    "name": "ipython",
    "version": 3
   },
   "file_extension": ".py",
   "mimetype": "text/x-python",
   "name": "python",
   "nbconvert_exporter": "python",
   "pygments_lexer": "ipython3",
   "version": "3.9.17"
  }
 },
 "nbformat": 4,
 "nbformat_minor": 2
}
