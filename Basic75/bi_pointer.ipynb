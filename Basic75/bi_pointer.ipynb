{
 "cells": [
  {
   "cell_type": "code",
   "execution_count": 4,
   "metadata": {},
   "outputs": [],
   "source": [
    "class ListNode:\n",
    "    def __init__(self, x):\n",
    "        self.val = x\n",
    "        self.next = None\n",
    "    \n",
    "    def append(self, x) -> 'ListNode':\n",
    "        self.next = ListNode(x)\n",
    "        return self.next\n",
    "        \n",
    "    def __str__(self) -> str:\n",
    "        cur = self\n",
    "        chain_str = ''\n",
    "\n",
    "        while cur != None:\n",
    "            chain_str += f'[{cur.val}]'\n",
    "            cur = cur.next\n",
    "        \n",
    "        return chain_str"
   ]
  },
  {
   "cell_type": "markdown",
   "metadata": {},
   "source": [
    "### 删除链表的节点"
   ]
  },
  {
   "cell_type": "code",
   "execution_count": 12,
   "metadata": {},
   "outputs": [],
   "source": [
    "# Definition for singly-linked list.\n",
    "class ListNode:\n",
    "    def __init__(self, x):\n",
    "        self.val = x\n",
    "        self.next = None\n",
    "    \n",
    "    def append(self, x) -> 'ListNode':\n",
    "        self.next = ListNode(x)\n",
    "        return self.next\n",
    "        \n",
    "    def __str__(self) -> str:\n",
    "        cur = self\n",
    "        chain_str = ''\n",
    "\n",
    "        while cur != None:\n",
    "            chain_str += f'[{cur.val}]'\n",
    "            cur = cur.next\n",
    "        \n",
    "        return chain_str\n",
    "\n",
    "class Solution:\n",
    "    def deleteNode(self, head: ListNode, val: int) -> ListNode:\n",
    "        cur = head\n",
    "        pre = None\n",
    "\n",
    "        while cur != None:\n",
    "            if cur.val == val:\n",
    "                if pre != None:\n",
    "                    pre.next = cur.next\n",
    "                else:\n",
    "                    head = cur.next\n",
    "                break\n",
    "            pre = cur\n",
    "            cur = cur.next\n",
    "\n",
    "        return head"
   ]
  },
  {
   "cell_type": "code",
   "execution_count": 15,
   "metadata": {},
   "outputs": [
    {
     "name": "stdout",
     "output_type": "stream",
     "text": [
      "[4][1][9]\n",
      "[4][5][9]\n",
      "[5][1][9]\n"
     ]
    }
   ],
   "source": [
    "s=Solution()\n",
    "\n",
    "head = ListNode(4)\n",
    "head.append(5).append(1).append(9)\n",
    "print(s.deleteNode(head, 5))\n",
    "\n",
    "head = ListNode(4)\n",
    "head.append(5).append(1).append(9)\n",
    "print(s.deleteNode(head, 1))\n",
    "\n",
    "head = ListNode(4)\n",
    "head.append(5).append(1).append(9)\n",
    "print(s.deleteNode(head, 4))"
   ]
  },
  {
   "cell_type": "markdown",
   "metadata": {},
   "source": [
    "### 训练计划 I"
   ]
  },
  {
   "cell_type": "code",
   "execution_count": 21,
   "metadata": {},
   "outputs": [],
   "source": [
    "from typing import List\n",
    "\n",
    "class Solution:\n",
    "    def trainingPlan(self, actions: List[int]) -> List[int]:\n",
    "        if len(actions) == 1:\n",
    "            return actions\n",
    "        \n",
    "        odd_i = -1\n",
    "        for i, a in enumerate(actions):           \n",
    "            if a & 0b1 == 0:    # find even_number to switch\n",
    "                if odd_i < i + 1: odd_i = i + 1\n",
    "\n",
    "                while odd_i < len(actions):\n",
    "                    if actions[odd_i] & 0b1 == 1:\n",
    "                        # print(f'switch {actions[i]} {actions[odd_i]}')\n",
    "                        actions[odd_i], actions[i] = actions[i], actions[odd_i]\n",
    "                        odd_i += 1\n",
    "                        break\n",
    "                    \n",
    "                    odd_i += 1\n",
    "                    \n",
    "\n",
    "        return actions"
   ]
  },
  {
   "cell_type": "code",
   "execution_count": 24,
   "metadata": {},
   "outputs": [
    {
     "name": "stdout",
     "output_type": "stream",
     "text": [
      "switch 2 3\n",
      "switch 2 5\n",
      "switch 4 7\n",
      "switch 2 9\n",
      "switch 6 11\n",
      "switch 4 13\n",
      "[1, 3, 5, 7, 9, 11, 13, 8, 2, 10, 6, 12, 4, 14]\n"
     ]
    }
   ],
   "source": [
    "s=Solution()\n",
    "print(s.trainingPlan([1,2,3,4,5,6,7,8,9,10,11,12,13,14]))"
   ]
  },
  {
   "cell_type": "markdown",
   "metadata": {},
   "source": [
    "### 训练计划 II"
   ]
  },
  {
   "cell_type": "code",
   "execution_count": 43,
   "metadata": {},
   "outputs": [],
   "source": [
    "from typing import Optional\n",
    "\n",
    "class ListNode:\n",
    "    def __init__(self, x):\n",
    "        self.val = x\n",
    "        self.next = None\n",
    "    \n",
    "    def append(self, x) -> 'ListNode':\n",
    "        self.next = ListNode(x)\n",
    "        return self.next\n",
    "        \n",
    "    def __str__(self) -> str:\n",
    "        cur = self\n",
    "        chain_str = ''\n",
    "\n",
    "        while cur != None:\n",
    "            chain_str += f'[{cur.val}]'\n",
    "            cur = cur.next\n",
    "        \n",
    "        return chain_str\n",
    "\n",
    "class Solution:\n",
    "    def trainingPlan(self, head: Optional[ListNode], cnt: int) -> Optional[ListNode]:\n",
    "        buf = [None] * cnt\n",
    "        buf_i = 0 \n",
    "        cur = head\n",
    "        node_count = 0\n",
    "        while cur is not None:\n",
    "            node_count += 1            \n",
    "            buf[buf_i] = cur\n",
    "            buf_i += 1\n",
    "            if buf_i >= cnt: buf_i = 0\n",
    "\n",
    "            cur = cur.next\n",
    "        \n",
    "        return buf[node_count % cnt]"
   ]
  },
  {
   "cell_type": "code",
   "execution_count": 44,
   "metadata": {},
   "outputs": [
    {
     "name": "stdout",
     "output_type": "stream",
     "text": [
      "[8]\n",
      "[4][5]\n"
     ]
    }
   ],
   "source": [
    "s=Solution()\n",
    "\n",
    "head = ListNode(2)\n",
    "head.append(4).append(7).append(8)\n",
    "\n",
    "print(s.trainingPlan(head, 1))\n",
    "\n",
    "head = ListNode(1)\n",
    "head.append(2).append(3).append(4).append(5)\n",
    "print(s.trainingPlan(head, 2))"
   ]
  },
  {
   "cell_type": "markdown",
   "metadata": {},
   "source": [
    "#### Solution 2"
   ]
  },
  {
   "cell_type": "code",
   "execution_count": 46,
   "metadata": {},
   "outputs": [],
   "source": [
    "from typing import Optional\n",
    "\n",
    "class Solution:\n",
    "    def trainingPlan(self, head: Optional[ListNode], cnt: int) -> Optional[ListNode]:\n",
    "        node_count = 0\n",
    "        cur = head\n",
    "        while cur is not None:\n",
    "            node_count += 1            \n",
    "            cur = cur.next\n",
    "        cur = head\n",
    "        for _ in range(node_count - cnt):\n",
    "            cur = cur.next\n",
    "\n",
    "        return cur"
   ]
  },
  {
   "cell_type": "code",
   "execution_count": 47,
   "metadata": {},
   "outputs": [
    {
     "name": "stdout",
     "output_type": "stream",
     "text": [
      "[8]\n",
      "[4][5]\n"
     ]
    }
   ],
   "source": [
    "s=Solution()\n",
    "\n",
    "head = ListNode(2)\n",
    "head.append(4).append(7).append(8)\n",
    "\n",
    "print(s.trainingPlan(head, 1))\n",
    "\n",
    "head = ListNode(1)\n",
    "head.append(2).append(3).append(4).append(5)\n",
    "print(s.trainingPlan(head, 2))"
   ]
  },
  {
   "cell_type": "markdown",
   "metadata": {},
   "source": [
    "### 训练计划 IV"
   ]
  },
  {
   "cell_type": "code",
   "execution_count": 40,
   "metadata": {},
   "outputs": [],
   "source": [
    "from typing import Optional\n",
    "\n",
    "class Solution:\n",
    "    def trainningPlan(self, l1: Optional[ListNode], l2: Optional[ListNode]) -> Optional[ListNode]:\n",
    "        if l1 == None or l2 == None:\n",
    "            return l1 if l2 == None else l2\n",
    "        \n",
    "        cur_1 = l1\n",
    "        cur_2 = l2\n",
    "        head = l1\n",
    "        pre_cur_1 = None\n",
    "\n",
    "        while cur_1 is not None:\n",
    "            if cur_2.val < cur_1.val:\n",
    "                # print(f'{cur_1.val} {cur_2.val}')\n",
    "                if pre_cur_1 is not None:\n",
    "                    # print(f'pre_cur_1:{pre_cur_1.val}, cur_1:{cur_1.val}')\n",
    "                    pre_cur_1.next = cur_2\n",
    "                else:\n",
    "                    head = cur_2\n",
    "\n",
    "                pre_cur_2 = cur_2\n",
    "                cur_2 = cur_2.next\n",
    "                # print(f'head: {pre_cur_2.val}')\n",
    "                while cur_2 is not None:\n",
    "                    if cur_2.val < cur_1.val:\n",
    "                        pre_cur_2 =  cur_2\n",
    "                        cur_2 = cur_2.next\n",
    "                    else:\n",
    "                        break\n",
    "                \n",
    "                # print(f'tail: {pre_cur_2.val}')\n",
    "\n",
    "                pre_cur_2.next = cur_1\n",
    "                if cur_2 is None:\n",
    "                    break\n",
    "            else:\n",
    "                pre_cur_1 = cur_1\n",
    "                cur_1 = cur_1.next\n",
    "\n",
    "        if cur_2 is not None:\n",
    "            pre_cur_1.next = cur_2\n",
    "\n",
    "        return head"
   ]
  },
  {
   "cell_type": "code",
   "execution_count": 41,
   "metadata": {},
   "outputs": [
    {
     "name": "stdout",
     "output_type": "stream",
     "text": [
      "None\n",
      "[0]\n",
      "[0][1][2][10][11][12]\n",
      "[1][1][2][3][4][4]\n",
      "[1][1][2][3][4][5][6][7][9][10]\n"
     ]
    }
   ],
   "source": [
    "s=Solution()\n",
    "\n",
    "print(s.trainningPlan(None,None))\n",
    "\n",
    "l2=ListNode(0)\n",
    "print(s.trainningPlan(None,l2))\n",
    "\n",
    "l1=ListNode(0)\n",
    "l1.append(1).append(2)\n",
    "l2=ListNode(10)\n",
    "l2.append(11).append(12)\n",
    "print(s.trainningPlan(l1,l2))\n",
    "\n",
    "l1=ListNode(1)\n",
    "l1.append(2).append(4)\n",
    "l2=ListNode(1)\n",
    "l2.append(3).append(4)\n",
    "print(s.trainningPlan(l1,l2))\n",
    "\n",
    "l1=ListNode(1)\n",
    "l1.append(2).append(4).append(6).append(10)\n",
    "l2=ListNode(1)\n",
    "l2.append(3).append(5).append(7).append(9)\n",
    "print(s.trainningPlan(l1,l2))"
   ]
  },
  {
   "cell_type": "markdown",
   "metadata": {},
   "source": [
    "#### Solution 2"
   ]
  },
  {
   "cell_type": "code",
   "execution_count": 50,
   "metadata": {},
   "outputs": [],
   "source": [
    "from typing import Optional\n",
    "\n",
    "class Solution:\n",
    "    def trainningPlan(self, l1: Optional[ListNode], l2: Optional[ListNode]) -> Optional[ListNode]:\n",
    "        if l1 == None or l2 == None:\n",
    "            return l1 if l2 == None else l2\n",
    "        \n",
    "        if l1.val <= l2.val:\n",
    "            head = l1\n",
    "            cur_1 = l1.next\n",
    "            cur_2 = l2\n",
    "        else:\n",
    "            head = l2\n",
    "            cur_2 = l2.next\n",
    "            cur_1 = l1\n",
    "\n",
    "        cur = head        \n",
    "        while cur_1 != None and cur_2 != None:\n",
    "            if cur_1.val <= cur_2.val:\n",
    "                cur.next = cur_1\n",
    "                cur_1 = cur_1.next\n",
    "            else:\n",
    "                cur.next = cur_2\n",
    "                cur_2 = cur_2.next\n",
    "            \n",
    "            cur = cur.next\n",
    "        \n",
    "        cur.next = cur_1 if cur_1 != None else cur_2\n",
    "        \n",
    "        return head\n"
   ]
  },
  {
   "cell_type": "code",
   "execution_count": 52,
   "metadata": {},
   "outputs": [
    {
     "name": "stdout",
     "output_type": "stream",
     "text": [
      "None\n",
      "[0]\n",
      "[0][1][2][3][10][11][12]\n",
      "[1][1][2][3][4][4]\n",
      "[1][1][2][3][4][5][6][7][9][10]\n"
     ]
    }
   ],
   "source": [
    "s=Solution()\n",
    "\n",
    "print(s.trainningPlan(None,None))\n",
    "\n",
    "l2=ListNode(0)\n",
    "print(s.trainningPlan(None,l2))\n",
    "\n",
    "l1=ListNode(0)\n",
    "l1.append(1).append(2).append(3)\n",
    "l2=ListNode(10)\n",
    "l2.append(11).append(12)\n",
    "print(s.trainningPlan(l1,l2))\n",
    "\n",
    "l1=ListNode(1)\n",
    "l1.append(2).append(4)\n",
    "l2=ListNode(1)\n",
    "l2.append(3).append(4)\n",
    "print(s.trainningPlan(l1,l2))\n",
    "\n",
    "l1=ListNode(1)\n",
    "l1.append(2).append(4).append(6).append(10)\n",
    "l2=ListNode(1)\n",
    "l2.append(3).append(5).append(7).append(9)\n",
    "print(s.trainningPlan(l1,l2))"
   ]
  },
  {
   "cell_type": "markdown",
   "metadata": {},
   "source": [
    "### 训练计划 V"
   ]
  },
  {
   "cell_type": "code",
   "execution_count": 71,
   "metadata": {},
   "outputs": [],
   "source": [
    "class Solution:\n",
    "    def getIntersectionNode(self, headA: ListNode, headB: ListNode) -> ListNode:\n",
    "        count_A = 0\n",
    "        count_B = 0\n",
    "        count_common = 0\n",
    "\n",
    "        cur_A = headA\n",
    "        while cur_A is not None:\n",
    "            count_A += 1\n",
    "            cur_A = cur_A.next\n",
    "        \n",
    "        print(count_A)\n",
    "\n",
    "        cur_B = headB\n",
    "        while cur_B is not None:\n",
    "            count_B += 1\n",
    "            cur_B = cur_B.next\n",
    "        print(count_B)\n",
    "\n",
    "        if count_A >= count_B:\n",
    "            cur_A = headA\n",
    "            for _ in range(count_A - count_B):\n",
    "                cur_A = cur_A.next\n",
    "            \n",
    "            cur_B = headB\n",
    "            count_common = count_B\n",
    "        else:\n",
    "            cur_B = headB\n",
    "            for _ in range(count_B - count_A):\n",
    "                cur_B = cur_B.next\n",
    "            \n",
    "            cur_A = headA\n",
    "            count_common = count_A\n",
    "        # print(count_common)\n",
    "        for _ in range(count_common):\n",
    "            if cur_A == cur_B:\n",
    "                return cur_A\n",
    "            else:\n",
    "                cur_A = cur_A.next\n",
    "                cur_B = cur_B.next\n",
    "\n",
    "        return None"
   ]
  },
  {
   "cell_type": "code",
   "execution_count": 74,
   "metadata": {},
   "outputs": [
    {
     "name": "stdout",
     "output_type": "stream",
     "text": [
      "[0][9][1][2][4] [3][2][4]\n",
      "5\n",
      "3\n",
      "3\n",
      "[2][4]\n",
      "[2][6][4] [1][5]\n",
      "3\n",
      "2\n",
      "2\n",
      "None\n",
      "[4][1][8][4][5] [5][0][1][8][4][5]\n",
      "5\n",
      "6\n",
      "5\n",
      "[8][4][5]\n"
     ]
    }
   ],
   "source": [
    "s=Solution()\n",
    "\n",
    "C=ListNode(2)\n",
    "C.append(4)\n",
    "A=ListNode(0)\n",
    "A.append(9).append(1).next = C\n",
    "B=ListNode(3)\n",
    "B.next = C\n",
    "print(A, B)\n",
    "\n",
    "print(s.getIntersectionNode(A, B))\n",
    "\n",
    "A=ListNode(2)\n",
    "A.append(6).append(4)\n",
    "B=ListNode(1)\n",
    "B.append(5)\n",
    "print(A, B)\n",
    "\n",
    "print(s.getIntersectionNode(A, B))\n",
    "\n",
    "C=ListNode(8)\n",
    "C.append(4).append(5)\n",
    "A=ListNode(4)\n",
    "A.append(1).next = C\n",
    "B=ListNode(5)\n",
    "B.append(0).append(1).next = C\n",
    "print(A, B)\n",
    "\n",
    "print(s.getIntersectionNode(A, B))"
   ]
  },
  {
   "cell_type": "code",
   "execution_count": null,
   "metadata": {},
   "outputs": [],
   "source": []
  }
 ],
 "metadata": {
  "kernelspec": {
   "display_name": "dl-fundamentals",
   "language": "python",
   "name": "python3"
  },
  "language_info": {
   "codemirror_mode": {
    "name": "ipython",
    "version": 3
   },
   "file_extension": ".py",
   "mimetype": "text/x-python",
   "name": "python",
   "nbconvert_exporter": "python",
   "pygments_lexer": "ipython3",
   "version": "3.9.17"
  }
 },
 "nbformat": 4,
 "nbformat_minor": 2
}
