{
 "cells": [
  {
   "cell_type": "code",
   "execution_count": 48,
   "metadata": {},
   "outputs": [],
   "source": [
    "class ListNode:\n",
    "    def __init__(self, x):\n",
    "        self.val = x\n",
    "        self.next = None\n",
    "    \n",
    "    def append(self, x) -> 'ListNode':\n",
    "        self.next = ListNode(x)\n",
    "        return self.next\n",
    "        \n",
    "    def __str__(self) -> str:\n",
    "        cur = self\n",
    "        chain_str = ''\n",
    "\n",
    "        while cur != None:\n",
    "            chain_str += f'[{cur.val}]'\n",
    "            cur = cur.next\n",
    "        \n",
    "        return chain_str"
   ]
  },
  {
   "cell_type": "markdown",
   "metadata": {},
   "source": [
    "### 删除链表的节点"
   ]
  },
  {
   "cell_type": "code",
   "execution_count": 12,
   "metadata": {},
   "outputs": [],
   "source": [
    "# Definition for singly-linked list.\n",
    "class ListNode:\n",
    "    def __init__(self, x):\n",
    "        self.val = x\n",
    "        self.next = None\n",
    "    \n",
    "    def append(self, x) -> 'ListNode':\n",
    "        self.next = ListNode(x)\n",
    "        return self.next\n",
    "        \n",
    "    def __str__(self) -> str:\n",
    "        cur = self\n",
    "        chain_str = ''\n",
    "\n",
    "        while cur != None:\n",
    "            chain_str += f'[{cur.val}]'\n",
    "            cur = cur.next\n",
    "        \n",
    "        return chain_str\n",
    "\n",
    "class Solution:\n",
    "    def deleteNode(self, head: ListNode, val: int) -> ListNode:\n",
    "        cur = head\n",
    "        pre = None\n",
    "\n",
    "        while cur != None:\n",
    "            if cur.val == val:\n",
    "                if pre != None:\n",
    "                    pre.next = cur.next\n",
    "                else:\n",
    "                    head = cur.next\n",
    "                break\n",
    "            pre = cur\n",
    "            cur = cur.next\n",
    "\n",
    "        return head"
   ]
  },
  {
   "cell_type": "code",
   "execution_count": 15,
   "metadata": {},
   "outputs": [
    {
     "name": "stdout",
     "output_type": "stream",
     "text": [
      "[4][1][9]\n",
      "[4][5][9]\n",
      "[5][1][9]\n"
     ]
    }
   ],
   "source": [
    "s=Solution()\n",
    "\n",
    "head = ListNode(4)\n",
    "head.append(5).append(1).append(9)\n",
    "print(s.deleteNode(head, 5))\n",
    "\n",
    "head = ListNode(4)\n",
    "head.append(5).append(1).append(9)\n",
    "print(s.deleteNode(head, 1))\n",
    "\n",
    "head = ListNode(4)\n",
    "head.append(5).append(1).append(9)\n",
    "print(s.deleteNode(head, 4))"
   ]
  },
  {
   "cell_type": "markdown",
   "metadata": {},
   "source": [
    "### 训练计划 I"
   ]
  },
  {
   "cell_type": "code",
   "execution_count": 21,
   "metadata": {},
   "outputs": [],
   "source": [
    "from typing import List\n",
    "\n",
    "class Solution:\n",
    "    def trainingPlan(self, actions: List[int]) -> List[int]:\n",
    "        if len(actions) == 1:\n",
    "            return actions\n",
    "        \n",
    "        odd_i = -1\n",
    "        for i, a in enumerate(actions):           \n",
    "            if a & 0b1 == 0:    # find even_number to switch\n",
    "                if odd_i < i + 1: odd_i = i + 1\n",
    "\n",
    "                while odd_i < len(actions):\n",
    "                    if actions[odd_i] & 0b1 == 1:\n",
    "                        # print(f'switch {actions[i]} {actions[odd_i]}')\n",
    "                        actions[odd_i], actions[i] = actions[i], actions[odd_i]\n",
    "                        odd_i += 1\n",
    "                        break\n",
    "                    \n",
    "                    odd_i += 1\n",
    "                    \n",
    "\n",
    "        return actions"
   ]
  },
  {
   "cell_type": "code",
   "execution_count": 24,
   "metadata": {},
   "outputs": [
    {
     "name": "stdout",
     "output_type": "stream",
     "text": [
      "switch 2 3\n",
      "switch 2 5\n",
      "switch 4 7\n",
      "switch 2 9\n",
      "switch 6 11\n",
      "switch 4 13\n",
      "[1, 3, 5, 7, 9, 11, 13, 8, 2, 10, 6, 12, 4, 14]\n"
     ]
    }
   ],
   "source": [
    "s=Solution()\n",
    "print(s.trainingPlan([1,2,3,4,5,6,7,8,9,10,11,12,13,14]))"
   ]
  },
  {
   "cell_type": "markdown",
   "metadata": {},
   "source": [
    "### 训练计划 II"
   ]
  },
  {
   "cell_type": "code",
   "execution_count": 43,
   "metadata": {},
   "outputs": [],
   "source": [
    "from typing import Optional\n",
    "\n",
    "class ListNode:\n",
    "    def __init__(self, x):\n",
    "        self.val = x\n",
    "        self.next = None\n",
    "    \n",
    "    def append(self, x) -> 'ListNode':\n",
    "        self.next = ListNode(x)\n",
    "        return self.next\n",
    "        \n",
    "    def __str__(self) -> str:\n",
    "        cur = self\n",
    "        chain_str = ''\n",
    "\n",
    "        while cur != None:\n",
    "            chain_str += f'[{cur.val}]'\n",
    "            cur = cur.next\n",
    "        \n",
    "        return chain_str\n",
    "\n",
    "class Solution:\n",
    "    def trainingPlan(self, head: Optional[ListNode], cnt: int) -> Optional[ListNode]:\n",
    "        buf = [None] * cnt\n",
    "        buf_i = 0 \n",
    "        cur = head\n",
    "        node_count = 0\n",
    "        while cur is not None:\n",
    "            node_count += 1            \n",
    "            buf[buf_i] = cur\n",
    "            buf_i += 1\n",
    "            if buf_i >= cnt: buf_i = 0\n",
    "\n",
    "            cur = cur.next\n",
    "        \n",
    "        return buf[node_count % cnt]"
   ]
  },
  {
   "cell_type": "code",
   "execution_count": 44,
   "metadata": {},
   "outputs": [
    {
     "name": "stdout",
     "output_type": "stream",
     "text": [
      "[8]\n",
      "[4][5]\n"
     ]
    }
   ],
   "source": [
    "s=Solution()\n",
    "\n",
    "head = ListNode(2)\n",
    "head.append(4).append(7).append(8)\n",
    "\n",
    "print(s.trainingPlan(head, 1))\n",
    "\n",
    "head = ListNode(1)\n",
    "head.append(2).append(3).append(4).append(5)\n",
    "print(s.trainingPlan(head, 2))"
   ]
  },
  {
   "cell_type": "markdown",
   "metadata": {},
   "source": [
    "#### Solution 2"
   ]
  },
  {
   "cell_type": "code",
   "execution_count": 46,
   "metadata": {},
   "outputs": [],
   "source": [
    "from typing import Optional\n",
    "\n",
    "class Solution:\n",
    "    def trainingPlan(self, head: Optional[ListNode], cnt: int) -> Optional[ListNode]:\n",
    "        node_count = 0\n",
    "        cur = head\n",
    "        while cur is not None:\n",
    "            node_count += 1            \n",
    "            cur = cur.next\n",
    "        cur = head\n",
    "        for _ in range(node_count - cnt):\n",
    "            cur = cur.next\n",
    "\n",
    "        return cur"
   ]
  },
  {
   "cell_type": "code",
   "execution_count": 47,
   "metadata": {},
   "outputs": [
    {
     "name": "stdout",
     "output_type": "stream",
     "text": [
      "[8]\n",
      "[4][5]\n"
     ]
    }
   ],
   "source": [
    "s=Solution()\n",
    "\n",
    "head = ListNode(2)\n",
    "head.append(4).append(7).append(8)\n",
    "\n",
    "print(s.trainingPlan(head, 1))\n",
    "\n",
    "head = ListNode(1)\n",
    "head.append(2).append(3).append(4).append(5)\n",
    "print(s.trainingPlan(head, 2))"
   ]
  }
 ],
 "metadata": {
  "kernelspec": {
   "display_name": "dl-fundamentals",
   "language": "python",
   "name": "python3"
  },
  "language_info": {
   "codemirror_mode": {
    "name": "ipython",
    "version": 3
   },
   "file_extension": ".py",
   "mimetype": "text/x-python",
   "name": "python",
   "nbconvert_exporter": "python",
   "pygments_lexer": "ipython3",
   "version": "3.9.17"
  }
 },
 "nbformat": 4,
 "nbformat_minor": 2
}
