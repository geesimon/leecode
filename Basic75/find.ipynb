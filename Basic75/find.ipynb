{
 "cells": [
  {
   "cell_type": "markdown",
   "metadata": {},
   "source": [
    "### 寻找文件副本"
   ]
  },
  {
   "cell_type": "markdown",
   "metadata": {},
   "source": [
    "#### Solution 1 - Clear"
   ]
  },
  {
   "cell_type": "code",
   "execution_count": 17,
   "metadata": {},
   "outputs": [],
   "source": [
    "from typing import List\n",
    "\n",
    "class Solution:\n",
    "    def findRepeatDocument(self, documents: List[int]) -> int:\n",
    "        docs = set()\n",
    "        for d in documents:\n",
    "            if d in docs:\n",
    "                return d\n",
    "            else:\n",
    "                docs.add(d)\n",
    "        \n",
    "        return -1"
   ]
  },
  {
   "cell_type": "code",
   "execution_count": 18,
   "metadata": {},
   "outputs": [
    {
     "name": "stdout",
     "output_type": "stream",
     "text": [
      "5\n",
      "1\n",
      "0\n",
      "CPU times: user 99 µs, sys: 24 µs, total: 123 µs\n",
      "Wall time: 80.3 µs\n"
     ]
    }
   ],
   "source": [
    "%%time\n",
    "\n",
    "s=Solution()\n",
    "print(s.findRepeatDocument([2, 5, 3, 0, 5, 0]))\n",
    "print(s.findRepeatDocument([3, 4, 2, 1, 1, 0]))\n",
    "print(s.findRepeatDocument([3, 4, 2, 0, 0, 1]))"
   ]
  },
  {
   "cell_type": "markdown",
   "metadata": {},
   "source": [
    "#### Solution 2 - Fastest"
   ]
  },
  {
   "cell_type": "code",
   "execution_count": 19,
   "metadata": {},
   "outputs": [],
   "source": [
    "from typing import List\n",
    "\n",
    "class Solution:\n",
    "    def findRepeatDocument(self, documents: List[int]) -> int:\n",
    "        i = 0\n",
    "        while i < len(documents):\n",
    "            # print(documents[i])\n",
    "            if documents[i] == i:\n",
    "                i += 1\n",
    "                continue\n",
    "            elif documents[documents[i]] == documents[i]:\n",
    "                return documents[i]\n",
    "            else:\n",
    "                tmp = documents[i]\n",
    "                documents[i] = documents[documents[i]]\n",
    "                documents[tmp] = tmp\n",
    "                # documents[i],  documents[documents[i]] = documents[documents[i]], documents[i]\n",
    "                # print(documents)\n",
    "        \n",
    "        return -1"
   ]
  },
  {
   "cell_type": "code",
   "execution_count": 20,
   "metadata": {},
   "outputs": [
    {
     "name": "stdout",
     "output_type": "stream",
     "text": [
      "0\n",
      "1\n",
      "0\n",
      "CPU times: user 109 µs, sys: 26 µs, total: 135 µs\n",
      "Wall time: 105 µs\n"
     ]
    }
   ],
   "source": [
    "%%time\n",
    "\n",
    "s=Solution()\n",
    "print(s.findRepeatDocument([2, 5, 3, 0, 5, 0]))\n",
    "print(s.findRepeatDocument([3, 4, 2, 1, 1, 0]))\n",
    "print(s.findRepeatDocument([3, 4, 2, 0, 0, 1]))"
   ]
  },
  {
   "cell_type": "markdown",
   "metadata": {},
   "source": [
    "#### Solutin 3 (Clear but need more memory)"
   ]
  },
  {
   "cell_type": "code",
   "execution_count": 21,
   "metadata": {},
   "outputs": [],
   "source": [
    "from typing import List\n",
    "\n",
    "class Solution:\n",
    "    def findRepeatDocument(self, documents: List[int]) -> int:\n",
    "        buffer = [-1] * len(documents)\n",
    "\n",
    "        for i in documents:\n",
    "            if buffer[i] >= 0 :\n",
    "                return i\n",
    "            buffer[i] = i\n",
    "        \n",
    "        print(buffer)\n",
    "        return -1"
   ]
  },
  {
   "cell_type": "code",
   "execution_count": 22,
   "metadata": {},
   "outputs": [
    {
     "name": "stdout",
     "output_type": "stream",
     "text": [
      "5\n",
      "1\n",
      "0\n",
      "CPU times: user 77 µs, sys: 17 µs, total: 94 µs\n",
      "Wall time: 97 µs\n"
     ]
    }
   ],
   "source": [
    "%%time\n",
    "\n",
    "s=Solution()\n",
    "print(s.findRepeatDocument([2, 5, 3, 0, 5, 0]))\n",
    "print(s.findRepeatDocument([3, 4, 2, 1, 1, 0]))\n",
    "print(s.findRepeatDocument([3, 4, 2, 0, 0, 1]))"
   ]
  },
  {
   "cell_type": "markdown",
   "metadata": {},
   "source": [
    "### 寻找目标值 - 二维数组"
   ]
  },
  {
   "cell_type": "markdown",
   "metadata": {},
   "source": [
    "#### Solution 1"
   ]
  },
  {
   "cell_type": "code",
   "execution_count": 56,
   "metadata": {},
   "outputs": [],
   "source": [
    "from typing import List\n",
    "import bisect\n",
    "\n",
    "class Solution:\n",
    "    def findTargetIn2DPlants(self, plants: List[List[int]], target: int) -> bool:\n",
    "        if len(plants) == 0 or len(plants[0]) == 0 or plants[0][0] > target:\n",
    "            return False\n",
    "        for r in range(len(plants)):\n",
    "            if plants[r][0] <= target and plants[r][-1] >= target:\n",
    "                # print(f'potential {plants[r]}')\n",
    "                i = bisect.bisect_left(plants[r], target)                \n",
    "                if (plants[r][i] == target):\n",
    "                    return True\n",
    "            else:\n",
    "                continue\n",
    "        \n",
    "        return False"
   ]
  },
  {
   "cell_type": "code",
   "execution_count": 57,
   "metadata": {},
   "outputs": [
    {
     "name": "stdout",
     "output_type": "stream",
     "text": [
      "False\n"
     ]
    }
   ],
   "source": [
    "s=Solution()\n",
    "# print(s.findTargetIn2DPlants([[2,3,6,8],[4,5,8,9],[5,9,10,12]], 8))\n",
    "# print(s.findTargetIn2DPlants([[1,3,5],[2,5,7]], 4))\n",
    "print(s.findTargetIn2DPlants([[1,4,7,11,15],[2,5,8,12,19],[3,6,9,16,22],[10,13,14,17,24],[18,21,23,26,30]], 20))\n"
   ]
  },
  {
   "cell_type": "markdown",
   "metadata": {},
   "source": [
    "#### Solutin 2"
   ]
  },
  {
   "cell_type": "code",
   "execution_count": 77,
   "metadata": {},
   "outputs": [],
   "source": [
    "from typing import List\n",
    "\n",
    "class Solution:\n",
    "    def findTargetIn2DPlants(self, plants: List[List[int]], target: int) -> bool:\n",
    "        if len(plants) == 0 or len(plants[0]) == 0 or plants[0][0] > target:\n",
    "            return False\n",
    "        \n",
    "        r = 0\n",
    "        l = len(plants[0]) - 1\n",
    "        while l >= 0 and r < len(plants):\n",
    "            # print(f'check {plants[r][l]}')\n",
    "            if plants[r][l] == target:  \n",
    "                return True                \n",
    "            elif target < plants[r][l]: #go left tree\n",
    "                l -= 1\n",
    "            else:                       #go right tree\n",
    "                r += 1\n",
    "        \n",
    "        return False"
   ]
  },
  {
   "cell_type": "code",
   "execution_count": 78,
   "metadata": {},
   "outputs": [
    {
     "name": "stdout",
     "output_type": "stream",
     "text": [
      "True\n",
      "False\n",
      "False\n"
     ]
    }
   ],
   "source": [
    "s=Solution()\n",
    "print(s.findTargetIn2DPlants([[2,3,6,8],[4,5,8,9],[5,9,10,12]], 8))\n",
    "print(s.findTargetIn2DPlants([[1,3,5],[2,5,7]], 4))\n",
    "print(s.findTargetIn2DPlants([[1,4,7,11,15],[2,5,8,12,19],[3,6,9,16,22],[10,13,14,17,24],[18,21,23,26,30]], 20))\n"
   ]
  },
  {
   "cell_type": "markdown",
   "metadata": {},
   "source": [
    "### 库存管理 I"
   ]
  },
  {
   "cell_type": "code",
   "execution_count": 175,
   "metadata": {},
   "outputs": [],
   "source": [
    "class Solution:\n",
    "    def stockManagement(self, stock: List[int]) -> int:\n",
    "        l = 0\n",
    "        r = len(stock) - 1\n",
    "        \n",
    "        while r > l:\n",
    "            mid = (l + r) // 2\n",
    "            # print(f'mid:{mid}, l:{l}, r:{r}')\n",
    "            if stock[mid] == stock[r]:\n",
    "                r = r - 1\n",
    "            elif stock[mid] < stock[r]:\n",
    "                r = mid\n",
    "            else:\n",
    "                l = mid + 1\n",
    "            # print(f'mid:{mid}, l:{l}, r:{r}')\n",
    "\n",
    "        return stock[l]"
   ]
  },
  {
   "cell_type": "code",
   "execution_count": 176,
   "metadata": {},
   "outputs": [
    {
     "name": "stdout",
     "output_type": "stream",
     "text": [
      "3\n",
      "1\n",
      "3\n",
      "1\n",
      "3\n",
      "1\n",
      "1\n"
     ]
    }
   ],
   "source": [
    "s=Solution()\n",
    "print(s.stockManagement([4,5,8,3,4]))\n",
    "print(s.stockManagement([5,7,9,1,2]))\n",
    "print(s.stockManagement([4, 4, 5, 7, 7, 9, 10, 12, 3, 4, 4]))\n",
    "print(s.stockManagement([1, 3, 3]))\n",
    "print(s.stockManagement([4,5,7,8,3,4]))\n",
    "print(s.stockManagement([10,1,10,10,10]))\n",
    "print(s.stockManagement([3, 3, 1, 3]))"
   ]
  },
  {
   "cell_type": "markdown",
   "metadata": {},
   "source": [
    "### 招式拆解 II"
   ]
  },
  {
   "cell_type": "code",
   "execution_count": 186,
   "metadata": {},
   "outputs": [],
   "source": [
    "class Solution:\n",
    "    def dismantlingAction(self, list: str) -> str:\n",
    "        alpha_count = [0] * 26\n",
    "        for i in list:\n",
    "            alpha_count[ord(i) - 97] += 1\n",
    "        for i in list:\n",
    "            if alpha_count[ord(i) - 97] == 1:\n",
    "                return i\n",
    "        \n",
    "        return ' '"
   ]
  },
  {
   "cell_type": "code",
   "execution_count": 187,
   "metadata": {},
   "outputs": [
    {
     "name": "stdout",
     "output_type": "stream",
     "text": [
      "a\n",
      " \n"
     ]
    }
   ],
   "source": [
    "s=Solution()\n",
    "print(s.dismantlingAction(\"abbccdeff\"))\n",
    "print(s.dismantlingAction(\"ccdd\"))"
   ]
  },
  {
   "cell_type": "markdown",
   "metadata": {},
   "source": [
    "### 统计目标成绩的出现次数"
   ]
  },
  {
   "cell_type": "code",
   "execution_count": 194,
   "metadata": {},
   "outputs": [],
   "source": [
    "from typing import List\n",
    "import bisect\n",
    "\n",
    "class Solution:\n",
    "    def countTarget(self, scores: List[int], target: int) -> int:\n",
    "        return  bisect.bisect_right(scores, target) - bisect.bisect_left(scores, target)"
   ]
  },
  {
   "cell_type": "code",
   "execution_count": 207,
   "metadata": {},
   "outputs": [
    {
     "name": "stderr",
     "output_type": "stream",
     "text": [
      "----------------------------------------------------------------------\n",
      "Ran 1 test in 0.000s\n",
      "\n",
      "OK\n"
     ]
    },
    {
     "data": {
      "text/plain": [
       "<unittest.runner.TextTestResult run=1 errors=0 failures=0>"
      ]
     },
     "execution_count": 207,
     "metadata": {},
     "output_type": "execute_result"
    }
   ],
   "source": [
    "import unittest\n",
    "\n",
    "class TestSolution(unittest.TestCase):\n",
    "    def test(self):\n",
    "        s=Solution()\n",
    "        self.assertEqual(s.countTarget([2, 2, 3, 4, 4, 4, 5, 6, 6, 8], 4), 3)\n",
    "        self.assertEqual(s.countTarget([1, 2, 3, 5, 7, 9], 6), 0)\n",
    "\n",
    "suite = unittest.TestLoader().loadTestsFromTestCase(TestSolution)\n",
    "unittest.TextTestRunner(verbosity=0).run(suite)"
   ]
  },
  {
   "cell_type": "markdown",
   "metadata": {},
   "source": [
    "### 点名"
   ]
  },
  {
   "cell_type": "code",
   "execution_count": 40,
   "metadata": {},
   "outputs": [],
   "source": [
    "from typing import List\n",
    "\n",
    "class Solution:\n",
    "    def takeAttendance(self, record: List[int]) -> int:\n",
    "        l = 0\n",
    "        r = len(record) - 1\n",
    "        while l <= r:\n",
    "            mid = (l + r) // 2\n",
    "            if record[mid] == mid:\n",
    "                l = mid + 1\n",
    "            else:\n",
    "                r = mid - 1\n",
    "\n",
    "            # print(f'mid:{mid}, l:{l}, r:{r}')\n",
    "        \n",
    "        # return l if record[l] != l else l + 1\n",
    "        return l"
   ]
  },
  {
   "cell_type": "code",
   "execution_count": 41,
   "metadata": {},
   "outputs": [
    {
     "name": "stdout",
     "output_type": "stream",
     "text": [
      "4\n",
      "1\n",
      "2\n",
      "1\n",
      "7\n"
     ]
    }
   ],
   "source": [
    "s=Solution()\n",
    "print(s.takeAttendance([0,1,2,3,5]))\n",
    "print(s.takeAttendance([0,2]))\n",
    "print(s.takeAttendance([0,1]))\n",
    "print(s.takeAttendance([0]))\n",
    "print(s.takeAttendance([0, 1, 2, 3, 4, 5, 6, 8]))"
   ]
  }
 ],
 "metadata": {
  "kernelspec": {
   "display_name": "Python 3",
   "language": "python",
   "name": "python3"
  },
  "language_info": {
   "codemirror_mode": {
    "name": "ipython",
    "version": 3
   },
   "file_extension": ".py",
   "mimetype": "text/x-python",
   "name": "python",
   "nbconvert_exporter": "python",
   "pygments_lexer": "ipython3",
   "version": "3.9.17"
  }
 },
 "nbformat": 4,
 "nbformat_minor": 2
}
