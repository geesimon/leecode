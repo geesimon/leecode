{
 "cells": [
  {
   "cell_type": "markdown",
   "metadata": {},
   "source": [
    "### 位 1 的个数"
   ]
  },
  {
   "cell_type": "code",
   "execution_count": 3,
   "metadata": {},
   "outputs": [],
   "source": [
    "class Solution:\n",
    "    def hammingWeight(self, n: int) -> int:\n",
    "        count = 0\n",
    "        mask = 0b1\n",
    "\n",
    "        for _ in range(n.bit_length()):\n",
    "            count += n & mask \n",
    "            n = n >> 1\n",
    "        \n",
    "        return count"
   ]
  },
  {
   "cell_type": "code",
   "execution_count": 5,
   "metadata": {},
   "outputs": [
    {
     "name": "stdout",
     "output_type": "stream",
     "text": [
      "3\n",
      "1\n",
      "31\n"
     ]
    }
   ],
   "source": [
    "s=Solution()\n",
    "print(s.hammingWeight(11))\n",
    "print(s.hammingWeight(128))\n",
    "print(s.hammingWeight(4294967293))"
   ]
  },
  {
   "cell_type": "markdown",
   "metadata": {},
   "source": [
    "## 撞色搭配 !!! - Excellent Problem"
   ]
  },
  {
   "cell_type": "code",
   "execution_count": 20,
   "metadata": {},
   "outputs": [],
   "source": [
    "from typing import List\n",
    "\n",
    "class Solution:\n",
    "    def sockCollocation(self, sockets: List[int]) -> List[int]:\n",
    "        color_map = 0\n",
    "        for s in sockets:\n",
    "            color_map ^= 1 << s\n",
    "        \n",
    "        pair = [0, 0]\n",
    "        count = 0\n",
    "        i = 0\n",
    "        mask = 1\n",
    "        while count < 2 and i < color_map.bit_length():\n",
    "            bit = color_map & mask\n",
    "            if bit != 0:\n",
    "                pair[count] = i\n",
    "                count += 1\n",
    "            mask <<= 1\n",
    "            i += 1\n",
    "        \n",
    "        return pair"
   ]
  },
  {
   "cell_type": "code",
   "execution_count": 21,
   "metadata": {},
   "outputs": [
    {
     "name": "stdout",
     "output_type": "stream",
     "text": [
      "[2, 5]\n",
      "[2, 12]\n"
     ]
    }
   ],
   "source": [
    "s=Solution()\n",
    "print(s.sockCollocation([4, 5, 2, 4, 6, 6]))\n",
    "print(s.sockCollocation([1, 2, 4, 1, 4, 3, 12, 3]))"
   ]
  },
  {
   "cell_type": "markdown",
   "metadata": {},
   "source": [
    "#### Solution 2"
   ]
  },
  {
   "cell_type": "code",
   "execution_count": 26,
   "metadata": {},
   "outputs": [],
   "source": [
    "from typing import List\n",
    "\n",
    "class Solution:\n",
    "    def sockCollocation(self, sockets: List[int]) -> List[int]:\n",
    "        a_x_b = 0\n",
    "        for s in sockets:\n",
    "            a_x_b ^= s\n",
    "        \n",
    "        if a_x_b == 0:\n",
    "            return None\n",
    "\n",
    "        mask = 1\n",
    "        for _ in range(a_x_b.bit_length()):\n",
    "            if a_x_b & mask != 0:\n",
    "                break\n",
    "            mask <<= 1\n",
    "        \n",
    "        x, y = 0, 0\n",
    "        for s in sockets:\n",
    "            if s & mask:\n",
    "                x ^= s\n",
    "            else:\n",
    "                y ^= s\n",
    "\n",
    "        return [x, y]"
   ]
  },
  {
   "cell_type": "code",
   "execution_count": 27,
   "metadata": {},
   "outputs": [
    {
     "name": "stdout",
     "output_type": "stream",
     "text": [
      "[5, 2]\n",
      "[2, 12]\n"
     ]
    }
   ],
   "source": [
    "s=Solution()\n",
    "print(s.sockCollocation([4, 5, 2, 4, 6, 6]))\n",
    "print(s.sockCollocation([1, 2, 4, 1, 4, 3, 12, 3]))"
   ]
  },
  {
   "cell_type": "markdown",
   "metadata": {},
   "source": [
    "### 训练计划 VI"
   ]
  },
  {
   "cell_type": "code",
   "execution_count": 41,
   "metadata": {},
   "outputs": [],
   "source": [
    "class Solution:\n",
    "    def trainingPlan(self, actions: List[int]) -> int:\n",
    "        xor_value = actions[0]\n",
    "        for i in range(1, len(actions)):\n",
    "            xor_value ^= actions[i]\n",
    "\n",
    "        and_value = actions[0]\n",
    "        for i in range(1, len(actions)):\n",
    "            and_value &= actions[i]\n",
    "\n",
    "        print(xor_value, and_value)\n",
    "        return and_value & xor_value"
   ]
  },
  {
   "cell_type": "code",
   "execution_count": 42,
   "metadata": {},
   "outputs": [
    {
     "name": "stdout",
     "output_type": "stream",
     "text": [
      "2 5\n",
      "0\n",
      "11 0\n",
      "0\n"
     ]
    }
   ],
   "source": [
    "s=Solution()\n",
    "print(s.trainingPlan([5, 7, 5, 5]))\n",
    "print(s.trainingPlan([12, 1, 6, 12, 6, 12, 6]))"
   ]
  },
  {
   "cell_type": "code",
   "execution_count": 43,
   "metadata": {},
   "outputs": [
    {
     "name": "stdout",
     "output_type": "stream",
     "text": [
      "5\n",
      "2\n",
      "11\n",
      "0\n"
     ]
    }
   ],
   "source": [
    "print(5 & 7 & 5 & 5)\n",
    "print(5 ^ 7 ^ 5 ^ 5)\n",
    "print(12 ^ 1 ^ 6 ^ 12 ^ 6 ^ 12 ^ 6)\n",
    "print(12 & 1 & 6 & 12 & 6 & 12 & 6)"
   ]
  },
  {
   "cell_type": "markdown",
   "metadata": {},
   "source": [
    "### 加密运算"
   ]
  },
  {
   "cell_type": "code",
   "execution_count": 100,
   "metadata": {},
   "outputs": [],
   "source": [
    "class Solution:\n",
    "    def encryptionCalculate(self, dataA: int, dataB: int) -> int:\n",
    "        bit_c = 0\n",
    "        mask = 1\n",
    "        value = 0\n",
    "        for _ in range(32):\n",
    "            bit_a = dataA & mask\n",
    "            bit_b = dataB & mask\n",
    "            value |= bit_a ^ bit_b ^ bit_c\n",
    "            # print(f'value:{value}')\n",
    "            bit_c = (bit_a & bit_b) | ((bit_a ^ bit_b) & bit_c)\n",
    "            bit_c <<= 1\n",
    "            mask <<= 1\n",
    "        \n",
    "        return value if value < (0x100000000 / 2) else -(0x100000000 - value)"
   ]
  },
  {
   "cell_type": "code",
   "execution_count": 104,
   "metadata": {},
   "outputs": [
    {
     "name": "stdout",
     "output_type": "stream",
     "text": [
      "4\n",
      "-1949528406\n"
     ]
    }
   ],
   "source": [
    "s=Solution()\n",
    "\n",
    "print(s.encryptionCalculate(5,-1))\n",
    "print(s.encryptionCalculate(-453166454,-1496361952))"
   ]
  },
  {
   "cell_type": "code",
   "execution_count": null,
   "metadata": {},
   "outputs": [],
   "source": []
  }
 ],
 "metadata": {
  "kernelspec": {
   "display_name": "base",
   "language": "python",
   "name": "python3"
  },
  "language_info": {
   "codemirror_mode": {
    "name": "ipython",
    "version": 3
   },
   "file_extension": ".py",
   "mimetype": "text/x-python",
   "name": "python",
   "nbconvert_exporter": "python",
   "pygments_lexer": "ipython3",
   "version": "3.9.17"
  }
 },
 "nbformat": 4,
 "nbformat_minor": 2
}
