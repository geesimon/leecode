{
 "cells": [
  {
   "cell_type": "markdown",
   "metadata": {},
   "source": [
    "### 寻找文件副本"
   ]
  },
  {
   "cell_type": "code",
   "execution_count": 1,
   "metadata": {},
   "outputs": [],
   "source": [
    "from typing import List\n",
    "\n",
    "class Solution:\n",
    "    def findRepeatDocument(self, documents: List[int]) -> int:\n",
    "        docs = set()\n",
    "        for d in documents:\n",
    "            if d in docs:\n",
    "                return d\n",
    "            else:\n",
    "                docs.add(d)\n",
    "        \n",
    "        return -1"
   ]
  },
  {
   "cell_type": "code",
   "execution_count": 2,
   "metadata": {},
   "outputs": [
    {
     "data": {
      "text/plain": [
       "5"
      ]
     },
     "execution_count": 2,
     "metadata": {},
     "output_type": "execute_result"
    }
   ],
   "source": [
    "s=Solution()\n",
    "s.findRepeatDocument([2, 5, 3, 0, 5, 0])"
   ]
  },
  {
   "cell_type": "markdown",
   "metadata": {},
   "source": [
    "#### Solution 2"
   ]
  },
  {
   "cell_type": "code",
   "execution_count": 29,
   "metadata": {},
   "outputs": [],
   "source": [
    "from typing import List\n",
    "\n",
    "class Solution:\n",
    "    def findRepeatDocument(self, documents: List[int]) -> int:\n",
    "        for i in range(len(documents)):\n",
    "            print(documents[i])\n",
    "            if documents[i] == i:\n",
    "                continue\n",
    "            elif documents[documents[i]] == documents[i]:\n",
    "                return documents[i]\n",
    "            else:\n",
    "                tmp = documents[i]\n",
    "                documents[i] = documents[documents[i]]\n",
    "                documents[tmp] = tmp\n",
    "                # documents[i],  documents[documents[i]] = documents[documents[i]], documents[i]\n",
    "                print(documents)\n",
    "        \n",
    "        return -1"
   ]
  },
  {
   "cell_type": "code",
   "execution_count": 30,
   "metadata": {},
   "outputs": [
    {
     "name": "stdout",
     "output_type": "stream",
     "text": [
      "3\n",
      "[1, 4, 2, 3, 1, 0]\n",
      "4\n",
      "[1, 1, 2, 3, 4, 0]\n",
      "2\n",
      "3\n",
      "4\n",
      "0\n",
      "[0, 1, 2, 3, 4, 1]\n",
      "-1\n"
     ]
    }
   ],
   "source": [
    "s=Solution()\n",
    "# print(s.findRepeatDocument([2, 5, 3, 0, 5, 0]))\n",
    "print(s.findRepeatDocument([3, 4, 2, 1, 1, 0]))"
   ]
  },
  {
   "cell_type": "code",
   "execution_count": null,
   "metadata": {},
   "outputs": [],
   "source": []
  }
 ],
 "metadata": {
  "kernelspec": {
   "display_name": "Python 3",
   "language": "python",
   "name": "python3"
  },
  "language_info": {
   "codemirror_mode": {
    "name": "ipython",
    "version": 3
   },
   "file_extension": ".py",
   "mimetype": "text/x-python",
   "name": "python",
   "nbconvert_exporter": "python",
   "pygments_lexer": "ipython3",
   "version": "3.10.9"
  }
 },
 "nbformat": 4,
 "nbformat_minor": 2
}
